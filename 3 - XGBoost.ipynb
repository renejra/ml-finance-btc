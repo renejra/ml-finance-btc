{
 "cells": [
  {
   "cell_type": "markdown",
   "metadata": {},
   "source": [
    "# Machine Learning to forecast Bitcoin price movements\n",
    "# Part 4: XGBoost model\n",
    "\n",
    "In this notebook, we will deploy a high-level XGBoost model to forecast Bitcoin price and predict price movements. More information on the data preprocessing, and labels used can be found in the [`data sourcing and preparation notebook`](./1%20-%20Data%20sourcing%20and%20preparation.ipynb). We will be using as a bechmark our own adaptation of Udacity's [Predicting Boston Housing Prices example](https://github.com/udacity/sagemaker-deployment/blob/master/Tutorials/Boston%20Housing%20-%20XGBoost%20(Deploy)%20-%20High%20Level.ipynb) and the [Hyperparameter tuning example](https://github.com/udacity/sagemaker-deployment/blob/master/Tutorials/Boston%20Housing%20-%20XGBoost%20(Hyperparameter%20Tuning)%20-%20High%20Level.ipynb). The data infeeds and produced outputs, can be found in the `xg-boost/` folder.\n",
    "\n",
    "We will start by importing necessary libraries and setting up our AWS session and role."
   ]
  },
  {
   "cell_type": "code",
   "execution_count": 1,
   "metadata": {},
   "outputs": [],
   "source": [
    "%matplotlib inline\n",
    "\n",
    "import os\n",
    "import numpy as np\n",
    "import pandas as pd\n",
    "import matplotlib.pyplot as plt\n",
    "\n",
    "pd.set_option('max_rows', None)\n",
    "pd.set_option('max_columns', None)"
   ]
  },
  {
   "cell_type": "code",
   "execution_count": 2,
   "metadata": {},
   "outputs": [
    {
     "name": "stdout",
     "output_type": "stream",
     "text": [
      "<sagemaker.session.Session object at 0x7f962a1abdd8>\n",
      "arn:aws:iam::724888201472:role/service-role/AmazonSageMaker-ExecutionRole-20201115T171901\n"
     ]
    }
   ],
   "source": [
    "import sagemaker\n",
    "from sagemaker import get_execution_role\n",
    "from sagemaker.amazon.amazon_estimator import get_image_uri\n",
    "from sagemaker.predictor import csv_serializer\n",
    "\n",
    "session = sagemaker.Session()\n",
    "role = get_execution_role()\n",
    "\n",
    "print(session)\n",
    "print(role)"
   ]
  },
  {
   "cell_type": "markdown",
   "metadata": {},
   "source": [
    "## Data preprocessing\n",
    "\n",
    "We will use the previously gotten features from the PCA model to feed in our XGBoost algorithm. Since **Amazon's XGBoost expects the data to be featured in a certain format** and uploaded to an S3 bucket, we will do this in the following lines of code."
   ]
  },
  {
   "cell_type": "code",
   "execution_count": 3,
   "metadata": {},
   "outputs": [
    {
     "name": "stdout",
     "output_type": "stream",
     "text": [
      "      component_1  component_2  component_3  component_4  component_5  \\\n",
      "1835    -0.969989     0.277599     1.156140    -0.504672     0.093084   \n",
      "1836    -1.021743    -0.387731     0.668942    -1.065100     0.019552   \n",
      "1837    -1.014022    -0.547216     0.744433    -0.930917    -0.007225   \n",
      "1838    -0.982989    -0.201810     0.978394    -0.659704     0.025067   \n",
      "1839    -1.002244    -0.653113     0.796150    -0.846429    -0.014283   \n",
      "\n",
      "      component_6  \n",
      "1835     0.751546  \n",
      "1836     0.723636  \n",
      "1837     0.700540  \n",
      "1838     0.725947  \n",
      "1839     0.686890  \n",
      "     component_1  component_2  component_3  component_4  component_5  \\\n",
      "865    -1.036036    -0.093710     1.092969    -0.883055    -0.580162   \n",
      "866    -1.036391    -0.093952     1.088533    -0.877775    -0.580377   \n",
      "867    -1.043998    -0.094252     1.107241    -0.897663    -0.571674   \n",
      "868    -1.070880    -0.092534     1.132252    -0.923670    -0.555636   \n",
      "869    -1.057992    -0.091633     1.120212    -0.912363    -0.566596   \n",
      "\n",
      "     component_6  \n",
      "865     1.599953  \n",
      "866     1.595583  \n",
      "867     1.620019  \n",
      "868     1.618505  \n",
      "869     1.624983  \n",
      "       r_label  c_label\n",
      "1835  0.546082      0.0\n",
      "1836  0.503604      0.0\n",
      "1837  0.505318      0.5\n",
      "1838  0.470874      0.0\n",
      "1839  0.516555      1.0\n",
      "      r_label  c_label\n",
      "865  0.644735      0.5\n",
      "866  0.644735      0.5\n",
      "867  0.644735      0.5\n",
      "868  0.644735      0.5\n",
      "869  1.000000      1.0\n",
      "          r_label  c_label\n",
      "865  18699.767578      1.0\n",
      "866  18699.767578      1.0\n",
      "867  18699.767578      1.0\n",
      "868  18699.767578      1.0\n",
      "869  29003.685547      2.0\n",
      "           r_label  c_label\n",
      "1835  15838.499023      0.0\n",
      "1836  14606.493164      0.0\n",
      "1837  14656.201172      1.0\n",
      "1838  13657.208984      0.0\n",
      "1839  14982.103516      2.0\n"
     ]
    }
   ],
   "source": [
    "pca_list = ['train','test']\n",
    "store_list = ['train_ny','test_ny', 'test_y', 'train_y']\n",
    "data = {}\n",
    "\n",
    "for i in range(len(pca_list)):\n",
    "    data[pca_list[i]] = pd.read_csv('pca/'+pca_list[i]+'.csv')\n",
    "    data[pca_list[i]].drop(columns=['Unnamed: 0'], inplace=True)\n",
    "\n",
    "    \n",
    "for i in range(len(store_list)):\n",
    "    data[store_list[i]] = pd.read_csv('data/'+store_list[i]+'.csv')\n",
    "    data[store_list[i]].drop(columns=['Date'], inplace=True)\n",
    "\n",
    "for x in data:\n",
    "    print(data[x].tail())"
   ]
  },
  {
   "cell_type": "code",
   "execution_count": 4,
   "metadata": {},
   "outputs": [
    {
     "data": {
      "text/plain": [
       "1835    0.546082\n",
       "1836    0.503604\n",
       "1837    0.505318\n",
       "1838    0.470874\n",
       "1839    0.516555\n",
       "Name: r_label, dtype: float64"
      ]
     },
     "execution_count": 4,
     "metadata": {},
     "output_type": "execute_result"
    }
   ],
   "source": [
    "data['train_ny']['r_label'].tail()"
   ]
  },
  {
   "cell_type": "code",
   "execution_count": 5,
   "metadata": {},
   "outputs": [],
   "source": [
    "# This is our local data directory\n",
    "data_dir = './xg-boost/'\n",
    "if not os.path.exists(data_dir):\n",
    "    os.makedirs(data_dir)"
   ]
  },
  {
   "cell_type": "markdown",
   "metadata": {},
   "source": [
    "On validation and training datasets, **Amazon expects the first column to be the target variable** and we **should not include index nor headers** in the csv's we will use. Additionally, we will split the test data into validation and testing, to make sure we are able to do hyperparameter tuning afterwards. On the testing data sets, no labels should be included."
   ]
  },
  {
   "cell_type": "code",
   "execution_count": 6,
   "metadata": {},
   "outputs": [],
   "source": [
    "# Forecasting/Regression\n",
    "data['test'].iloc[400:].to_csv(os.path.join(data_dir, 'rtest.csv'), header=False, index=False)\n",
    "pd.concat([data['test_ny']['r_label'].iloc[:400], data['test'].iloc[:400]], axis=1).to_csv(os.path.join(data_dir, 'rvalidation.csv'), header=False, index=False)\n",
    "pd.concat([data['train_ny']['r_label'], data['train']], axis=1).to_csv(os.path.join(data_dir, 'rtrain.csv'), header=False, index=False)\n",
    "\n",
    "# Classification\n",
    "data['test'].iloc[400:].to_csv(os.path.join(data_dir, 'ctest.csv'), header=False, index=False)\n",
    "pd.concat([data['test_y']['c_label'].iloc[:400], data['test'].iloc[:400]], axis=1).to_csv(os.path.join(data_dir, 'cvalidation.csv'), header=False, index=False)\n",
    "pd.concat([data['train_y']['c_label'], data['train']], axis=1).to_csv(os.path.join(data_dir, 'ctrain.csv'), header=False, index=False)"
   ]
  },
  {
   "cell_type": "code",
   "execution_count": 7,
   "metadata": {},
   "outputs": [],
   "source": [
    "# Uploading to S3\n",
    "prefix = 'capstone-xgboost'\n",
    "\n",
    "r_test_location = session.upload_data(os.path.join(data_dir, 'rtest.csv'), key_prefix=prefix)\n",
    "r_val_location = session.upload_data(os.path.join(data_dir, 'rvalidation.csv'), key_prefix=prefix)\n",
    "r_train_location = session.upload_data(os.path.join(data_dir, 'rtrain.csv'), key_prefix=prefix)\n",
    "\n",
    "c_test_location = session.upload_data(os.path.join(data_dir, 'ctest.csv'), key_prefix=prefix)\n",
    "c_val_location = session.upload_data(os.path.join(data_dir, 'cvalidation.csv'), key_prefix=prefix)\n",
    "c_train_location = session.upload_data(os.path.join(data_dir, 'ctrain.csv'), key_prefix=prefix)"
   ]
  },
  {
   "cell_type": "markdown",
   "metadata": {},
   "source": [
    "## Training the XGBoost model - Price Forecasting\n",
    "\n",
    "We will use the high-level Sagemaker API to do the training job using the XGBoost model, but it is possible to use any other algorithm found in [this list](https://docs.aws.amazon.com/sagemaker/latest/dg/sagemaker-algo-docker-registry-paths.html). Since this is a regression problem, we will use `reg:squarederror` as an objective. To **select the initial values of the hyperparameters and perform hyperparameter tuning**, we will use [Amazon's recommended seeds and ranges](https://docs.aws.amazon.com/sagemaker/latest/dg/xgboost_hyperparameters.html) for the XGBoost algorithm."
   ]
  },
  {
   "cell_type": "code",
   "execution_count": 8,
   "metadata": {},
   "outputs": [],
   "source": [
    "# Construct the image of the training container\n",
    "container = sagemaker.image_uris.retrieve(\"xgboost\", session.boto_region_name, \"1.2-1\")\n",
    "\n",
    "# Now that we know which container to use, we can construct the estimator object.\n",
    "xgb = sagemaker.estimator.Estimator(container, \n",
    "                                    role,      \n",
    "                                    instance_count=1, \n",
    "                                    instance_type='ml.m4.xlarge', \n",
    "                                    output_path='s3://{}/{}/output'.format(session.default_bucket(), prefix),\n",
    "                                    sagemaker_session=session)"
   ]
  },
  {
   "cell_type": "code",
   "execution_count": 9,
   "metadata": {},
   "outputs": [],
   "source": [
    "# Now we set our hyperparameters\n",
    "xgb.set_hyperparameters(max_depth=5,\n",
    "                        eta=0.1,\n",
    "                        gamma=0.1,\n",
    "                        min_child_weight=6,\n",
    "                        subsample=0.2,\n",
    "                        objective='reg:squarederror',\n",
    "                        early_stopping_rounds=10,\n",
    "                        num_round=200)"
   ]
  },
  {
   "cell_type": "markdown",
   "metadata": {},
   "source": [
    "In the following cells, we will perform hyperparameter tuning using `sagemaker tuner` library. As the objective metric, **we will minimize `validation:rmse`** (root mean square error) which is the recommended validation metric for our chosen objective. All ranges stated below, are an intersection of Amazon's recommendation (mentioned above), plus our expert hypothesis taking into account [other recommendations](https://kevinvecmanis.io/machine%20learning/hyperparameter%20tuning/dataviz/python/2019/05/11/XGBoost-Tuning-Visual-Guide.html#introduction). "
   ]
  },
  {
   "cell_type": "code",
   "execution_count": 10,
   "metadata": {},
   "outputs": [],
   "source": [
    "from sagemaker.tuner import IntegerParameter, ContinuousParameter, HyperparameterTuner\n",
    "\n",
    "xgb_hyperparameter_tuner = HyperparameterTuner(estimator = xgb, \n",
    "                                               objective_metric_name = 'validation:rmse', \n",
    "                                               objective_type = 'Minimize', \n",
    "                                               max_jobs = 20, \n",
    "                                               max_parallel_jobs = 3, \n",
    "                                               hyperparameter_ranges = {\n",
    "                                                    'eta'      : ContinuousParameter(0.1, 0.5),\n",
    "                                                    'alpha': ContinuousParameter(0.1, 750),\n",
    "                                                    'min_child_weight': IntegerParameter(1, 120),\n",
    "                                                    'subsample': ContinuousParameter(0.1,0.8),\n",
    "                                                    'num_round': IntegerParameter(1,4000)\n",
    "                                               })"
   ]
  },
  {
   "cell_type": "code",
   "execution_count": 11,
   "metadata": {},
   "outputs": [
    {
     "name": "stdout",
     "output_type": "stream",
     "text": [
      "........................................................................................................................................................................................................................................................................................................................!\n"
     ]
    }
   ],
   "source": [
    "# Now we pass in our training and validation input, specifying the type of data.\n",
    "\n",
    "s3_input_train = sagemaker.TrainingInput(s3_data=r_train_location, content_type='csv')\n",
    "s3_input_validation = sagemaker.TrainingInput(s3_data=r_val_location, content_type='csv')\n",
    "\n",
    "xgb_hyperparameter_tuner.fit({'train': s3_input_train, 'validation': s3_input_validation})"
   ]
  },
  {
   "cell_type": "code",
   "execution_count": 12,
   "metadata": {},
   "outputs": [
    {
     "name": "stdout",
     "output_type": "stream",
     "text": [
      "!\n"
     ]
    }
   ],
   "source": [
    "xgb_hyperparameter_tuner.wait()"
   ]
  },
  {
   "cell_type": "code",
   "execution_count": 13,
   "metadata": {},
   "outputs": [
    {
     "data": {
      "text/plain": [
       "'sagemaker-xgboost-201231-1150-010-9c871376'"
      ]
     },
     "execution_count": 13,
     "metadata": {},
     "output_type": "execute_result"
    }
   ],
   "source": [
    "xgb_hyperparameter_tuner.best_training_job()"
   ]
  },
  {
   "cell_type": "code",
   "execution_count": 14,
   "metadata": {},
   "outputs": [
    {
     "name": "stdout",
     "output_type": "stream",
     "text": [
      "\n",
      "2020-12-31 12:05:30 Starting - Preparing the instances for training\n",
      "2020-12-31 12:05:30 Downloading - Downloading input data\n",
      "2020-12-31 12:05:30 Training - Training image download completed. Training in progress.\n",
      "2020-12-31 12:05:30 Uploading - Uploading generated training model\n",
      "2020-12-31 12:05:30 Completed - Training job completed\n"
     ]
    }
   ],
   "source": [
    "xgb_attached = sagemaker.estimator.Estimator.attach(xgb_hyperparameter_tuner.best_training_job())"
   ]
  },
  {
   "cell_type": "markdown",
   "metadata": {},
   "source": [
    "## Model testing\n",
    "Here we will do a batch transform job to test our trained model, over the test dataset and see how it performs. For this we first instantiate a transformer and then pass in our feed dataset for the training (and hyperparameter tuning) job."
   ]
  },
  {
   "cell_type": "code",
   "execution_count": 15,
   "metadata": {},
   "outputs": [],
   "source": [
    "xgb_transformer = xgb_attached.transformer(instance_count = 1, instance_type = 'ml.m4.xlarge')"
   ]
  },
  {
   "cell_type": "code",
   "execution_count": 16,
   "metadata": {},
   "outputs": [
    {
     "name": "stdout",
     "output_type": "stream",
     "text": [
      "................................\u001b[34m[2020-12-31:12:22:29:INFO] No GPUs detected (normal if no gpus installed)\u001b[0m\n",
      "\u001b[34m[2020-12-31:12:22:29:INFO] No GPUs detected (normal if no gpus installed)\u001b[0m\n",
      "\u001b[34m[2020-12-31:12:22:29:INFO] nginx config: \u001b[0m\n",
      "\u001b[34mworker_processes auto;\u001b[0m\n",
      "\u001b[34mdaemon off;\u001b[0m\n",
      "\u001b[34mpid /tmp/nginx.pid;\u001b[0m\n",
      "\u001b[34merror_log  /dev/stderr;\n",
      "\u001b[0m\n",
      "\u001b[34mworker_rlimit_nofile 4096;\n",
      "\u001b[0m\n",
      "\u001b[34mevents {\n",
      "  worker_connections 2048;\u001b[0m\n",
      "\u001b[34m}\n",
      "\u001b[0m\n",
      "\u001b[34mhttp {\n",
      "  include /etc/nginx/mime.types;\n",
      "  default_type application/octet-stream;\n",
      "  access_log /dev/stdout combined;\n",
      "\n",
      "  upstream gunicorn {\n",
      "    server unix:/tmp/gunicorn.sock;\n",
      "  }\n",
      "\n",
      "  server {\n",
      "    listen 8080 deferred;\n",
      "    client_max_body_size 0;\n",
      "\n",
      "    keepalive_timeout 3;\n",
      "\n",
      "    location ~ ^/(ping|invocations|execution-parameters) {\n",
      "      proxy_set_header X-Forwarded-For $proxy_add_x_forwarded_for;\n",
      "      proxy_set_header Host $http_host;\n",
      "      proxy_redirect off;\n",
      "      proxy_read_timeout 60s;\n",
      "      proxy_pass http://gunicorn;\n",
      "    }\n",
      "\n",
      "    location / {\n",
      "      return 404 \"{}\";\n",
      "    }\n",
      "\n",
      "  }\u001b[0m\n",
      "\u001b[34m}\n",
      "\n",
      "\u001b[0m\n",
      "\u001b[34m2020/12/31 12:22:29 [crit] 21#21: *1 connect() to unix:/tmp/gunicorn.sock failed (2: No such file or directory) while connecting to upstream, client: 169.254.255.130, server: , request: \"GET /ping HTTP/1.1\", upstream: \"http://unix:/tmp/gunicorn.sock:/ping\", host: \"169.254.255.131:8080\"\u001b[0m\n",
      "\u001b[34m169.254.255.130 - - [31/Dec/2020:12:22:29 +0000] \"GET /ping HTTP/1.1\" 502 182 \"-\" \"Go-http-client/1.1\"\u001b[0m\n",
      "\u001b[34m2020/12/31 12:22:30 [crit] 21#21: *3 connect() to unix:/tmp/gunicorn.sock failed (2: No such file or directory) while connecting to upstream, client: 169.254.255.130, server: , request: \"GET /ping HTTP/1.1\", upstream: \"http://unix:/tmp/gunicorn.sock:/ping\", host: \"169.254.255.131:8080\"\u001b[0m\n",
      "\u001b[34m169.254.255.130 - - [31/Dec/2020:12:22:30 +0000] \"GET /ping HTTP/1.1\" 502 182 \"-\" \"Go-http-client/1.1\"\u001b[0m\n",
      "\u001b[34m[2020-12-31 12:22:30 +0000] [19] [INFO] Starting gunicorn 19.10.0\u001b[0m\n",
      "\u001b[34m[2020-12-31 12:22:30 +0000] [19] [INFO] Listening at: unix:/tmp/gunicorn.sock (19)\u001b[0m\n",
      "\u001b[34m[2020-12-31 12:22:30 +0000] [19] [INFO] Using worker: gevent\u001b[0m\n",
      "\u001b[34m[2020-12-31 12:22:30 +0000] [26] [INFO] Booting worker with pid: 26\u001b[0m\n",
      "\u001b[34m[2020-12-31 12:22:30 +0000] [27] [INFO] Booting worker with pid: 27\u001b[0m\n",
      "\u001b[34m[2020-12-31 12:22:30 +0000] [31] [INFO] Booting worker with pid: 31\u001b[0m\n",
      "\u001b[34m[2020-12-31 12:22:30 +0000] [32] [INFO] Booting worker with pid: 32\u001b[0m\n",
      "\u001b[34m[2020-12-31:12:22:31:INFO] No GPUs detected (normal if no gpus installed)\u001b[0m\n",
      "\u001b[34m169.254.255.130 - - [31/Dec/2020:12:22:31 +0000] \"GET /ping HTTP/1.1\" 200 0 \"-\" \"Go-http-client/1.1\"\u001b[0m\n",
      "\u001b[34m169.254.255.130 - - [31/Dec/2020:12:22:31 +0000] \"GET /execution-parameters HTTP/1.1\" 200 84 \"-\" \"Go-http-client/1.1\"\u001b[0m\n",
      "\u001b[34m[2020-12-31:12:22:32:INFO] Determined delimiter of CSV input is ','\u001b[0m\n",
      "\u001b[34m169.254.255.130 - - [31/Dec/2020:12:22:32 +0000] \"POST /invocations HTTP/1.1\" 200 9005 \"-\" \"Go-http-client/1.1\"\u001b[0m\n",
      "\n",
      "\u001b[32m2020-12-31T12:22:31.980:[sagemaker logs]: MaxConcurrentTransforms=4, MaxPayloadInMB=6, BatchStrategy=MULTI_RECORD\u001b[0m\n"
     ]
    }
   ],
   "source": [
    "xgb_transformer.transform(r_test_location, content_type='text/csv')"
   ]
  },
  {
   "cell_type": "code",
   "execution_count": 17,
   "metadata": {},
   "outputs": [
    {
     "name": "stdout",
     "output_type": "stream",
     "text": [
      "download: s3://sagemaker-eu-central-1-724888201472/sagemaker-xgboost-2020-12-31-12-17-16-745/rtest.csv.out to xg-boost/rtest.csv.out\n"
     ]
    }
   ],
   "source": [
    "!aws s3 cp --recursive $xgb_transformer.output_path $data_dir\n",
    "Y_pred = pd.read_csv(os.path.join(data_dir, 'rtest.csv.out'), header=None)"
   ]
  },
  {
   "cell_type": "code",
   "execution_count": 18,
   "metadata": {},
   "outputs": [
    {
     "data": {
      "image/png": "[encoded data removed]",
      "text/plain": [
       "<Figure size 864x432 with 1 Axes>"
      ]
     },
     "metadata": {
      "needs_background": "light"
     },
     "output_type": "display_data"
    }
   ],
   "source": [
    "plt.figure(figsize=(12,6))\n",
    "plt.plot(Y_pred, label='Prediction')\n",
    "plt.plot(data['test_ny']['r_label'].iloc[400:].values, label='Actual')\n",
    "plt.title('Test results')\n",
    "plt.legend()\n",
    "plt.show()"
   ]
  },
  {
   "cell_type": "code",
   "execution_count": 19,
   "metadata": {},
   "outputs": [
    {
     "name": "stdout",
     "output_type": "stream",
     "text": [
      "RSME on test data: 0.1507606530293286\n"
     ]
    }
   ],
   "source": [
    "r_results = pd.concat([Y_pred, data['test_ny'].iloc[400:].reset_index().r_label], axis = 1)\n",
    "rmse = np.sqrt(np.square(r_results[0] - r_results['r_label']).mean())\n",
    "print('RSME on test data: '+str(rmse))"
   ]
  },
  {
   "cell_type": "markdown",
   "metadata": {},
   "source": [
    "Unfortunately, **although RSME is at 0.15, results in the test dataset doesn't seem very good if we consider the obtained curve**, and we will discuss probable reasons for this in the discussion section below. We will compare these results with the Neural Network model, and see which one performs better in the end.\n",
    "\n",
    "# Price movement predictions (classifier)\n",
    "## Training the model\n",
    "Now we will perform similar steps as before, but to predict price movements and trading signals (buy, sell, keep out). We also start by instantiating an estimator and a HyperparameterTuner, passing in recommended objective and hyperparameter ranges, so Sagemaker we can pick the best performing job in the end. For this problem, **we will use `multi:softmax` as an objective**, since it is reported to perform well on multi-class classification problems. In our case, this is adequate, as we want to classify 'sell' (0), 'keep out' (1) and 'buy' (2) signals. "
   ]
  },
  {
   "cell_type": "code",
   "execution_count": 37,
   "metadata": {},
   "outputs": [],
   "source": [
    "# Construct the image of the training container\n",
    "container_c = sagemaker.image_uris.retrieve(\"xgboost\", session.boto_region_name, \"1.2-1\")\n",
    "\n",
    "# Now that we know which container to use, we can construct the estimator object.\n",
    "xgb_c = sagemaker.estimator.Estimator(container_c, \n",
    "                                    role,      \n",
    "                                    instance_count=1, \n",
    "                                    instance_type='ml.m4.xlarge', \n",
    "                                    output_path='s3://{}/{}/output'.format(session.default_bucket(), prefix),\n",
    "                                    sagemaker_session=session)"
   ]
  },
  {
   "cell_type": "code",
   "execution_count": 38,
   "metadata": {},
   "outputs": [],
   "source": [
    "# Now we set our hyperparameters\n",
    "xgb_c.set_hyperparameters(max_depth=5,\n",
    "                        eta=0.1,\n",
    "                        gamma=0.1,\n",
    "                        min_child_weight=6,\n",
    "                        subsample=0.2,\n",
    "                        objective='multi:softmax',\n",
    "                        early_stopping_rounds=10,\n",
    "                        num_class=3)"
   ]
  },
  {
   "cell_type": "code",
   "execution_count": 39,
   "metadata": {},
   "outputs": [],
   "source": [
    "from sagemaker.tuner import IntegerParameter, ContinuousParameter, HyperparameterTuner\n",
    "\n",
    "xgb_hyperparameter_tuner_c = HyperparameterTuner(estimator = xgb_c, \n",
    "                                               objective_metric_name = 'validation:accuracy', \n",
    "                                               objective_type = 'Maximize', \n",
    "                                               max_jobs = 20, \n",
    "                                               max_parallel_jobs = 3, \n",
    "                                               hyperparameter_ranges = {\n",
    "                                                    'eta'      : ContinuousParameter(0.1, 0.5),\n",
    "                                                    'alpha': ContinuousParameter(0.1, 750),\n",
    "                                                    'min_child_weight': IntegerParameter(1, 100),\n",
    "                                                    'subsample': ContinuousParameter(0.1,0.8),\n",
    "                                                    'num_round': IntegerParameter(1,4000)\n",
    "                                               })"
   ]
  },
  {
   "cell_type": "code",
   "execution_count": 40,
   "metadata": {},
   "outputs": [
    {
     "name": "stdout",
     "output_type": "stream",
     "text": [
      ".........................................................................................................................................................................................................................................................................................................................!\n"
     ]
    }
   ],
   "source": [
    "# Now we pass in our training and validation input, specifying the type of data.\n",
    "\n",
    "s3_input_train_c = sagemaker.TrainingInput(s3_data=c_train_location, content_type='csv')\n",
    "s3_input_validation_c = sagemaker.TrainingInput(s3_data=c_val_location, content_type='csv')\n",
    "\n",
    "xgb_hyperparameter_tuner_c.fit({'train': s3_input_train_c, 'validation': s3_input_validation_c})"
   ]
  },
  {
   "cell_type": "code",
   "execution_count": 41,
   "metadata": {},
   "outputs": [
    {
     "name": "stdout",
     "output_type": "stream",
     "text": [
      "!\n"
     ]
    }
   ],
   "source": [
    "xgb_hyperparameter_tuner_c.wait()"
   ]
  },
  {
   "cell_type": "code",
   "execution_count": 42,
   "metadata": {},
   "outputs": [
    {
     "data": {
      "text/plain": [
       "'sagemaker-xgboost-201231-1301-001-14ce7ebb'"
      ]
     },
     "execution_count": 42,
     "metadata": {},
     "output_type": "execute_result"
    }
   ],
   "source": [
    "xgb_hyperparameter_tuner_c.best_training_job()"
   ]
  },
  {
   "cell_type": "code",
   "execution_count": 43,
   "metadata": {},
   "outputs": [
    {
     "name": "stdout",
     "output_type": "stream",
     "text": [
      "\n",
      "2020-12-31 13:04:51 Starting - Preparing the instances for training\n",
      "2020-12-31 13:04:51 Downloading - Downloading input data\n",
      "2020-12-31 13:04:51 Training - Training image download completed. Training in progress.\n",
      "2020-12-31 13:04:51 Uploading - Uploading generated training model\n",
      "2020-12-31 13:04:51 Completed - Training job completed\n"
     ]
    }
   ],
   "source": [
    "xgb_attached_c = sagemaker.estimator.Estimator.attach(xgb_hyperparameter_tuner_c.best_training_job())"
   ]
  },
  {
   "cell_type": "markdown",
   "metadata": {},
   "source": [
    "# Testing the classification model\n",
    "Similarly, we want to test on the testing dataset an see how the model performs. We expect to get back a vector with the predicted labels for all testing datapoints, which we will compare to the actual labels and see how accurate the prediction was."
   ]
  },
  {
   "cell_type": "code",
   "execution_count": 44,
   "metadata": {},
   "outputs": [],
   "source": [
    "xgb_transformer_c = xgb_attached_c.transformer(instance_count = 1, instance_type = 'ml.m4.xlarge')"
   ]
  },
  {
   "cell_type": "code",
   "execution_count": 45,
   "metadata": {},
   "outputs": [
    {
     "name": "stdout",
     "output_type": "stream",
     "text": [
      ".................................\n",
      "\u001b[32m2020-12-31T13:32:59.837:[sagemaker logs]: MaxConcurrentTransforms=4, MaxPayloadInMB=6, BatchStrategy=MULTI_RECORD\u001b[0m\n",
      "\u001b[34m[2020-12-31:13:32:57:INFO] No GPUs detected (normal if no gpus installed)\u001b[0m\n",
      "\u001b[35m[2020-12-31:13:32:57:INFO] No GPUs detected (normal if no gpus installed)\u001b[0m\n",
      "\u001b[34m[2020-12-31:13:32:57:INFO] No GPUs detected (normal if no gpus installed)\u001b[0m\n",
      "\u001b[34m[2020-12-31:13:32:57:INFO] nginx config: \u001b[0m\n",
      "\u001b[34mworker_processes auto;\u001b[0m\n",
      "\u001b[34mdaemon off;\u001b[0m\n",
      "\u001b[34mpid /tmp/nginx.pid;\u001b[0m\n",
      "\u001b[34merror_log  /dev/stderr;\n",
      "\u001b[0m\n",
      "\u001b[34mworker_rlimit_nofile 4096;\n",
      "\u001b[0m\n",
      "\u001b[34mevents {\n",
      "  worker_connections 2048;\u001b[0m\n",
      "\u001b[34m}\n",
      "\u001b[0m\n",
      "\u001b[35m[2020-12-31:13:32:57:INFO] No GPUs detected (normal if no gpus installed)\u001b[0m\n",
      "\u001b[35m[2020-12-31:13:32:57:INFO] nginx config: \u001b[0m\n",
      "\u001b[35mworker_processes auto;\u001b[0m\n",
      "\u001b[35mdaemon off;\u001b[0m\n",
      "\u001b[35mpid /tmp/nginx.pid;\u001b[0m\n",
      "\u001b[35merror_log  /dev/stderr;\n",
      "\u001b[0m\n",
      "\u001b[35mworker_rlimit_nofile 4096;\n",
      "\u001b[0m\n",
      "\u001b[35mevents {\n",
      "  worker_connections 2048;\u001b[0m\n",
      "\u001b[35m}\n",
      "\u001b[0m\n",
      "\u001b[34mhttp {\n",
      "  include /etc/nginx/mime.types;\n",
      "  default_type application/octet-stream;\n",
      "  access_log /dev/stdout combined;\n",
      "\n",
      "  upstream gunicorn {\n",
      "    server unix:/tmp/gunicorn.sock;\n",
      "  }\n",
      "\n",
      "  server {\n",
      "    listen 8080 deferred;\n",
      "    client_max_body_size 0;\n",
      "\n",
      "    keepalive_timeout 3;\n",
      "\n",
      "    location ~ ^/(ping|invocations|execution-parameters) {\n",
      "      proxy_set_header X-Forwarded-For $proxy_add_x_forwarded_for;\n",
      "      proxy_set_header Host $http_host;\n",
      "      proxy_redirect off;\n",
      "      proxy_read_timeout 60s;\n",
      "      proxy_pass http://gunicorn;\n",
      "    }\n",
      "\n",
      "    location / {\n",
      "      return 404 \"{}\";\n",
      "    }\n",
      "\n",
      "  }\u001b[0m\n",
      "\u001b[34m}\n",
      "\n",
      "\u001b[0m\n",
      "\u001b[34m2020/12/31 13:32:57 [crit] 18#18: *1 connect() to unix:/tmp/gunicorn.sock failed (2: No such file or directory) while connecting to upstream, client: 169.254.255.130, server: , request: \"GET /ping HTTP/1.1\", upstream: \"http://unix:/tmp/gunicorn.sock:/ping\", host: \"169.254.255.131:8080\"\u001b[0m\n",
      "\u001b[34m169.254.255.130 - - [31/Dec/2020:13:32:57 +0000] \"GET /ping HTTP/1.1\" 502 182 \"-\" \"Go-http-client/1.1\"\u001b[0m\n",
      "\u001b[34m2020/12/31 13:32:57 [crit] 18#18: *3 connect() to unix:/tmp/gunicorn.sock failed (2: No such file or directory) while connecting to upstream, client: 169.254.255.130, server: , request: \"GET /ping HTTP/1.1\", upstream: \"http://unix:/tmp/gunicorn.sock:/ping\", host: \"169.254.255.131:8080\"\u001b[0m\n",
      "\u001b[34m169.254.255.130 - - [31/Dec/2020:13:32:57 +0000] \"GET /ping HTTP/1.1\" 502 182 \"-\" \"Go-http-client/1.1\"\u001b[0m\n",
      "\u001b[34m[2020-12-31 13:32:57 +0000] [17] [INFO] Starting gunicorn 19.10.0\u001b[0m\n",
      "\u001b[34m[2020-12-31 13:32:57 +0000] [17] [INFO] Listening at: unix:/tmp/gunicorn.sock (17)\u001b[0m\n",
      "\u001b[34m[2020-12-31 13:32:57 +0000] [17] [INFO] Using worker: gevent\u001b[0m\n",
      "\u001b[34m[2020-12-31 13:32:57 +0000] [24] [INFO] Booting worker with pid: 24\u001b[0m\n",
      "\u001b[34m[2020-12-31 13:32:58 +0000] [25] [INFO] Booting worker with pid: 25\u001b[0m\n",
      "\u001b[34m[2020-12-31 13:32:58 +0000] [30] [INFO] Booting worker with pid: 30\u001b[0m\n",
      "\u001b[34m[2020-12-31 13:32:58 +0000] [29] [INFO] Booting worker with pid: 29\u001b[0m\n",
      "\u001b[34m[2020-12-31:13:32:59:INFO] No GPUs detected (normal if no gpus installed)\u001b[0m\n",
      "\u001b[34m169.254.255.130 - - [31/Dec/2020:13:32:59 +0000] \"GET /ping HTTP/1.1\" 200 0 \"-\" \"Go-http-client/1.1\"\u001b[0m\n",
      "\u001b[34m169.254.255.130 - - [31/Dec/2020:13:32:59 +0000] \"GET /execution-parameters HTTP/1.1\" 200 84 \"-\" \"Go-http-client/1.1\"\u001b[0m\n",
      "\u001b[35mhttp {\n",
      "  include /etc/nginx/mime.types;\n",
      "  default_type application/octet-stream;\n",
      "  access_log /dev/stdout combined;\n",
      "\n",
      "  upstream gunicorn {\n",
      "    server unix:/tmp/gunicorn.sock;\n",
      "  }\n",
      "\n",
      "  server {\n",
      "    listen 8080 deferred;\n",
      "    client_max_body_size 0;\n",
      "\n",
      "    keepalive_timeout 3;\n",
      "\n",
      "    location ~ ^/(ping|invocations|execution-parameters) {\n",
      "      proxy_set_header X-Forwarded-For $proxy_add_x_forwarded_for;\n",
      "      proxy_set_header Host $http_host;\n",
      "      proxy_redirect off;\n",
      "      proxy_read_timeout 60s;\n",
      "      proxy_pass http://gunicorn;\n",
      "    }\n",
      "\n",
      "    location / {\n",
      "      return 404 \"{}\";\n",
      "    }\n",
      "\n",
      "  }\u001b[0m\n",
      "\u001b[35m}\n",
      "\n",
      "\u001b[0m\n",
      "\u001b[35m2020/12/31 13:32:57 [crit] 18#18: *1 connect() to unix:/tmp/gunicorn.sock failed (2: No such file or directory) while connecting to upstream, client: 169.254.255.130, server: , request: \"GET /ping HTTP/1.1\", upstream: \"http://unix:/tmp/gunicorn.sock:/ping\", host: \"169.254.255.131:8080\"\u001b[0m\n",
      "\u001b[35m169.254.255.130 - - [31/Dec/2020:13:32:57 +0000] \"GET /ping HTTP/1.1\" 502 182 \"-\" \"Go-http-client/1.1\"\u001b[0m\n",
      "\u001b[35m2020/12/31 13:32:57 [crit] 18#18: *3 connect() to unix:/tmp/gunicorn.sock failed (2: No such file or directory) while connecting to upstream, client: 169.254.255.130, server: , request: \"GET /ping HTTP/1.1\", upstream: \"http://unix:/tmp/gunicorn.sock:/ping\", host: \"169.254.255.131:8080\"\u001b[0m\n",
      "\u001b[35m169.254.255.130 - - [31/Dec/2020:13:32:57 +0000] \"GET /ping HTTP/1.1\" 502 182 \"-\" \"Go-http-client/1.1\"\u001b[0m\n",
      "\u001b[35m[2020-12-31 13:32:57 +0000] [17] [INFO] Starting gunicorn 19.10.0\u001b[0m\n",
      "\u001b[35m[2020-12-31 13:32:57 +0000] [17] [INFO] Listening at: unix:/tmp/gunicorn.sock (17)\u001b[0m\n",
      "\u001b[35m[2020-12-31 13:32:57 +0000] [17] [INFO] Using worker: gevent\u001b[0m\n",
      "\u001b[35m[2020-12-31 13:32:57 +0000] [24] [INFO] Booting worker with pid: 24\u001b[0m\n",
      "\u001b[35m[2020-12-31 13:32:58 +0000] [25] [INFO] Booting worker with pid: 25\u001b[0m\n",
      "\u001b[35m[2020-12-31 13:32:58 +0000] [30] [INFO] Booting worker with pid: 30\u001b[0m\n",
      "\u001b[35m[2020-12-31 13:32:58 +0000] [29] [INFO] Booting worker with pid: 29\u001b[0m\n",
      "\u001b[35m[2020-12-31:13:32:59:INFO] No GPUs detected (normal if no gpus installed)\u001b[0m\n",
      "\u001b[35m169.254.255.130 - - [31/Dec/2020:13:32:59 +0000] \"GET /ping HTTP/1.1\" 200 0 \"-\" \"Go-http-client/1.1\"\u001b[0m\n",
      "\u001b[35m169.254.255.130 - - [31/Dec/2020:13:32:59 +0000] \"GET /execution-parameters HTTP/1.1\" 200 84 \"-\" \"Go-http-client/1.1\"\u001b[0m\n",
      "\u001b[34m[2020-12-31:13:32:59:INFO] Determined delimiter of CSV input is ','\u001b[0m\n",
      "\u001b[34m169.254.255.130 - - [31/Dec/2020:13:32:59 +0000] \"POST /invocations HTTP/1.1\" 200 1880 \"-\" \"Go-http-client/1.1\"\u001b[0m\n",
      "\u001b[35m[2020-12-31:13:32:59:INFO] Determined delimiter of CSV input is ','\u001b[0m\n",
      "\u001b[35m169.254.255.130 - - [31/Dec/2020:13:32:59 +0000] \"POST /invocations HTTP/1.1\" 200 1880 \"-\" \"Go-http-client/1.1\"\u001b[0m\n"
     ]
    }
   ],
   "source": [
    "xgb_transformer_c.transform(c_test_location, content_type='text/csv')"
   ]
  },
  {
   "cell_type": "code",
   "execution_count": 46,
   "metadata": {},
   "outputs": [
    {
     "name": "stdout",
     "output_type": "stream",
     "text": [
      "download: s3://sagemaker-eu-central-1-724888201472/sagemaker-xgboost-2020-12-31-13-27-38-888/ctest.csv.out to xg-boost/ctest.csv.out\n"
     ]
    }
   ],
   "source": [
    "!aws s3 cp --recursive $xgb_transformer_c.output_path $data_dir"
   ]
  },
  {
   "cell_type": "code",
   "execution_count": 47,
   "metadata": {},
   "outputs": [],
   "source": [
    "Y_pred_c = (pd.read_csv(os.path.join(data_dir, 'ctest.csv.out'), header=None).values)"
   ]
  },
  {
   "cell_type": "code",
   "execution_count": 48,
   "metadata": {},
   "outputs": [
    {
     "name": "stdout",
     "output_type": "stream",
     "text": [
      "Test passed!\n"
     ]
    }
   ],
   "source": [
    "# test that model generates the correct number of labels\n",
    "\n",
    "c_test_y = (data['test_y']['c_label'].iloc[400:].values) # labels\n",
    "\n",
    "assert len(Y_pred_c)==len(c_test_y), 'Unexpected number of predictions.'\n",
    "print('Test passed!')"
   ]
  },
  {
   "cell_type": "code",
   "execution_count": 49,
   "metadata": {},
   "outputs": [
    {
     "name": "stdout",
     "output_type": "stream",
     "text": [
      "Accuracy: 0.6021276595744681\n",
      "\n",
      "Predicted class labels: \n",
      "[[1. 1. 1. 1. 1. 1. 1. 1. 1. 1. 1. 1. 1. 1. 1. 1. 1. 1. 1. 1. 1. 1. 1. 1.\n",
      "  1. 1. 1. 1. 1. 1. 1. 1. 1. 1. 1. 1. 1. 1. 1. 1. 1. 1. 1. 1. 1. 1. 1. 1.\n",
      "  1. 1. 1. 1. 1. 1. 1. 1. 1. 1. 1. 1. 1. 1. 1. 1. 1. 1. 1. 1. 1. 1. 1. 1.\n",
      "  1. 1. 1. 1. 1. 1. 1. 1. 1. 1. 1. 1. 1. 1. 1. 1. 1. 1. 1. 1. 1. 1. 1. 1.\n",
      "  1. 1. 1. 1. 1. 1. 1. 1. 1. 1. 1. 1. 1. 1. 1. 1. 1. 1. 1. 1. 1. 1. 1. 1.\n",
      "  1. 1. 1. 1. 1. 1. 1. 1. 1. 1. 1. 1. 1. 1. 1. 1. 1. 1. 1. 1. 1. 1. 1. 1.\n",
      "  1. 1. 1. 1. 1. 1. 1. 1. 1. 1. 1. 1. 1. 1. 1. 1. 1. 1. 1. 1. 1. 1. 1. 1.\n",
      "  1. 1. 1. 1. 1. 1. 1. 1. 1. 1. 1. 1. 1. 1. 1. 1. 1. 1. 1. 1. 1. 1. 1. 1.\n",
      "  1. 1. 1. 1. 1. 1. 1. 1. 1. 1. 1. 1. 1. 1. 1. 1. 1. 1. 1. 1. 1. 1. 1. 1.\n",
      "  1. 1. 1. 1. 1. 1. 1. 1. 1. 1. 1. 1. 1. 1. 1. 1. 1. 1. 1. 1. 1. 1. 1. 1.\n",
      "  1. 1. 1. 1. 1. 1. 1. 1. 1. 1. 1. 1. 1. 1. 1. 1. 1. 1. 1. 1. 1. 1. 1. 1.\n",
      "  1. 1. 1. 1. 1. 1. 1. 1. 1. 1. 1. 1. 1. 1. 1. 1. 1. 1. 1. 1. 1. 1. 1. 1.\n",
      "  1. 1. 1. 1. 1. 1. 1. 1. 1. 1. 1. 1. 1. 1. 1. 1. 1. 1. 1. 1. 1. 1. 1. 1.\n",
      "  1. 1. 1. 1. 1. 1. 1. 1. 1. 1. 1. 1. 1. 1. 1. 1. 1. 1. 1. 1. 1. 1. 1. 1.\n",
      "  1. 1. 1. 1. 1. 1. 1. 1. 1. 1. 1. 1. 1. 1. 1. 1. 1. 1. 1. 1. 1. 1. 1. 1.\n",
      "  1. 1. 1. 1. 1. 1. 1. 1. 1. 1. 1. 1. 1. 1. 1. 1. 1. 1. 1. 1. 1. 1. 1. 1.\n",
      "  1. 1. 1. 1. 1. 1. 1. 1. 1. 1. 1. 1. 1. 1. 1. 1. 1. 1. 1. 1. 1. 1. 1. 1.\n",
      "  1. 1. 1. 1. 1. 1. 1. 1. 1. 1. 1. 1. 1. 1. 1. 1. 1. 1. 1. 1. 1. 1. 1. 1.\n",
      "  1. 1. 1. 1. 1. 1. 1. 1. 1. 1. 1. 1. 1. 1. 1. 1. 1. 1. 1. 1. 1. 1. 1. 1.\n",
      "  1. 1. 1. 1. 1. 1. 1. 1. 1. 1. 1. 1. 1. 1.]]\n",
      "\n",
      "True class labels: \n",
      "[2. 1. 2. 1. 2. 0. 1. 2. 2. 1. 2. 2. 2. 0. 2. 1. 0. 1. 2. 0. 0. 1. 2. 2.\n",
      " 0. 0. 2. 1. 0. 0. 1. 2. 1. 1. 0. 0. 1. 1. 1. 1. 0. 1. 2. 2. 1. 1. 2. 0.\n",
      " 2. 1. 1. 1. 0. 0. 0. 2. 1. 1. 2. 0. 0. 1. 2. 1. 1. 0. 0. 0. 1. 1. 2. 2.\n",
      " 1. 1. 0. 1. 1. 0. 1. 1. 1. 1. 1. 1. 1. 1. 1. 1. 0. 0. 0. 0. 1. 1. 1. 1.\n",
      " 1. 0. 1. 1. 1. 1. 2. 1. 0. 1. 1. 0. 0. 1. 0. 1. 2. 0. 0. 1. 2. 1. 2. 1.\n",
      " 0. 1. 1. 1. 1. 1. 1. 1. 0. 1. 1. 1. 1. 1. 0. 1. 0. 1. 0. 0. 0. 1. 0. 1.\n",
      " 2. 1. 2. 1. 0. 1. 1. 2. 1. 1. 0. 0. 1. 1. 1. 1. 0. 0. 2. 1. 1. 1. 1. 1.\n",
      " 1. 1. 1. 1. 1. 1. 1. 0. 2. 1. 2. 2. 1. 0. 2. 1. 1. 2. 1. 1. 2. 1. 0. 1.\n",
      " 1. 0. 1. 1. 2. 2. 1. 1. 0. 1. 1. 1. 2. 1. 1. 1. 1. 2. 1. 1. 1. 1. 0. 2.\n",
      " 0. 1. 1. 1. 1. 0. 0. 1. 1. 1. 1. 1. 1. 2. 1. 1. 0. 1. 1. 0. 2. 1. 0. 2.\n",
      " 1. 2. 1. 1. 2. 2. 1. 1. 0. 1. 1. 1. 2. 2. 1. 2. 1. 1. 1. 0. 1. 1. 1. 0.\n",
      " 2. 1. 1. 0. 1. 2. 2. 1. 1. 2. 1. 2. 0. 2. 1. 1. 1. 2. 2. 1. 1. 0. 2. 2.\n",
      " 2. 0. 1. 2. 1. 0. 0. 1. 1. 0. 1. 2. 2. 1. 1. 2. 0. 1. 1. 0. 1. 1. 1. 1.\n",
      " 0. 1. 1. 1. 1. 1. 1. 1. 1. 2. 1. 0. 1. 1. 1. 1. 1. 1. 1. 1. 1. 2. 1. 1.\n",
      " 0. 1. 1. 1. 1. 1. 1. 1. 1. 1. 2. 1. 1. 1. 1. 2. 1. 1. 1. 1. 1. 1. 1. 2.\n",
      " 1. 0. 1. 2. 0. 1. 1. 1. 1. 2. 0. 0. 1. 0. 1. 1. 0. 1. 0. 1. 1. 1. 2. 0.\n",
      " 0. 2. 1. 0. 1. 1. 1. 2. 1. 1. 1. 1. 0. 1. 0. 2. 1. 1. 1. 1. 0. 1. 1. 0.\n",
      " 1. 1. 1. 2. 1. 1. 1. 0. 2. 1. 2. 1. 1. 1. 2. 0. 1. 1. 1. 2. 1. 2. 1. 0.\n",
      " 1. 2. 2. 1. 2. 2. 1. 1. 2. 0. 2. 0. 0. 1. 2. 0. 1. 1. 0. 1. 1. 1. 1. 1.\n",
      " 1. 1. 1. 1. 1. 1. 1. 1. 1. 1. 1. 1. 1. 2.]\n"
     ]
    }
   ],
   "source": [
    "# compute the accuracy\n",
    "\n",
    "from sklearn.metrics import accuracy_score, precision_score, recall_score\n",
    "\n",
    "accuracy = accuracy_score(c_test_y, Y_pred_c)\n",
    "\n",
    "print(f'Accuracy: {accuracy}')\n",
    "\n",
    "print('\\nPredicted class labels: ')\n",
    "print(Y_pred_c.transpose())\n",
    "print('\\nTrue class labels: ')\n",
    "print(c_test_y)"
   ]
  },
  {
   "cell_type": "markdown",
   "metadata": {},
   "source": [
    "Unfortunately, the **accuracy of the model for the test dataset seems low, at 60%**, even after exploring different multi-label classification objectives. On top of this, the resulting labels are all \"keep out\" of the market for the whole testing data set, which is also not ideal. Before we perform any further analysis, we will first go on with the second model (neural networks) and compare this results amongst models.\n",
    "\n",
    "## Partial Discussion on XGBoost results\n",
    "\n",
    "We are seeing two problems with the XGBoost model. On forecasting, it seems that given the learning objective, it the curve has a step-wise sillouette, which although seems to reduce the RMSE, it is clearly not proving ideal on the test dataset. A similar thing happens with the classification model, only here it is providing a low accuracy for trading signals.\n",
    "\n",
    "The reason for these not optimal results, even with hyperparameter tuning might be due to the following:\n",
    "- Bitcoin prices are very volatile and have a clear tendency to go up, appreciated in logarithmic scale. This might be biasing both results.\n",
    "- The original dataset has some slightly noticeable errors that might be affecting the outcome.\n",
    "- The calculated features might be too different from what is expected, for example, we are mixing linear features with stochastic ones.\n",
    "- The reduced dataset could be improved to include more features, or at least the model could be tried out without the dimensionality reduction step to compare results.\n",
    "- Further hyperparameter tuning might be needed, specially in regards to a revision of the training objective, and validation ranges given for hyperparameter tuning jobs.\n",
    "\n",
    "## What's next\n",
    "\n",
    "The last step into our analysis is **performing the same analysis using a Neural Network and discussing both results obtained**."
   ]
  }
 ],
 "metadata": {
  "kernelspec": {
   "display_name": "conda_amazonei_mxnet_p36",
   "language": "python",
   "name": "conda_amazonei_mxnet_p36"
  },
  "language_info": {
   "codemirror_mode": {
    "name": "ipython",
    "version": 3
   },
   "file_extension": ".py",
   "mimetype": "text/x-python",
   "name": "python",
   "nbconvert_exporter": "python",
   "pygments_lexer": "ipython3",
   "version": "3.6.10"
  }
 },
 "nbformat": 4,
 "nbformat_minor": 4
}
