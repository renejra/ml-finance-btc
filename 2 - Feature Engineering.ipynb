{
 "cells": [
  {
   "cell_type": "markdown",
   "metadata": {},
   "source": [
    "# Machine Learning to forecast Bitcoin price movements\n",
    "# Part 2: Feature Engineering with PCA\n",
    "\n",
    "The objective of this notebook will be to **use Principal Component Analysis, to reduce the dimensionality of our dataset before using other models** to predict prices and daily returns. We will use as a benchmark for this exercise, our own adaptation from Udacity's [Machine Learning deployment case studies with AWS](https://github.com/udacity/ML_SageMaker_Studies) where PCA is used. After performin our model, we will create new data sets with reduced dimensionality, which will be prepared for use by follow-up models, in the `pca/` folder."
   ]
  },
  {
   "cell_type": "code",
   "execution_count": 1,
   "metadata": {},
   "outputs": [],
   "source": [
    "import pandas as pd\n",
    "import numpy as np\n",
    "\n",
    "pd.set_option('max_rows', None)\n",
    "pd.set_option('max_columns', None)"
   ]
  },
  {
   "cell_type": "markdown",
   "metadata": {},
   "source": [
    "We will start by sourcing the feedin datasets already prepared during our first notebook."
   ]
  },
  {
   "cell_type": "code",
   "execution_count": 2,
   "metadata": {},
   "outputs": [
    {
     "data": {
      "text/html": [
       "<div>\n",
       "<style scoped>\n",
       "    .dataframe tbody tr th:only-of-type {\n",
       "        vertical-align: middle;\n",
       "    }\n",
       "\n",
       "    .dataframe tbody tr th {\n",
       "        vertical-align: top;\n",
       "    }\n",
       "\n",
       "    .dataframe thead th {\n",
       "        text-align: right;\n",
       "    }\n",
       "</style>\n",
       "<table border=\"1\" class=\"dataframe\">\n",
       "  <thead>\n",
       "    <tr style=\"text-align: right;\">\n",
       "      <th></th>\n",
       "      <th>shangai</th>\n",
       "      <th>btc_cumulative</th>\n",
       "      <th>crude oil</th>\n",
       "      <th>euro</th>\n",
       "      <th>gold</th>\n",
       "      <th>silver</th>\n",
       "      <th>spy</th>\n",
       "      <th>ftse</th>\n",
       "      <th>hsi</th>\n",
       "      <th>nasdaq</th>\n",
       "      <th>nikkei</th>\n",
       "      <th>rates</th>\n",
       "      <th>MA4</th>\n",
       "      <th>MA96</th>\n",
       "      <th>MA200</th>\n",
       "      <th>stochRSI</th>\n",
       "      <th>RSI</th>\n",
       "      <th>btc_std_dev</th>\n",
       "      <th>std_dif</th>\n",
       "      <th>hashrate</th>\n",
       "      <th>difficulty</th>\n",
       "      <th>transactions</th>\n",
       "      <th>t_cost</th>\n",
       "      <th>returns</th>\n",
       "      <th>btc_close</th>\n",
       "      <th>returns_label</th>\n",
       "    </tr>\n",
       "  </thead>\n",
       "  <tbody>\n",
       "    <tr>\n",
       "      <th>1836</th>\n",
       "      <td>1.335581</td>\n",
       "      <td>199254.859149</td>\n",
       "      <td>0.783512</td>\n",
       "      <td>0.917545</td>\n",
       "      <td>1.086655</td>\n",
       "      <td>0.942170</td>\n",
       "      <td>2.490353</td>\n",
       "      <td>1.474798</td>\n",
       "      <td>1.472206</td>\n",
       "      <td>3.155380</td>\n",
       "      <td>2.433228</td>\n",
       "      <td>0.832321</td>\n",
       "      <td>14940.0</td>\n",
       "      <td>7436.0</td>\n",
       "      <td>4667.0</td>\n",
       "      <td>30.504255</td>\n",
       "      <td>59.348167</td>\n",
       "      <td>0.103823</td>\n",
       "      <td>16099.688169</td>\n",
       "      <td>1.257020e+07</td>\n",
       "      <td>1.873105e+12</td>\n",
       "      <td>285966876.0</td>\n",
       "      <td>146.595142</td>\n",
       "      <td>0.147804</td>\n",
       "      <td>16099.791992</td>\n",
       "      <td>2</td>\n",
       "    </tr>\n",
       "    <tr>\n",
       "      <th>1837</th>\n",
       "      <td>1.323324</td>\n",
       "      <td>196021.035153</td>\n",
       "      <td>0.779200</td>\n",
       "      <td>0.916414</td>\n",
       "      <td>1.089109</td>\n",
       "      <td>0.947816</td>\n",
       "      <td>2.491565</td>\n",
       "      <td>1.480236</td>\n",
       "      <td>1.473184</td>\n",
       "      <td>3.156785</td>\n",
       "      <td>2.435197</td>\n",
       "      <td>0.814440</td>\n",
       "      <td>14949.0</td>\n",
       "      <td>7558.0</td>\n",
       "      <td>4741.0</td>\n",
       "      <td>32.676696</td>\n",
       "      <td>57.450805</td>\n",
       "      <td>0.103798</td>\n",
       "      <td>15838.395225</td>\n",
       "      <td>1.322199e+07</td>\n",
       "      <td>1.873105e+12</td>\n",
       "      <td>286214316.0</td>\n",
       "      <td>161.686071</td>\n",
       "      <td>-0.016230</td>\n",
       "      <td>15838.499023</td>\n",
       "      <td>0</td>\n",
       "    </tr>\n",
       "    <tr>\n",
       "      <th>1838</th>\n",
       "      <td>1.331646</td>\n",
       "      <td>180773.437289</td>\n",
       "      <td>0.781813</td>\n",
       "      <td>0.919729</td>\n",
       "      <td>1.095117</td>\n",
       "      <td>0.959964</td>\n",
       "      <td>2.496691</td>\n",
       "      <td>1.480664</td>\n",
       "      <td>1.486426</td>\n",
       "      <td>3.161707</td>\n",
       "      <td>2.421674</td>\n",
       "      <td>0.820513</td>\n",
       "      <td>15143.0</td>\n",
       "      <td>7664.0</td>\n",
       "      <td>4809.0</td>\n",
       "      <td>12.651295</td>\n",
       "      <td>48.819515</td>\n",
       "      <td>0.103790</td>\n",
       "      <td>14606.389374</td>\n",
       "      <td>1.452556e+07</td>\n",
       "      <td>1.873105e+12</td>\n",
       "      <td>286521958.0</td>\n",
       "      <td>138.582976</td>\n",
       "      <td>-0.077786</td>\n",
       "      <td>14606.493164</td>\n",
       "      <td>0</td>\n",
       "    </tr>\n",
       "    <tr>\n",
       "      <th>1839</th>\n",
       "      <td>1.336004</td>\n",
       "      <td>181388.635430</td>\n",
       "      <td>0.789391</td>\n",
       "      <td>0.922892</td>\n",
       "      <td>1.105441</td>\n",
       "      <td>0.972967</td>\n",
       "      <td>2.487277</td>\n",
       "      <td>1.493270</td>\n",
       "      <td>1.489186</td>\n",
       "      <td>3.140431</td>\n",
       "      <td>2.419650</td>\n",
       "      <td>0.811404</td>\n",
       "      <td>15300.0</td>\n",
       "      <td>7772.0</td>\n",
       "      <td>4878.0</td>\n",
       "      <td>13.545089</td>\n",
       "      <td>49.204756</td>\n",
       "      <td>0.103764</td>\n",
       "      <td>14656.097408</td>\n",
       "      <td>1.387377e+07</td>\n",
       "      <td>1.873105e+12</td>\n",
       "      <td>286827011.0</td>\n",
       "      <td>124.845787</td>\n",
       "      <td>0.003403</td>\n",
       "      <td>14656.201172</td>\n",
       "      <td>2</td>\n",
       "    </tr>\n",
       "    <tr>\n",
       "      <th>1840</th>\n",
       "      <td>1.336004</td>\n",
       "      <td>169024.870251</td>\n",
       "      <td>0.789391</td>\n",
       "      <td>0.927778</td>\n",
       "      <td>1.105441</td>\n",
       "      <td>0.972967</td>\n",
       "      <td>2.487277</td>\n",
       "      <td>1.493270</td>\n",
       "      <td>1.489186</td>\n",
       "      <td>3.140431</td>\n",
       "      <td>2.419650</td>\n",
       "      <td>0.811404</td>\n",
       "      <td>14690.0</td>\n",
       "      <td>7871.0</td>\n",
       "      <td>4941.0</td>\n",
       "      <td>0.000000</td>\n",
       "      <td>41.913678</td>\n",
       "      <td>0.103752</td>\n",
       "      <td>13657.105232</td>\n",
       "      <td>1.517735e+07</td>\n",
       "      <td>1.873105e+12</td>\n",
       "      <td>287815664.0</td>\n",
       "      <td>125.970638</td>\n",
       "      <td>-0.068162</td>\n",
       "      <td>13657.208984</td>\n",
       "      <td>0</td>\n",
       "    </tr>\n",
       "  </tbody>\n",
       "</table>\n",
       "</div>"
      ],
      "text/plain": [
       "       shangai  btc_cumulative  crude oil      euro      gold    silver  \\\n",
       "1836  1.335581   199254.859149   0.783512  0.917545  1.086655  0.942170   \n",
       "1837  1.323324   196021.035153   0.779200  0.916414  1.089109  0.947816   \n",
       "1838  1.331646   180773.437289   0.781813  0.919729  1.095117  0.959964   \n",
       "1839  1.336004   181388.635430   0.789391  0.922892  1.105441  0.972967   \n",
       "1840  1.336004   169024.870251   0.789391  0.927778  1.105441  0.972967   \n",
       "\n",
       "           spy      ftse       hsi    nasdaq    nikkei     rates      MA4  \\\n",
       "1836  2.490353  1.474798  1.472206  3.155380  2.433228  0.832321  14940.0   \n",
       "1837  2.491565  1.480236  1.473184  3.156785  2.435197  0.814440  14949.0   \n",
       "1838  2.496691  1.480664  1.486426  3.161707  2.421674  0.820513  15143.0   \n",
       "1839  2.487277  1.493270  1.489186  3.140431  2.419650  0.811404  15300.0   \n",
       "1840  2.487277  1.493270  1.489186  3.140431  2.419650  0.811404  14690.0   \n",
       "\n",
       "        MA96   MA200   stochRSI        RSI  btc_std_dev       std_dif  \\\n",
       "1836  7436.0  4667.0  30.504255  59.348167     0.103823  16099.688169   \n",
       "1837  7558.0  4741.0  32.676696  57.450805     0.103798  15838.395225   \n",
       "1838  7664.0  4809.0  12.651295  48.819515     0.103790  14606.389374   \n",
       "1839  7772.0  4878.0  13.545089  49.204756     0.103764  14656.097408   \n",
       "1840  7871.0  4941.0   0.000000  41.913678     0.103752  13657.105232   \n",
       "\n",
       "          hashrate    difficulty  transactions      t_cost   returns  \\\n",
       "1836  1.257020e+07  1.873105e+12   285966876.0  146.595142  0.147804   \n",
       "1837  1.322199e+07  1.873105e+12   286214316.0  161.686071 -0.016230   \n",
       "1838  1.452556e+07  1.873105e+12   286521958.0  138.582976 -0.077786   \n",
       "1839  1.387377e+07  1.873105e+12   286827011.0  124.845787  0.003403   \n",
       "1840  1.517735e+07  1.873105e+12   287815664.0  125.970638 -0.068162   \n",
       "\n",
       "         btc_close  returns_label  \n",
       "1836  16099.791992              2  \n",
       "1837  15838.499023              0  \n",
       "1838  14606.493164              0  \n",
       "1839  14656.201172              2  \n",
       "1840  13657.208984              0  "
      ]
     },
     "execution_count": 2,
     "metadata": {},
     "output_type": "execute_result"
    }
   ],
   "source": [
    "store_list = ['train_x', 'train_nx', 'test_x', 'test_nx', 'train_y', 'train_ny', 'test_y', 'test_ny']\n",
    "data = {}\n",
    "\n",
    "for i in range(len(store_list)):\n",
    "    data[store_list[i]] = pd.read_csv('data/'+store_list[i]+'.csv')\n",
    "    data[store_list[i]].drop(columns=['Date'], inplace=True)\n",
    "\n",
    "data['train_x'].tail()"
   ]
  },
  {
   "cell_type": "markdown",
   "metadata": {},
   "source": [
    "## Model preparation\n",
    "\n",
    "To inialize our model, we first need to get Sagemaker session parameters, such as role, default bucket name and so on. We will also need to store our datasets in the default S3 bucket, in which we will create a folder for this excercise."
   ]
  },
  {
   "cell_type": "code",
   "execution_count": 3,
   "metadata": {},
   "outputs": [
    {
     "name": "stdout",
     "output_type": "stream",
     "text": [
      "arn:aws:iam::724888201472:role/service-role/AmazonSageMaker-ExecutionRole-20201115T171901\n"
     ]
    }
   ],
   "source": [
    "import sagemaker\n",
    "from sagemaker import get_execution_role\n",
    "\n",
    "session = sagemaker.Session() # store the current SageMaker session\n",
    "\n",
    "# get IAM role\n",
    "role = get_execution_role()\n",
    "print(role)"
   ]
  },
  {
   "cell_type": "code",
   "execution_count": 4,
   "metadata": {},
   "outputs": [
    {
     "name": "stdout",
     "output_type": "stream",
     "text": [
      "sagemaker-eu-central-1-724888201472\n",
      "\n"
     ]
    }
   ],
   "source": [
    "# get default bucket\n",
    "bucket_name = session.default_bucket()\n",
    "print(bucket_name)\n",
    "print()"
   ]
  },
  {
   "cell_type": "code",
   "execution_count": 5,
   "metadata": {},
   "outputs": [
    {
     "name": "stdout",
     "output_type": "stream",
     "text": [
      "Training artifacts will be uploaded to: s3://sagemaker-eu-central-1-724888201472/capstone-pca/\n"
     ]
    }
   ],
   "source": [
    "# define location to store model artifacts\n",
    "prefix = 'capstone-pca'\n",
    "\n",
    "output_path='s3://{}/{}/'.format(bucket_name, prefix)\n",
    "\n",
    "print('Training artifacts will be uploaded to: {}'.format(output_path))"
   ]
  },
  {
   "cell_type": "code",
   "execution_count": 6,
   "metadata": {},
   "outputs": [
    {
     "data": {
      "text/plain": [
       "(1841, 26)"
      ]
     },
     "execution_count": 6,
     "metadata": {},
     "output_type": "execute_result"
    }
   ],
   "source": [
    "data['train_nx'].shape"
   ]
  },
  {
   "cell_type": "markdown",
   "metadata": {},
   "source": [
    "## Instantiation and training\n",
    "Now we will instantiate a PCA model from AWS Sagemaker, passing in the number of components that our dataset has. We also need to convert the train data into recordset format, before fitting or training the model."
   ]
  },
  {
   "cell_type": "code",
   "execution_count": 7,
   "metadata": {},
   "outputs": [],
   "source": [
    "from sagemaker import PCA\n",
    "\n",
    "# this is current features - 1\n",
    "\n",
    "N_COMPONENTS= data['train_nx'].shape[1] - 1\n",
    "\n",
    "pca_model = PCA(role=role,\n",
    "             instance_count=1,\n",
    "             instance_type='ml.c4.xlarge',\n",
    "             output_path=output_path, # specified, above\n",
    "             num_components=N_COMPONENTS, \n",
    "             sagemaker_session=session)\n"
   ]
  },
  {
   "cell_type": "code",
   "execution_count": 8,
   "metadata": {},
   "outputs": [],
   "source": [
    "# convert df to np array\n",
    "train_data = data['train_nx'].values.astype('float32')\n",
    "\n",
    "# To-do for later...change datetime index for a timestamp to include in model\n",
    "\n",
    "# convert to RecordSet format\n",
    "record_train = pca_model.record_set(train_data)"
   ]
  },
  {
   "cell_type": "code",
   "execution_count": 9,
   "metadata": {},
   "outputs": [
    {
     "data": {
      "text/plain": [
       "array([[3.0249995e-01, 0.0000000e+00, 8.3293748e-01, ..., 1.7739549e-01,\n",
       "        0.0000000e+00, 1.0000000e+00],\n",
       "       [3.0378178e-01, 5.9790631e-07, 8.3076006e-01, ..., 1.6372049e-01,\n",
       "        5.9790631e-07, 1.0000000e+00],\n",
       "       [2.9891202e-01, 2.8827660e-07, 8.3300346e-01, ..., 1.3622598e-01,\n",
       "        2.8827660e-07, 0.0000000e+00],\n",
       "       ...,\n",
       "       [4.1860431e-01, 5.1983237e-01, 6.4311165e-01, ..., 1.2543532e-01,\n",
       "        5.1983237e-01, 0.0000000e+00],\n",
       "       [4.2195818e-01, 5.2160150e-01, 6.4693850e-01, ..., 1.4603923e-01,\n",
       "        5.2160150e-01, 1.0000000e+00],\n",
       "       [4.2195818e-01, 4.8604766e-01, 6.4693850e-01, ..., 1.2787762e-01,\n",
       "        4.8604766e-01, 0.0000000e+00]], dtype=float32)"
      ]
     },
     "execution_count": 9,
     "metadata": {},
     "output_type": "execute_result"
    }
   ],
   "source": [
    "train_data"
   ]
  },
  {
   "cell_type": "code",
   "execution_count": 23,
   "metadata": {},
   "outputs": [
    {
     "name": "stderr",
     "output_type": "stream",
     "text": [
      "Defaulting to the only supported framework/algorithm version: 1. Ignoring framework/algorithm version: 1.\n"
     ]
    },
    {
     "name": "stdout",
     "output_type": "stream",
     "text": [
      "2020-12-30 15:10:46 Starting - Starting the training job...\n",
      "2020-12-30 15:11:09 Starting - Launching requested ML instancesProfilerReport-1609341045: InProgress\n",
      "......\n",
      "2020-12-30 15:12:14 Starting - Preparing the instances for training.........\n",
      "2020-12-30 15:13:45 Downloading - Downloading input data\n",
      "2020-12-30 15:13:45 Training - Downloading the training image...\n",
      "2020-12-30 15:14:11 Uploading - Uploading generated training model\u001b[34mDocker entrypoint called with argument(s): train\u001b[0m\n",
      "\u001b[34mRunning default environment configuration script\u001b[0m\n",
      "\u001b[34m[12/30/2020 15:14:08 INFO 139977465911104] Reading default configuration from /opt/amazon/lib/python2.7/site-packages/algorithm/resources/default-conf.json: {u'_num_gpus': u'auto', u'_log_level': u'info', u'subtract_mean': u'true', u'force_dense': u'true', u'epochs': 1, u'algorithm_mode': u'regular', u'extra_components': u'-1', u'_kvstore': u'dist_sync', u'_num_kv_servers': u'auto'}\u001b[0m\n",
      "\u001b[34m[12/30/2020 15:14:08 INFO 139977465911104] Merging with provided configuration from /opt/ml/input/config/hyperparameters.json: {u'feature_dim': u'26', u'mini_batch_size': u'500', u'num_components': u'25'}\u001b[0m\n",
      "\u001b[34m[12/30/2020 15:14:08 INFO 139977465911104] Final configuration: {u'num_components': u'25', u'_num_gpus': u'auto', u'_log_level': u'info', u'subtract_mean': u'true', u'force_dense': u'true', u'epochs': 1, u'algorithm_mode': u'regular', u'feature_dim': u'26', u'extra_components': u'-1', u'_kvstore': u'dist_sync', u'_num_kv_servers': u'auto', u'mini_batch_size': u'500'}\u001b[0m\n",
      "\u001b[34m[12/30/2020 15:14:08 WARNING 139977465911104] Loggers have already been setup.\u001b[0m\n",
      "\u001b[34m[12/30/2020 15:14:08 INFO 139977465911104] Launching parameter server for role scheduler\u001b[0m\n",
      "\u001b[34m[12/30/2020 15:14:08 INFO 139977465911104] {'ECS_CONTAINER_METADATA_URI': 'http://169.254.170.2/v3/38e028b8-f091-4fd0-8fc9-b09ec91478a9', 'ECS_CONTAINER_METADATA_URI_V4': 'http://169.254.170.2/v4/38e028b8-f091-4fd0-8fc9-b09ec91478a9', 'PROTOCOL_BUFFERS_PYTHON_IMPLEMENTATION_VERSION': '2', 'PATH': '/opt/amazon/bin:/usr/local/nvidia/bin:/usr/local/sbin:/usr/local/bin:/usr/sbin:/usr/bin:/sbin:/bin:/opt/amazon/bin:/opt/amazon/bin', 'SAGEMAKER_HTTP_PORT': '8080', 'HOME': '/root', 'PYTHONUNBUFFERED': 'TRUE', 'CANONICAL_ENVROOT': '/opt/amazon', 'LD_LIBRARY_PATH': '/opt/amazon/lib/python2.7/site-packages/cv2/../../../../lib:/usr/local/nvidia/lib64:/opt/amazon/lib', 'LANG': 'en_US.utf8', 'DMLC_INTERFACE': 'eth0', 'SHLVL': '1', 'AWS_REGION': 'eu-central-1', 'NVIDIA_VISIBLE_DEVICES': 'void', 'TRAINING_JOB_NAME': 'pca-2020-12-30-15-10-45-988', 'PROTOCOL_BUFFERS_PYTHON_IMPLEMENTATION': 'cpp', 'ENVROOT': '/opt/amazon', 'SAGEMAKER_DATA_PATH': '/opt/ml', 'NVIDIA_DRIVER_CAPABILITIES': 'compute,utility', 'NVIDIA_REQUIRE_CUDA': 'cuda>=9.0', 'OMP_NUM_THREADS': '2', 'HOSTNAME': 'ip-10-0-174-102.eu-central-1.compute.internal', 'AWS_CONTAINER_CREDENTIALS_RELATIVE_URI': '/v2/credentials/ae763f83-826c-45e1-91e4-4b403ef14e1e', 'PWD': '/', 'TRAINING_JOB_ARN': 'arn:aws:sagemaker:eu-central-1:724888201472:training-job/pca-2020-12-30-15-10-45-988', 'AWS_EXECUTION_ENV': 'AWS_ECS_EC2'}\u001b[0m\n",
      "\u001b[34m[12/30/2020 15:14:08 INFO 139977465911104] envs={'ECS_CONTAINER_METADATA_URI': 'http://169.254.170.2/v3/38e028b8-f091-4fd0-8fc9-b09ec91478a9', 'ECS_CONTAINER_METADATA_URI_V4': 'http://169.254.170.2/v4/38e028b8-f091-4fd0-8fc9-b09ec91478a9', 'PROTOCOL_BUFFERS_PYTHON_IMPLEMENTATION_VERSION': '2', 'DMLC_NUM_WORKER': '1', 'DMLC_PS_ROOT_PORT': '9000', 'PATH': '/opt/amazon/bin:/usr/local/nvidia/bin:/usr/local/sbin:/usr/local/bin:/usr/sbin:/usr/bin:/sbin:/bin:/opt/amazon/bin:/opt/amazon/bin', 'SAGEMAKER_HTTP_PORT': '8080', 'HOME': '/root', 'PYTHONUNBUFFERED': 'TRUE', 'CANONICAL_ENVROOT': '/opt/amazon', 'LD_LIBRARY_PATH': '/opt/amazon/lib/python2.7/site-packages/cv2/../../../../lib:/usr/local/nvidia/lib64:/opt/amazon/lib', 'LANG': 'en_US.utf8', 'DMLC_INTERFACE': 'eth0', 'SHLVL': '1', 'DMLC_PS_ROOT_URI': '10.0.174.102', 'AWS_REGION': 'eu-central-1', 'NVIDIA_VISIBLE_DEVICES': 'void', 'TRAINING_JOB_NAME': 'pca-2020-12-30-15-10-45-988', 'PROTOCOL_BUFFERS_PYTHON_IMPLEMENTATION': 'cpp', 'ENVROOT': '/opt/amazon', 'SAGEMAKER_DATA_PATH': '/opt/ml', 'NVIDIA_DRIVER_CAPABILITIES': 'compute,utility', 'NVIDIA_REQUIRE_CUDA': 'cuda>=9.0', 'OMP_NUM_THREADS': '2', 'HOSTNAME': 'ip-10-0-174-102.eu-central-1.compute.internal', 'AWS_CONTAINER_CREDENTIALS_RELATIVE_URI': '/v2/credentials/ae763f83-826c-45e1-91e4-4b403ef14e1e', 'DMLC_ROLE': 'scheduler', 'PWD': '/', 'DMLC_NUM_SERVER': '1', 'TRAINING_JOB_ARN': 'arn:aws:sagemaker:eu-central-1:724888201472:training-job/pca-2020-12-30-15-10-45-988', 'AWS_EXECUTION_ENV': 'AWS_ECS_EC2'}\u001b[0m\n",
      "\u001b[34m[12/30/2020 15:14:08 INFO 139977465911104] Launching parameter server for role server\u001b[0m\n",
      "\u001b[34m[12/30/2020 15:14:08 INFO 139977465911104] {'ECS_CONTAINER_METADATA_URI': 'http://169.254.170.2/v3/38e028b8-f091-4fd0-8fc9-b09ec91478a9', 'ECS_CONTAINER_METADATA_URI_V4': 'http://169.254.170.2/v4/38e028b8-f091-4fd0-8fc9-b09ec91478a9', 'PROTOCOL_BUFFERS_PYTHON_IMPLEMENTATION_VERSION': '2', 'PATH': '/opt/amazon/bin:/usr/local/nvidia/bin:/usr/local/sbin:/usr/local/bin:/usr/sbin:/usr/bin:/sbin:/bin:/opt/amazon/bin:/opt/amazon/bin', 'SAGEMAKER_HTTP_PORT': '8080', 'HOME': '/root', 'PYTHONUNBUFFERED': 'TRUE', 'CANONICAL_ENVROOT': '/opt/amazon', 'LD_LIBRARY_PATH': '/opt/amazon/lib/python2.7/site-packages/cv2/../../../../lib:/usr/local/nvidia/lib64:/opt/amazon/lib', 'LANG': 'en_US.utf8', 'DMLC_INTERFACE': 'eth0', 'SHLVL': '1', 'AWS_REGION': 'eu-central-1', 'NVIDIA_VISIBLE_DEVICES': 'void', 'TRAINING_JOB_NAME': 'pca-2020-12-30-15-10-45-988', 'PROTOCOL_BUFFERS_PYTHON_IMPLEMENTATION': 'cpp', 'ENVROOT': '/opt/amazon', 'SAGEMAKER_DATA_PATH': '/opt/ml', 'NVIDIA_DRIVER_CAPABILITIES': 'compute,utility', 'NVIDIA_REQUIRE_CUDA': 'cuda>=9.0', 'OMP_NUM_THREADS': '2', 'HOSTNAME': 'ip-10-0-174-102.eu-central-1.compute.internal', 'AWS_CONTAINER_CREDENTIALS_RELATIVE_URI': '/v2/credentials/ae763f83-826c-45e1-91e4-4b403ef14e1e', 'PWD': '/', 'TRAINING_JOB_ARN': 'arn:aws:sagemaker:eu-central-1:724888201472:training-job/pca-2020-12-30-15-10-45-988', 'AWS_EXECUTION_ENV': 'AWS_ECS_EC2'}\u001b[0m\n",
      "\u001b[34m[12/30/2020 15:14:08 INFO 139977465911104] envs={'ECS_CONTAINER_METADATA_URI': 'http://169.254.170.2/v3/38e028b8-f091-4fd0-8fc9-b09ec91478a9', 'ECS_CONTAINER_METADATA_URI_V4': 'http://169.254.170.2/v4/38e028b8-f091-4fd0-8fc9-b09ec91478a9', 'PROTOCOL_BUFFERS_PYTHON_IMPLEMENTATION_VERSION': '2', 'DMLC_NUM_WORKER': '1', 'DMLC_PS_ROOT_PORT': '9000', 'PATH': '/opt/amazon/bin:/usr/local/nvidia/bin:/usr/local/sbin:/usr/local/bin:/usr/sbin:/usr/bin:/sbin:/bin:/opt/amazon/bin:/opt/amazon/bin', 'SAGEMAKER_HTTP_PORT': '8080', 'HOME': '/root', 'PYTHONUNBUFFERED': 'TRUE', 'CANONICAL_ENVROOT': '/opt/amazon', 'LD_LIBRARY_PATH': '/opt/amazon/lib/python2.7/site-packages/cv2/../../../../lib:/usr/local/nvidia/lib64:/opt/amazon/lib', 'LANG': 'en_US.utf8', 'DMLC_INTERFACE': 'eth0', 'SHLVL': '1', 'DMLC_PS_ROOT_URI': '10.0.174.102', 'AWS_REGION': 'eu-central-1', 'NVIDIA_VISIBLE_DEVICES': 'void', 'TRAINING_JOB_NAME': 'pca-2020-12-30-15-10-45-988', 'PROTOCOL_BUFFERS_PYTHON_IMPLEMENTATION': 'cpp', 'ENVROOT': '/opt/amazon', 'SAGEMAKER_DATA_PATH': '/opt/ml', 'NVIDIA_DRIVER_CAPABILITIES': 'compute,utility', 'NVIDIA_REQUIRE_CUDA': 'cuda>=9.0', 'OMP_NUM_THREADS': '2', 'HOSTNAME': 'ip-10-0-174-102.eu-central-1.compute.internal', 'AWS_CONTAINER_CREDENTIALS_RELATIVE_URI': '/v2/credentials/ae763f83-826c-45e1-91e4-4b403ef14e1e', 'DMLC_ROLE': 'server', 'PWD': '/', 'DMLC_NUM_SERVER': '1', 'TRAINING_JOB_ARN': 'arn:aws:sagemaker:eu-central-1:724888201472:training-job/pca-2020-12-30-15-10-45-988', 'AWS_EXECUTION_ENV': 'AWS_ECS_EC2'}\u001b[0m\n",
      "\u001b[34m[12/30/2020 15:14:08 INFO 139977465911104] Environment: {'ECS_CONTAINER_METADATA_URI': 'http://169.254.170.2/v3/38e028b8-f091-4fd0-8fc9-b09ec91478a9', 'ECS_CONTAINER_METADATA_URI_V4': 'http://169.254.170.2/v4/38e028b8-f091-4fd0-8fc9-b09ec91478a9', 'PROTOCOL_BUFFERS_PYTHON_IMPLEMENTATION_VERSION': '2', 'DMLC_PS_ROOT_PORT': '9000', 'DMLC_NUM_WORKER': '1', 'SAGEMAKER_HTTP_PORT': '8080', 'PATH': '/opt/amazon/bin:/usr/local/nvidia/bin:/usr/local/sbin:/usr/local/bin:/usr/sbin:/usr/bin:/sbin:/bin:/opt/amazon/bin:/opt/amazon/bin', 'PYTHONUNBUFFERED': 'TRUE', 'CANONICAL_ENVROOT': '/opt/amazon', 'LD_LIBRARY_PATH': '/opt/amazon/lib/python2.7/site-packages/cv2/../../../../lib:/usr/local/nvidia/lib64:/opt/amazon/lib', 'LANG': 'en_US.utf8', 'DMLC_INTERFACE': 'eth0', 'SHLVL': '1', 'DMLC_PS_ROOT_URI': '10.0.174.102', 'AWS_REGION': 'eu-central-1', 'NVIDIA_VISIBLE_DEVICES': 'void', 'TRAINING_JOB_NAME': 'pca-2020-12-30-15-10-45-988', 'HOME': '/root', 'PROTOCOL_BUFFERS_PYTHON_IMPLEMENTATION': 'cpp', 'ENVROOT': '/opt/amazon', 'SAGEMAKER_DATA_PATH': '/opt/ml', 'NVIDIA_DRIVER_CAPABILITIES': 'compute,utility', 'NVIDIA_REQUIRE_CUDA': 'cuda>=9.0', 'OMP_NUM_THREADS': '2', 'HOSTNAME': 'ip-10-0-174-102.eu-central-1.compute.internal', 'AWS_CONTAINER_CREDENTIALS_RELATIVE_URI': '/v2/credentials/ae763f83-826c-45e1-91e4-4b403ef14e1e', 'DMLC_ROLE': 'worker', 'PWD': '/', 'DMLC_NUM_SERVER': '1', 'TRAINING_JOB_ARN': 'arn:aws:sagemaker:eu-central-1:724888201472:training-job/pca-2020-12-30-15-10-45-988', 'AWS_EXECUTION_ENV': 'AWS_ECS_EC2'}\u001b[0m\n",
      "\u001b[34mProcess 60 is a shell:scheduler.\u001b[0m\n",
      "\u001b[34mProcess 69 is a shell:server.\u001b[0m\n",
      "\u001b[34mProcess 1 is a worker.\u001b[0m\n",
      "\u001b[34m[12/30/2020 15:14:08 INFO 139977465911104] Using default worker.\u001b[0m\n",
      "\u001b[34m[12/30/2020 15:14:08 INFO 139977465911104] Loaded iterator creator application/x-recordio-protobuf for content type ('application/x-recordio-protobuf', '1.0')\u001b[0m\n",
      "\u001b[34m[12/30/2020 15:14:08 INFO 139977465911104] Loaded iterator creator application/x-labeled-vector-protobuf for content type ('application/x-labeled-vector-protobuf', '1.0')\u001b[0m\n",
      "\u001b[34m[12/30/2020 15:14:08 INFO 139977465911104] Loaded iterator creator protobuf for content type ('protobuf', '1.0')\u001b[0m\n",
      "\u001b[34m[12/30/2020 15:14:08 INFO 139977465911104] Checkpoint loading and saving are disabled.\u001b[0m\n",
      "\u001b[34m[12/30/2020 15:14:08 INFO 139977465911104] Create Store: dist_sync\u001b[0m\n",
      "\u001b[34m[12/30/2020 15:14:09 INFO 139977465911104] nvidia-smi took: 0.0252637863159 secs to identify 0 gpus\u001b[0m\n",
      "\u001b[34m[12/30/2020 15:14:09 INFO 139977465911104] Number of GPUs being used: 0\u001b[0m\n",
      "\u001b[34m[12/30/2020 15:14:09 INFO 139977465911104] The default executor is <PCAExecutor on cpu(0)>.\u001b[0m\n",
      "\u001b[34m[12/30/2020 15:14:09 INFO 139977465911104] 26 feature(s) found in 'data'.\u001b[0m\n",
      "\u001b[34m[12/30/2020 15:14:09 INFO 139977465911104] <PCAExecutor on cpu(0)> is assigned to batch slice from 0 to 499.\u001b[0m\n",
      "\u001b[34m#metrics {\"Metrics\": {\"initialize.time\": {\"count\": 1, \"max\": 587.3589515686035, \"sum\": 587.3589515686035, \"min\": 587.3589515686035}}, \"EndTime\": 1609341249.572348, \"Dimensions\": {\"Host\": \"algo-1\", \"Operation\": \"training\", \"Algorithm\": \"PCA\"}, \"StartTime\": 1609341248.976259}\n",
      "\u001b[0m\n",
      "\u001b[34m#metrics {\"Metrics\": {\"Max Batches Seen Between Resets\": {\"count\": 1, \"max\": 0, \"sum\": 0.0, \"min\": 0}, \"Number of Batches Since Last Reset\": {\"count\": 1, \"max\": 0, \"sum\": 0.0, \"min\": 0}, \"Number of Records Since Last Reset\": {\"count\": 1, \"max\": 0, \"sum\": 0.0, \"min\": 0}, \"Total Batches Seen\": {\"count\": 1, \"max\": 0, \"sum\": 0.0, \"min\": 0}, \"Total Records Seen\": {\"count\": 1, \"max\": 0, \"sum\": 0.0, \"min\": 0}, \"Max Records Seen Between Resets\": {\"count\": 1, \"max\": 0, \"sum\": 0.0, \"min\": 0}, \"Reset Count\": {\"count\": 1, \"max\": 0, \"sum\": 0.0, \"min\": 0}}, \"EndTime\": 1609341249.572577, \"Dimensions\": {\"Host\": \"algo-1\", \"Meta\": \"init_train_data_iter\", \"Operation\": \"training\", \"Algorithm\": \"PCA\"}, \"StartTime\": 1609341249.572526}\n",
      "\u001b[0m\n",
      "\u001b[34m[2020-12-30 15:14:09.572] [tensorio] [info] epoch_stats={\"data_pipeline\": \"/opt/ml/input/data/train\", \"epoch\": 0, \"duration\": 595, \"num_examples\": 1, \"num_bytes\": 64000}\u001b[0m\n",
      "\u001b[34m[2020-12-30 15:14:09.609] [tensorio] [info] epoch_stats={\"data_pipeline\": \"/opt/ml/input/data/train\", \"epoch\": 1, \"duration\": 28, \"num_examples\": 4, \"num_bytes\": 235648}\u001b[0m\n",
      "\u001b[34m#metrics {\"Metrics\": {\"epochs\": {\"count\": 1, \"max\": 1, \"sum\": 1.0, \"min\": 1}, \"update.time\": {\"count\": 1, \"max\": 36.618947982788086, \"sum\": 36.618947982788086, \"min\": 36.618947982788086}}, \"EndTime\": 1609341249.609555, \"Dimensions\": {\"Host\": \"algo-1\", \"Operation\": \"training\", \"Algorithm\": \"PCA\"}, \"StartTime\": 1609341249.572447}\n",
      "\u001b[0m\n",
      "\u001b[34m[12/30/2020 15:14:09 INFO 139977465911104] #progress_metric: host=algo-1, completed 100 % of epochs\u001b[0m\n",
      "\u001b[34m#metrics {\"Metrics\": {\"Max Batches Seen Between Resets\": {\"count\": 1, \"max\": 4, \"sum\": 4.0, \"min\": 4}, \"Number of Batches Since Last Reset\": {\"count\": 1, \"max\": 4, \"sum\": 4.0, \"min\": 4}, \"Number of Records Since Last Reset\": {\"count\": 1, \"max\": 1841, \"sum\": 1841.0, \"min\": 1841}, \"Total Batches Seen\": {\"count\": 1, \"max\": 4, \"sum\": 4.0, \"min\": 4}, \"Total Records Seen\": {\"count\": 1, \"max\": 1841, \"sum\": 1841.0, \"min\": 1841}, \"Max Records Seen Between Resets\": {\"count\": 1, \"max\": 1841, \"sum\": 1841.0, \"min\": 1841}, \"Reset Count\": {\"count\": 1, \"max\": 1, \"sum\": 1.0, \"min\": 1}}, \"EndTime\": 1609341249.609844, \"Dimensions\": {\"Host\": \"algo-1\", \"Meta\": \"training_data_iter\", \"Operation\": \"training\", \"Algorithm\": \"PCA\", \"epoch\": 0}, \"StartTime\": 1609341249.572906}\n",
      "\u001b[0m\n",
      "\u001b[34m[12/30/2020 15:14:09 INFO 139977465911104] #throughput_metric: host=algo-1, train throughput=49689.59687 records/second\u001b[0m\n",
      "\u001b[34m#metrics {\"Metrics\": {\"finalize.time\": {\"count\": 1, \"max\": 16.302108764648438, \"sum\": 16.302108764648438, \"min\": 16.302108764648438}}, \"EndTime\": 1609341249.626423, \"Dimensions\": {\"Host\": \"algo-1\", \"Operation\": \"training\", \"Algorithm\": \"PCA\"}, \"StartTime\": 1609341249.609633}\n",
      "\u001b[0m\n",
      "\u001b[34m[12/30/2020 15:14:09 INFO 139977465911104] Test data is not provided.\u001b[0m\n",
      "\u001b[34m#metrics {\"Metrics\": {\"totaltime\": {\"count\": 1, \"max\": 802.699089050293, \"sum\": 802.699089050293, \"min\": 802.699089050293}, \"setuptime\": {\"count\": 1, \"max\": 19.869089126586914, \"sum\": 19.869089126586914, \"min\": 19.869089126586914}}, \"EndTime\": 1609341249.631528, \"Dimensions\": {\"Host\": \"algo-1\", \"Operation\": \"training\", \"Algorithm\": \"PCA\"}, \"StartTime\": 1609341249.62648}\n",
      "\u001b[0m\n",
      "\n",
      "2020-12-30 15:14:31 Completed - Training job completed\n",
      "Training seconds: 45\n",
      "Billable seconds: 45\n",
      "CPU times: user 515 ms, sys: 35.8 ms, total: 551 ms\n",
      "Wall time: 4min 12s\n"
     ]
    }
   ],
   "source": [
    "%%time\n",
    "\n",
    "# train the PCA mode on the formatted data\n",
    "pca_model.fit(record_train)"
   ]
  },
  {
   "cell_type": "markdown",
   "metadata": {},
   "source": [
    "## Loading the model for use\n",
    "**Important**: In order to use the model, we have to **note down the training job name, to provide it in the cell below** after the training job has finished. Please do so to reproduce results.\n",
    "\n",
    "Afterwards, we will download, unzip and load our model using MXNet, so we can use it to predict reduced features out of our dataset."
   ]
  },
  {
   "cell_type": "code",
   "execution_count": 24,
   "metadata": {},
   "outputs": [],
   "source": [
    "import os\n",
    "import boto3"
   ]
  },
  {
   "cell_type": "code",
   "execution_count": 25,
   "metadata": {},
   "outputs": [
    {
     "name": "stdout",
     "output_type": "stream",
     "text": [
      "capstone-pca/pca-2020-12-28-23-03-27-081/output/model.tar.gz\n"
     ]
    },
    {
     "data": {
      "text/plain": [
       "2304"
      ]
     },
     "execution_count": 25,
     "metadata": {},
     "output_type": "execute_result"
    }
   ],
   "source": [
    "# Name of the training job\n",
    "training_job_name='pca-2020-12-28-23-03-27-081'\n",
    "\n",
    "# where the model is saved, by default\n",
    "model_key = os.path.join(prefix, training_job_name, 'output/model.tar.gz')\n",
    "print(model_key)\n",
    "\n",
    "# download and unzip model\n",
    "boto3.resource('s3').Bucket(bucket_name).download_file(model_key, 'model.tar.gz')\n",
    "\n",
    "# unzipping model\n",
    "os.system('tar -zxvf model.tar.gz')\n",
    "os.system('unzip -o model-algo-1')"
   ]
  },
  {
   "cell_type": "code",
   "execution_count": 26,
   "metadata": {},
   "outputs": [
    {
     "name": "stdout",
     "output_type": "stream",
     "text": [
      "{'s': \n",
      "[        nan  0.05652451  0.10016972  0.12433855  0.23421955  0.25136304\n",
      "  0.53354037  0.6395169   1.0004538   1.109179    1.2633115   1.3936144\n",
      "  1.613095    1.8647261   2.4896214   3.552215    5.027145    6.115767\n",
      "  6.991929    7.3414583  10.444403   11.573331   12.069087   21.047577\n",
      " 24.009825  ]\n",
      "<NDArray 25 @cpu(0)>, 'v': \n",
      "[[-5.85769371e-08 -1.93733559e-03 -6.33543124e-03 -1.15119498e-02\n",
      "  -1.35864429e-02 -7.64239300e-03 -5.48301749e-02 -4.32421826e-02\n",
      "  -8.89479928e-03 -3.89831029e-02 -1.47493988e-01  3.41952622e-01\n",
      "   2.91830450e-01 -2.40349382e-01 -4.71050069e-02  2.83541203e-01\n",
      "  -7.27753267e-02  6.09976053e-02 -7.25065947e-01  9.89388600e-02\n",
      "  -1.36235967e-01  9.23977867e-02 -1.55250793e-02  8.66442453e-04\n",
      "  -2.38759845e-01]\n",
      " [-7.07095802e-01  1.99994892e-02 -1.59458164e-02  3.20061110e-02\n",
      "  -2.36791506e-01  1.79206848e-01  1.60082474e-01 -1.54412046e-01\n",
      "  -4.68134321e-03  1.95141416e-02 -1.75643757e-01 -9.53130499e-02\n",
      "   5.23407646e-02  8.29343274e-02  1.36732370e-01  4.16293591e-02\n",
      "  -1.84586287e-01 -3.08434684e-02  3.39495018e-02  2.20924616e-01\n",
      "  -3.19514447e-03 -1.84816301e-01 -2.55727824e-02 -5.85523783e-04\n",
      "  -6.16095662e-02]\n",
      " [ 2.55410848e-09 -4.65569428e-05  2.29617395e-03  5.84767712e-03\n",
      "   5.05831791e-03 -5.65664889e-03  8.87250006e-02  7.10662976e-02\n",
      "   4.84679528e-02 -3.61930579e-01  2.29930997e-01  2.57904325e-02\n",
      "   4.55412149e-01 -1.98425964e-01  5.58513761e-01  1.90309182e-01\n",
      "   2.01067805e-01  2.80683413e-02  8.23634192e-02 -9.66750458e-02\n",
      "   2.53565490e-01 -1.57715335e-01 -1.49120800e-02 -7.75109883e-03\n",
      "   2.41615117e-01]\n",
      " [ 6.40816040e-07 -2.46240897e-03 -7.76925730e-03 -1.29789514e-02\n",
      "   1.78518593e-02  9.03718453e-03 -2.63204938e-03 -4.03476655e-02\n",
      "  -2.51471363e-02  1.74330715e-02 -2.00573936e-01  7.71342516e-02\n",
      "   2.66175300e-01  8.66938606e-02 -6.08434200e-01  1.39298767e-01\n",
      "  -8.45518429e-03  2.69577764e-02 -2.54473113e-03  2.34751590e-03\n",
      "   5.04468620e-01 -2.64581382e-01 -3.29215825e-02 -3.89436074e-02\n",
      "   3.93382818e-01]\n",
      " [ 2.50709633e-07 -4.48213285e-03 -1.04613835e-02  3.66866181e-04\n",
      "  -2.08941661e-02 -4.93933335e-02  6.38792990e-03 -1.45578116e-01\n",
      "  -2.20795255e-02  5.96350849e-01  2.99933553e-01  2.17720661e-02\n",
      "   1.49481907e-01 -1.66514263e-01  1.70047097e-02 -4.80213352e-02\n",
      "   3.53501290e-01 -7.58986780e-03 -1.78138167e-02  4.78302211e-01\n",
      "  -1.78246960e-01 -3.58966850e-02 -4.54109861e-03  2.23630182e-02\n",
      "   2.98068494e-01]\n",
      " [-7.04864703e-07  2.65279599e-03  8.35735165e-03  6.48622820e-03\n",
      "   4.16028313e-03  2.92272773e-02 -5.24839871e-02  9.28469375e-02\n",
      "   1.03170639e-02 -4.28586543e-01 -1.39900848e-01 -4.19643611e-01\n",
      "  -2.76725471e-01 -2.34535694e-01 -4.40048464e-02 -3.13685387e-01\n",
      "   1.52393773e-01 -1.73899848e-02 -3.87579441e-01  2.95995563e-01\n",
      "  -3.75244357e-02 -5.71231693e-02 -1.25448639e-02  1.38245830e-02\n",
      "   3.31470191e-01]\n",
      " [-5.55010683e-06  3.57226580e-02  7.66592473e-02  3.87056395e-02\n",
      "  -2.82310843e-01 -4.39794153e-01 -2.83735037e-01 -6.00858808e-01\n",
      "   2.12068809e-03 -2.84986526e-01  1.61065206e-01 -3.01872063e-02\n",
      "   9.24731493e-02 -6.92950115e-02 -1.60951316e-01 -1.36692628e-01\n",
      "   1.22841500e-01  2.59417389e-02  1.17690466e-01  3.09841875e-02\n",
      "   4.71818820e-03 -1.05588995e-01 -1.70555897e-02 -2.96582887e-03\n",
      "  -2.61974245e-01]\n",
      " [ 2.33880343e-07  3.14955163e-04 -1.35159492e-03 -8.90887156e-03\n",
      "   1.29642934e-02  4.75730971e-02 -5.66930808e-02  8.19131732e-02\n",
      "  -4.66725416e-02  1.66875437e-01 -5.21665215e-01  1.52644575e-01\n",
      "  -1.03836782e-01 -1.68102995e-01  1.34105027e-01 -1.66927487e-01\n",
      "   5.75093687e-01  1.22757003e-01  7.66372308e-02 -1.30083501e-01\n",
      "   1.10340618e-01 -3.32429677e-01 -4.22838442e-02 -2.29687430e-03\n",
      "  -2.90066302e-01]\n",
      " [-7.44622231e-09 -5.13457577e-04  4.91380226e-03  2.95951646e-02\n",
      "   3.37937265e-03 -2.88257226e-02  1.60472810e-01  2.22912859e-02\n",
      "   3.29141244e-02 -6.28781840e-02  3.60726088e-01 -4.61762473e-02\n",
      "  -3.48704934e-01  5.12086987e-01 -2.70227483e-03  3.39309216e-01\n",
      "   3.15565437e-01  1.18543580e-01 -3.02728534e-01  6.05315827e-02\n",
      "   1.24077715e-01 -2.87629932e-01 -5.55580072e-02 -5.73280500e-03\n",
      "  -1.59879729e-01]\n",
      " [ 6.94863502e-06 -2.41455771e-02 -6.34605810e-02 -4.89310101e-02\n",
      "   4.72011566e-01  6.83545232e-01 -1.40461594e-01 -3.23705047e-01\n",
      "   2.15045549e-02 -1.53033122e-01  2.27572948e-01  2.50860192e-02\n",
      "   9.40061435e-02 -4.59489077e-02 -1.28090173e-01 -1.39256939e-01\n",
      "   5.86190745e-02  1.93978474e-02  5.55630624e-02  5.40040880e-02\n",
      "  -1.63017865e-02 -8.46027806e-02 -1.56164942e-02 -9.78152733e-04\n",
      "  -1.94728911e-01]\n",
      " [ 1.68697269e-07 -3.97228543e-03 -4.71626082e-03 -9.61013371e-04\n",
      "  -1.04343770e-02 -2.31444743e-02  1.04682997e-01  2.42605373e-01\n",
      "   1.33766897e-03  1.80199146e-01  1.54561818e-01 -6.69021428e-01\n",
      "   2.38849521e-01 -3.21739435e-01 -2.23418549e-01  1.62900195e-01\n",
      "  -2.19491553e-02  8.69321749e-02  5.10390196e-03 -1.16927288e-01\n",
      "   3.48863117e-02 -1.07877828e-01 -2.22958643e-02 -1.25018731e-02\n",
      "  -3.91516626e-01]\n",
      " [-8.13779266e-08 -9.04194894e-04 -3.21707083e-03  1.28628686e-03\n",
      "  -1.69645399e-02 -3.06581575e-02 -4.39310521e-02 -1.35396779e-01\n",
      "  -1.73639525e-02  3.35146278e-01  2.02123955e-01 -2.59620845e-02\n",
      "  -3.50804664e-02  2.69024540e-03  2.30873838e-01 -4.90119964e-01\n",
      "  -2.92736322e-01 -9.14306473e-03 -3.99741441e-01 -3.35852295e-01\n",
      "   3.49448293e-01 -2.15187892e-01 -3.60715650e-02 -2.61465590e-02\n",
      "   2.85223294e-02]\n",
      " [ 1.88993781e-05 -3.18393447e-02  3.64640057e-02 -9.43788588e-02\n",
      "   6.98485553e-01 -4.57132220e-01  3.26005742e-02 -8.25685486e-02\n",
      "  -4.27490771e-02  2.04344876e-02 -1.98733851e-01 -9.42734629e-02\n",
      "   4.45464142e-02  8.92895088e-02  1.71556234e-01  5.05550094e-02\n",
      "  -2.29327157e-01 -3.57680656e-02  4.27987017e-02  2.75250435e-01\n",
      "  -4.53568297e-03 -2.30507046e-01 -2.99976114e-02 -4.05923231e-03\n",
      "  -7.68745914e-02]\n",
      " [-7.22298182e-06 -1.80206243e-02  1.01699121e-01  6.12019360e-01\n",
      "  -2.64287125e-02  4.85220775e-02 -5.81815481e-01  3.65790009e-01\n",
      "   1.82702336e-02  1.00514209e-02  5.90413250e-02  4.32337746e-02\n",
      "   1.04857340e-01  1.37903795e-01  4.65806909e-02 -3.26124802e-02\n",
      "  -1.23289473e-01 -5.15069347e-03  4.24661525e-02  2.14147329e-01\n",
      "   9.27284174e-03 -1.75751656e-01 -2.75128055e-02 -3.88950505e-03\n",
      "  -7.56876916e-02]\n",
      " [ 6.53189954e-06 -1.15575977e-01 -3.52332026e-01 -6.97663605e-01\n",
      "  -1.80345729e-01  9.32637020e-04 -4.31539297e-01  2.63311088e-01\n",
      "   9.03126132e-03 -2.16856953e-02  6.78711385e-02  1.91888157e-02\n",
      "   6.50008097e-02  1.30280718e-01  4.38352376e-02 -3.23960967e-02\n",
      "  -7.46423528e-02 -9.02663101e-04  3.33302990e-02  1.69710159e-01\n",
      "   1.44481976e-02 -1.29969835e-01 -2.22376678e-02 -3.70619842e-03\n",
      "  -6.99701384e-02]\n",
      " [ 1.00224993e-08  3.70069785e-04  8.73602170e-04  1.01971591e-03\n",
      "   1.38209271e-03 -2.45093298e-03  4.80159279e-03 -4.70015500e-03\n",
      "  -5.46093332e-03  1.47624186e-03 -3.44898528e-03  8.95653851e-03\n",
      "  -1.90721229e-02 -1.47029171e-02  1.27169145e-02 -1.76523104e-02\n",
      "  -5.30595072e-02  2.92609572e-01  4.63094786e-02  3.93844768e-02\n",
      "   7.65937641e-02  1.51070058e-01 -7.42765784e-01  5.70999444e-01\n",
      "   1.43545317e-02]\n",
      " [ 7.39737374e-08 -1.55648077e-03 -2.96246330e-03 -3.24170687e-03\n",
      "   5.21161361e-04  2.34041363e-03 -1.86197199e-02  1.23977289e-02\n",
      "  -1.85404588e-02 -1.88640994e-03  7.88713340e-03 -1.08076045e-02\n",
      "   3.37257572e-02  3.62276752e-03 -5.73809855e-02  7.56541565e-02\n",
      "   1.05318323e-01 -8.75013232e-01 -5.96735477e-02 -1.78949863e-01\n",
      "  -1.53087094e-01 -1.91913679e-01 -2.32755348e-01  2.49016285e-01\n",
      "   2.09681550e-03]\n",
      " [-1.81142799e-08  4.01089061e-03  9.39446129e-03  8.80837347e-03\n",
      "   5.74076548e-03 -5.80809829e-05  4.02294658e-02  3.12534198e-02\n",
      "  -8.43818765e-03  2.14026775e-02 -1.56345405e-02 -2.39269435e-02\n",
      "  -1.16715319e-02  2.85798125e-02  7.58295655e-02 -7.04340786e-02\n",
      "   1.29332736e-01 -3.10910612e-01 -5.94672374e-03  3.53954971e-01\n",
      "   6.21800363e-01  5.15472710e-01 -8.36226717e-03 -7.93508664e-02\n",
      "  -2.94539303e-01]\n",
      " [-4.14929964e-05  2.02789791e-02 -1.58277135e-02  3.20420898e-02\n",
      "  -2.36845717e-01  1.79182157e-01  1.60067722e-01 -1.54419139e-01\n",
      "  -4.68032295e-03  1.95128974e-02 -1.75646558e-01 -9.53143314e-02\n",
      "   5.23415133e-02  8.29328373e-02  1.36732131e-01  4.16298769e-02\n",
      "  -1.84586436e-01 -3.08427028e-02  3.39495055e-02  2.20923692e-01\n",
      "  -3.19663459e-03 -1.84817493e-01 -2.55727768e-02 -5.85334667e-04\n",
      "  -6.16088621e-02]\n",
      " [ 7.45639454e-06 -3.45706344e-01  8.77748668e-01 -2.89220542e-01\n",
      "  -5.97982854e-02  9.02291089e-02 -3.13766822e-02  7.49263838e-02\n",
      "   7.30842678e-03  3.92748555e-03  2.27828920e-02  2.01703422e-02\n",
      "   3.66188325e-02  3.57270762e-02 -3.78325093e-03 -3.23357210e-02\n",
      "  -1.61818415e-02  1.06346408e-04  1.14230474e-03  4.00416069e-02\n",
      "  -9.96795855e-03 -3.38228270e-02 -5.66819031e-03  8.28334945e-04\n",
      "  -1.62976291e-02]\n",
      " [-2.03038944e-05  9.28007901e-01  2.79898286e-01 -1.89165697e-01\n",
      "   1.61041003e-02  3.69135104e-02 -5.93939573e-02  1.01872317e-01\n",
      "   7.47124664e-03  2.75203609e-03  3.04520931e-02  2.45273113e-02\n",
      "   3.79069671e-02  3.70301418e-02 -6.28801109e-03 -3.51981893e-02\n",
      "  -1.46222310e-02  7.06889958e-04  9.29357659e-04  4.04929668e-02\n",
      "  -1.06110480e-02 -3.43588740e-02 -5.72993653e-03  7.97113695e-04\n",
      "  -1.69309583e-02]\n",
      " [ 1.02081242e-06 -3.75500917e-02 -6.48058578e-02  4.28759828e-02\n",
      "  -3.07583418e-02 -1.15516454e-01  4.80078280e-01  3.24233383e-01\n",
      "   4.35135141e-02 -1.96594998e-01  1.80052221e-01  2.87902355e-01\n",
      "   2.56102860e-01  9.12484899e-02 -2.16946125e-01 -5.07684112e-01\n",
      "   6.39689201e-03 -1.25219836e-03  3.77025716e-02  1.69869870e-01\n",
      "  -1.25489637e-01 -1.45478159e-01 -2.44563818e-02  1.08014513e-02\n",
      "  -2.00349256e-01]\n",
      " [-1.00489774e-06  5.73474541e-03  9.58911888e-03 -7.96343386e-03\n",
      "  -3.65383066e-02 -1.06618432e-02  6.66411743e-02  8.19762424e-02\n",
      "   5.97667880e-03 -3.35764550e-02  2.27194622e-01  3.18713218e-01\n",
      "  -4.83797073e-01 -5.78668177e-01 -6.20626397e-02  1.85894981e-01\n",
      "  -2.53303409e-01 -5.35558648e-02  1.64500222e-01  1.55664220e-01\n",
      "   1.82583541e-01 -2.63047546e-01 -2.12595481e-02 -2.85181105e-02\n",
      "  -5.83058111e-02]\n",
      " [ 6.84519534e-07 -2.25775922e-03 -2.82093603e-03 -7.95694813e-03\n",
      "   2.09693220e-02 -2.59581748e-02 -1.18863778e-02 -3.07076629e-02\n",
      "   9.93487716e-01  6.50426000e-02 -7.02202022e-02 -4.30424232e-03\n",
      "  -1.14488080e-02 -1.42733436e-02 -1.07693784e-02  3.68101319e-04\n",
      "   2.28892895e-05 -1.70784947e-02 -4.43417858e-03 -5.75939659e-04\n",
      "   1.24690225e-02 -4.80078021e-03  5.18063130e-03  2.36589834e-02\n",
      "   5.58215892e-04]\n",
      " [ 7.07117736e-01  2.00326759e-02 -1.59427971e-02  3.20205763e-02\n",
      "  -2.36821145e-01  1.79214656e-01  1.60081208e-01 -1.54412463e-01\n",
      "  -4.68124496e-03  1.95132010e-02 -1.75643459e-01 -9.53132138e-02\n",
      "   5.23403734e-02  8.29339698e-02  1.36732265e-01  4.16293070e-02\n",
      "  -1.84586272e-01 -3.08434535e-02  3.39494944e-02  2.20924616e-01\n",
      "  -3.19514214e-03 -1.84816301e-01 -2.55727936e-02 -5.85521339e-04\n",
      "  -6.16095662e-02]\n",
      " [ 1.05087370e-08  6.08252558e-05  2.20053218e-04 -3.87497457e-05\n",
      "   3.49662994e-04  1.93017055e-04 -1.36540024e-04  2.56288145e-03\n",
      "  -2.24472638e-02  2.01566308e-03  3.09082144e-03  7.90281687e-04\n",
      "   5.90125099e-04  1.85558037e-03 -1.29282521e-03 -1.52156595e-03\n",
      "  -1.03746532e-02  3.65554541e-02 -1.51773030e-02  3.88242602e-02\n",
      "   1.12028472e-01 -3.29614095e-02  6.16332710e-01  7.75216162e-01\n",
      "  -4.26943414e-02]]\n",
      "<NDArray 26x25 @cpu(0)>, 'mean': \n",
      "[[0.24963097 0.02975031 0.7424366  0.4536138  0.3177241  0.29945663\n",
      "  0.27766877 0.505838   0.38783294 0.17950052 0.3552879  0.5443048\n",
      "  0.03725885 0.04086271 0.03921152 0.5383543  0.5936873  0.42867917\n",
      "  0.02974998 0.0074825  0.00780962 0.12225046 0.08568694 0.14753541\n",
      "  0.02975031 0.6372762 ]]\n",
      "<NDArray 1x26 @cpu(0)>}\n"
     ]
    }
   ],
   "source": [
    "import mxnet as mx\n",
    "\n",
    "# loading the unzipped artifacts\n",
    "pca_model_params = mx.ndarray.load('model_algo-1')\n",
    "\n",
    "# what are the params\n",
    "print(pca_model_params)"
   ]
  },
  {
   "cell_type": "markdown",
   "metadata": {},
   "source": [
    "## Selecting the proper amount of features\n",
    "Now we need to **analyze how much variance are we willing to explain with our new features**. For this we will use the model's `s` and `v` parameters, to calculate the estimated explained variance of the top 'N' components."
   ]
  },
  {
   "cell_type": "code",
   "execution_count": 27,
   "metadata": {},
   "outputs": [],
   "source": [
    "# get selected params\n",
    "s=pd.DataFrame(pca_model_params['s'].asnumpy())\n",
    "v=pd.DataFrame(pca_model_params['v'].asnumpy())"
   ]
  },
  {
   "cell_type": "code",
   "execution_count": 28,
   "metadata": {},
   "outputs": [],
   "source": [
    "# Calculate the explained variance for the top n principal components\n",
    "# you may assume you have access to the global var N_COMPONENTS\n",
    "def explained_variance(s, n_top_components):\n",
    "    '''Calculates the approx. data variance that n_top_components captures.\n",
    "       :param s: A dataframe of singular values for top components; \n",
    "           the top value is in the last row.\n",
    "       :param n_top_components: An integer, the number of top components to use.\n",
    "       :return: The expected data variance covered by the n_top_components.'''\n",
    "    \n",
    "    start_idx = N_COMPONENTS - n_top_components  ## 33-3 = 30, for example\n",
    "    # calculate approx variance\n",
    "    exp_variance = np.square(s.iloc[start_idx:,:]).sum()/np.square(s).sum()\n",
    "    \n",
    "    return exp_variance[0]\n"
   ]
  },
  {
   "cell_type": "code",
   "execution_count": 29,
   "metadata": {},
   "outputs": [
    {
     "data": {
      "image/png": "[encoded data removed]",
      "text/plain": [
       "<Figure size 432x288 with 1 Axes>"
      ]
     },
     "metadata": {
      "needs_background": "light"
     },
     "output_type": "display_data"
    },
    {
     "name": "stdout",
     "output_type": "stream",
     "text": [
      "Explained variance:  0.9108686 with 6 components\n",
      "Total components:  25\n"
     ]
    }
   ],
   "source": [
    "from matplotlib import pyplot as plt\n",
    "\n",
    "alt_variate = []\n",
    "def plot_variance_ncomp(s, n_top_components, cut=0.8):\n",
    "    for i in range(n_top_components + 1):\n",
    "        alt_variate.append(explained_variance(s, i))\n",
    "        # print(i)\n",
    "        alt_variate_np = np.array(alt_variate)\n",
    "    # print(alt_variate_np)\n",
    "    plt.plot(alt_variate_np, scaley=False)\n",
    "    plt.plot(list(range(n_top_components)),[ cut for i in range(i)], color='red')\n",
    "    plt.show()\n",
    "    print('Explained variance: ', explained_variance(s,n_top_components), 'with',n_top_components,'components')\n",
    "    print('Total components: ', len(s))\n",
    "    return n_top_components\n",
    "    \n",
    "n_top = plot_variance_ncomp(s, 6, 0.9)"
   ]
  },
  {
   "cell_type": "markdown",
   "metadata": {},
   "source": [
    "As a variance of 91% could be sufficient, **we will take the top 6 components for our analysis.**\n",
    "\n",
    "## Analyzing our top components\n",
    "Now that we've selected the number of features, we can **have a look at these selected to see which and how much weight of the original feature set is being considered** in the features selected."
   ]
  },
  {
   "cell_type": "code",
   "execution_count": 30,
   "metadata": {},
   "outputs": [
    {
     "name": "stdout",
     "output_type": "stream",
     "text": [
      "Features: \n",
      " ['shangai' 'btc_cumulative' 'crude oil' 'euro' 'gold' 'silver' 'spy'\n",
      " 'ftse' 'hsi' 'nasdaq' 'nikkei' 'rates' 'MA4' 'MA96' 'MA200' 'stochRSI'\n",
      " 'RSI' 'btc_std_dev' 'std_dif' 'hashrate' 'difficulty' 'transactions'\n",
      " 't_cost' 'returns' 'btc_close' 'returns_label']\n"
     ]
    }
   ],
   "source": [
    "# original feature list\n",
    "features_list = data['train_nx'].columns.values\n",
    "print('Features: \\n', features_list)"
   ]
  },
  {
   "cell_type": "code",
   "execution_count": 31,
   "metadata": {},
   "outputs": [],
   "source": [
    "import seaborn as sns\n",
    "\n",
    "def display_component(v, features_list, component_num, n_weights=10):\n",
    "    \n",
    "    # get index of component (last row - component_num)\n",
    "    row_idx = N_COMPONENTS-component_num\n",
    "\n",
    "    # get the list of weights from a row in v, dataframe\n",
    "    v_1_row = v.iloc[:, row_idx]\n",
    "    v_1 = np.squeeze(v_1_row.values)\n",
    "\n",
    "    # match weights to features in counties_scaled dataframe, using list comporehension\n",
    "    comps = pd.DataFrame(list(zip(v_1, features_list)), \n",
    "                         columns=['weights', 'features'])\n",
    "\n",
    "    # we'll want to sort by the largest n_weights\n",
    "    # weights can be neg/pos and we'll sort by magnitude\n",
    "    comps['abs_weights']=comps['weights'].apply(lambda x: np.abs(x))\n",
    "    sorted_weight_data = comps.sort_values('abs_weights', ascending=False).head(n_weights)\n",
    "\n",
    "    # display using seaborn\n",
    "    ax=plt.subplots(figsize=(5,5))\n",
    "    ax=sns.barplot(data=sorted_weight_data, \n",
    "                   x=\"weights\", \n",
    "                   y=\"features\", \n",
    "                   palette=\"Blues_d\")\n",
    "    ax.set_title(\"PCA Component Makeup, Component #\" + str(component_num))\n",
    "    plt.show()\n"
   ]
  },
  {
   "cell_type": "code",
   "execution_count": 32,
   "metadata": {},
   "outputs": [
    {
     "data": {
      "image/png": "[encoded data removed]",
      "text/plain": [
       "<Figure size 360x360 with 1 Axes>"
      ]
     },
     "metadata": {
      "needs_background": "light"
     },
     "output_type": "display_data"
    },
    {
     "data": {
      "image/png": "[encoded data removed]",
      "text/plain": [
       "<Figure size 360x360 with 1 Axes>"
      ]
     },
     "metadata": {
      "needs_background": "light"
     },
     "output_type": "display_data"
    },
    {
     "data": {
      "image/png": "[encoded data removed]",
      "text/plain": [
       "<Figure size 360x360 with 1 Axes>"
      ]
     },
     "metadata": {
      "needs_background": "light"
     },
     "output_type": "display_data"
    },
    {
     "data": {
      "image/png": "[encoded data removed]",
      "text/plain": [
       "<Figure size 360x360 with 1 Axes>"
      ]
     },
     "metadata": {
      "needs_background": "light"
     },
     "output_type": "display_data"
    },
    {
     "data": {
      "image/png": "[encoded data removed]",
      "text/plain": [
       "<Figure size 360x360 with 1 Axes>"
      ]
     },
     "metadata": {
      "needs_background": "light"
     },
     "output_type": "display_data"
    },
    {
     "data": {
      "image/png": "[encoded data removed]",
      "text/plain": [
       "<Figure size 360x360 with 1 Axes>"
      ]
     },
     "metadata": {
      "needs_background": "light"
     },
     "output_type": "display_data"
    }
   ],
   "source": [
    "# display makeup of all selected components\n",
    "for i in range(1, n_top + 1):\n",
    "    display_component(v, data['train_nx'].columns.values, component_num=i, n_weights=10)"
   ]
  },
  {
   "cell_type": "markdown",
   "metadata": {},
   "source": [
    "Interestingly, **we can observe that the model is weighting important market features in the newly created ones**, such as the most traded pair worldwide (EUR/USD), commodities (gold, silver, oil), top stock indexes (SPY, Nikkei...) and some of the technical indicators (RSI, MAs). \n",
    "\n",
    "## Predicting, creating and saving datasets with reduced components\n",
    "\n",
    "After having trained our PCA model, we will use it to predict the reduced components into our train and test datasets, plus store the results in a dataframe and CSV for further use with other models. In order **to predict the reduced components, we will deploy the model to an endpoint, pass in both our train and test data and process the results, and finally store them** in the `pca/` folder. "
   ]
  },
  {
   "cell_type": "code",
   "execution_count": 33,
   "metadata": {},
   "outputs": [
    {
     "name": "stderr",
     "output_type": "stream",
     "text": [
      "Defaulting to the only supported framework/algorithm version: 1. Ignoring framework/algorithm version: 1.\n"
     ]
    },
    {
     "name": "stdout",
     "output_type": "stream",
     "text": [
      "----------------!CPU times: user 313 ms, sys: 1.58 ms, total: 315 ms\n",
      "Wall time: 8min 2s\n"
     ]
    }
   ],
   "source": [
    "%%time\n",
    "pca_predictor = pca_model.deploy(initial_instance_count=1, \n",
    "                              instance_type='ml.t2.medium')"
   ]
  },
  {
   "cell_type": "code",
   "execution_count": 34,
   "metadata": {},
   "outputs": [],
   "source": [
    "# convert test df to np array\n",
    "test_data = data['test_nx'].values.astype('float32')\n",
    "\n",
    "# pass np test data to the PCA model\n",
    "test_pca = pca_predictor.predict(test_data)\n",
    "\n",
    "# doing the same for the training data\n",
    "train_pca = pca_predictor.predict(train_data)"
   ]
  },
  {
   "cell_type": "code",
   "execution_count": 35,
   "metadata": {},
   "outputs": [
    {
     "name": "stdout",
     "output_type": "stream",
     "text": [
      "label {\n",
      "  key: \"projection\"\n",
      "  value {\n",
      "    float32_tensor {\n",
      "      values: 8.272163540823385e-07\n",
      "      values: -0.00826762430369854\n",
      "      values: -0.0006801807321608067\n",
      "      values: 0.005548567045480013\n",
      "      values: 0.016704339534044266\n",
      "      values: -0.02403828129172325\n",
      "      values: -0.09908427298069\n",
      "      values: 0.07538732141256332\n",
      "      values: -0.0032097920775413513\n",
      "      values: 0.00419216975569725\n",
      "      values: -0.013965174555778503\n",
      "      values: 0.027106940746307373\n",
      "      values: -0.059127241373062134\n",
      "      values: -0.05356582999229431\n",
      "      values: 0.12886856496334076\n",
      "      values: 0.112761951982975\n",
      "      values: -0.3593323826789856\n",
      "      values: 0.03652268648147583\n",
      "      values: 0.14420023560523987\n",
      "      values: 0.7124940752983093\n",
      "      values: 0.030685245990753174\n",
      "      values: -1.141496181488037\n",
      "      values: -0.09166109561920166\n",
      "      values: -0.8766021728515625\n",
      "      values: -0.9396859407424927\n",
      "    }\n",
      "  }\n",
      "}\n",
      "\n"
     ]
    }
   ],
   "source": [
    "# checking out the first item in the test \n",
    "print(test_pca[0])"
   ]
  },
  {
   "cell_type": "markdown",
   "metadata": {},
   "source": [
    "Now that we've done the predictions with our deployed model, we will take the results and transform everything into a CSV format, and save it for further use."
   ]
  },
  {
   "cell_type": "code",
   "execution_count": 36,
   "metadata": {},
   "outputs": [],
   "source": [
    "# create dimensionality-reduced data\n",
    "\n",
    "def create_transformed_df(train_pca, source, n_top_components):\n",
    "    ''' Return a dataframe of data points with component features. \n",
    "        The returned dataframe is indexed as original dataframes.       \n",
    "     '''\n",
    "    # create new dataframe to add data to\n",
    "    transformed_df=pd.DataFrame()\n",
    "\n",
    "    # for each of our new, transformed data points\n",
    "    # append the component values to the dataframe\n",
    "    for data in train_pca:\n",
    "        # get component values for each data point\n",
    "        components=data.label['projection'].float32_tensor.values\n",
    "        transformed_df=transformed_df.append([list(components)])\n",
    "\n",
    "    # index just like data source - To-Do: use dates here, we dropped them before\n",
    "    transformed_df.index=source.index\n",
    "\n",
    "    # keep only the top n components\n",
    "    start_idx = N_COMPONENTS - n_top_components\n",
    "    transformed_df = transformed_df.iloc[:,start_idx:]\n",
    "    \n",
    "    # reverse columns, component order     \n",
    "    return transformed_df.iloc[:, ::-1]\n",
    "    "
   ]
  },
  {
   "cell_type": "code",
   "execution_count": 37,
   "metadata": {},
   "outputs": [],
   "source": [
    "# call your function and create a new dataframe\n",
    "df_transformed_train = create_transformed_df(train_pca, data['train_nx'], n_top_components=n_top)\n",
    "df_transformed_test = create_transformed_df(test_pca, data['test_nx'], n_top_components=n_top)"
   ]
  },
  {
   "cell_type": "code",
   "execution_count": 38,
   "metadata": {},
   "outputs": [
    {
     "data": {
      "text/html": [
       "<div>\n",
       "<style scoped>\n",
       "    .dataframe tbody tr th:only-of-type {\n",
       "        vertical-align: middle;\n",
       "    }\n",
       "\n",
       "    .dataframe tbody tr th {\n",
       "        vertical-align: top;\n",
       "    }\n",
       "\n",
       "    .dataframe thead th {\n",
       "        text-align: right;\n",
       "    }\n",
       "</style>\n",
       "<table border=\"1\" class=\"dataframe\">\n",
       "  <thead>\n",
       "    <tr style=\"text-align: right;\">\n",
       "      <th></th>\n",
       "      <th>24</th>\n",
       "      <th>23</th>\n",
       "      <th>22</th>\n",
       "      <th>21</th>\n",
       "      <th>20</th>\n",
       "      <th>19</th>\n",
       "    </tr>\n",
       "  </thead>\n",
       "  <tbody>\n",
       "    <tr>\n",
       "      <th>864</th>\n",
       "      <td>-1.024661</td>\n",
       "      <td>-0.303106</td>\n",
       "      <td>0.032146</td>\n",
       "      <td>-1.425861</td>\n",
       "      <td>-0.524859</td>\n",
       "      <td>1.643820</td>\n",
       "    </tr>\n",
       "    <tr>\n",
       "      <th>865</th>\n",
       "      <td>-1.031170</td>\n",
       "      <td>-0.303869</td>\n",
       "      <td>0.031008</td>\n",
       "      <td>-1.438112</td>\n",
       "      <td>-0.519242</td>\n",
       "      <td>1.648712</td>\n",
       "    </tr>\n",
       "    <tr>\n",
       "      <th>866</th>\n",
       "      <td>-1.031509</td>\n",
       "      <td>-0.303930</td>\n",
       "      <td>0.031686</td>\n",
       "      <td>-1.431345</td>\n",
       "      <td>-0.519834</td>\n",
       "      <td>1.643611</td>\n",
       "    </tr>\n",
       "    <tr>\n",
       "      <th>867</th>\n",
       "      <td>-1.039068</td>\n",
       "      <td>-0.305782</td>\n",
       "      <td>0.029384</td>\n",
       "      <td>-1.457848</td>\n",
       "      <td>-0.509792</td>\n",
       "      <td>1.669187</td>\n",
       "    </tr>\n",
       "    <tr>\n",
       "      <th>868</th>\n",
       "      <td>-1.065973</td>\n",
       "      <td>-0.307797</td>\n",
       "      <td>0.025638</td>\n",
       "      <td>-1.492625</td>\n",
       "      <td>-0.491977</td>\n",
       "      <td>1.668512</td>\n",
       "    </tr>\n",
       "  </tbody>\n",
       "</table>\n",
       "</div>"
      ],
      "text/plain": [
       "           24        23        22        21        20        19\n",
       "864 -1.024661 -0.303106  0.032146 -1.425861 -0.524859  1.643820\n",
       "865 -1.031170 -0.303869  0.031008 -1.438112 -0.519242  1.648712\n",
       "866 -1.031509 -0.303930  0.031686 -1.431345 -0.519834  1.643611\n",
       "867 -1.039068 -0.305782  0.029384 -1.457848 -0.509792  1.669187\n",
       "868 -1.065973 -0.307797  0.025638 -1.492625 -0.491977  1.668512"
      ]
     },
     "execution_count": 38,
     "metadata": {},
     "output_type": "execute_result"
    }
   ],
   "source": [
    "df_transformed_test.tail()"
   ]
  },
  {
   "cell_type": "code",
   "execution_count": 39,
   "metadata": {},
   "outputs": [
    {
     "name": "stdout",
     "output_type": "stream",
     "text": [
      "['component_1', 'component_2', 'component_3', 'component_4', 'component_5', 'component_6']\n"
     ]
    }
   ],
   "source": [
    "# add column names\n",
    "PCA_list=[]\n",
    "for i in range(1, n_top + 1):\n",
    "    PCA_list.append('component_'+str(i))\n",
    "    \n",
    "print(PCA_list)"
   ]
  },
  {
   "cell_type": "code",
   "execution_count": 40,
   "metadata": {},
   "outputs": [
    {
     "data": {
      "text/html": [
       "<div>\n",
       "<style scoped>\n",
       "    .dataframe tbody tr th:only-of-type {\n",
       "        vertical-align: middle;\n",
       "    }\n",
       "\n",
       "    .dataframe tbody tr th {\n",
       "        vertical-align: top;\n",
       "    }\n",
       "\n",
       "    .dataframe thead th {\n",
       "        text-align: right;\n",
       "    }\n",
       "</style>\n",
       "<table border=\"1\" class=\"dataframe\">\n",
       "  <thead>\n",
       "    <tr style=\"text-align: right;\">\n",
       "      <th></th>\n",
       "      <th>component_1</th>\n",
       "      <th>component_2</th>\n",
       "      <th>component_3</th>\n",
       "      <th>component_4</th>\n",
       "      <th>component_5</th>\n",
       "      <th>component_6</th>\n",
       "    </tr>\n",
       "  </thead>\n",
       "  <tbody>\n",
       "    <tr>\n",
       "      <th>864</th>\n",
       "      <td>-1.024661</td>\n",
       "      <td>-0.303106</td>\n",
       "      <td>0.032146</td>\n",
       "      <td>-1.425861</td>\n",
       "      <td>-0.524859</td>\n",
       "      <td>1.643820</td>\n",
       "    </tr>\n",
       "    <tr>\n",
       "      <th>865</th>\n",
       "      <td>-1.031170</td>\n",
       "      <td>-0.303869</td>\n",
       "      <td>0.031008</td>\n",
       "      <td>-1.438112</td>\n",
       "      <td>-0.519242</td>\n",
       "      <td>1.648712</td>\n",
       "    </tr>\n",
       "    <tr>\n",
       "      <th>866</th>\n",
       "      <td>-1.031509</td>\n",
       "      <td>-0.303930</td>\n",
       "      <td>0.031686</td>\n",
       "      <td>-1.431345</td>\n",
       "      <td>-0.519834</td>\n",
       "      <td>1.643611</td>\n",
       "    </tr>\n",
       "    <tr>\n",
       "      <th>867</th>\n",
       "      <td>-1.039068</td>\n",
       "      <td>-0.305782</td>\n",
       "      <td>0.029384</td>\n",
       "      <td>-1.457848</td>\n",
       "      <td>-0.509792</td>\n",
       "      <td>1.669187</td>\n",
       "    </tr>\n",
       "    <tr>\n",
       "      <th>868</th>\n",
       "      <td>-1.065973</td>\n",
       "      <td>-0.307797</td>\n",
       "      <td>0.025638</td>\n",
       "      <td>-1.492625</td>\n",
       "      <td>-0.491977</td>\n",
       "      <td>1.668512</td>\n",
       "    </tr>\n",
       "  </tbody>\n",
       "</table>\n",
       "</div>"
      ],
      "text/plain": [
       "     component_1  component_2  component_3  component_4  component_5  \\\n",
       "864    -1.024661    -0.303106     0.032146    -1.425861    -0.524859   \n",
       "865    -1.031170    -0.303869     0.031008    -1.438112    -0.519242   \n",
       "866    -1.031509    -0.303930     0.031686    -1.431345    -0.519834   \n",
       "867    -1.039068    -0.305782     0.029384    -1.457848    -0.509792   \n",
       "868    -1.065973    -0.307797     0.025638    -1.492625    -0.491977   \n",
       "\n",
       "     component_6  \n",
       "864     1.643820  \n",
       "865     1.648712  \n",
       "866     1.643611  \n",
       "867     1.669187  \n",
       "868     1.668512  "
      ]
     },
     "execution_count": 40,
     "metadata": {},
     "output_type": "execute_result"
    }
   ],
   "source": [
    "for x in [df_transformed_train, df_transformed_test]:\n",
    "    x.columns=PCA_list \n",
    "    \n",
    "# print and store the result\n",
    "df_transformed_test.tail()"
   ]
  },
  {
   "cell_type": "code",
   "execution_count": 41,
   "metadata": {},
   "outputs": [],
   "source": [
    "df_transformed_train.to_csv('pca/train.csv')\n",
    "df_transformed_test.to_csv('pca/test.csv')"
   ]
  },
  {
   "cell_type": "markdown",
   "metadata": {},
   "source": [
    "Finally we need to **delete the endpoint created** so we avoid extra charges."
   ]
  },
  {
   "cell_type": "code",
   "execution_count": 42,
   "metadata": {},
   "outputs": [],
   "source": [
    "# delete predictor endpoint\n",
    "# session.delete_endpoint(pca_predictor.endpoint)\n",
    "\n",
    "pca_predictor.delete_endpoint() # new way of deleting in Sagemaker 2.0"
   ]
  },
  {
   "cell_type": "markdown",
   "metadata": {},
   "source": [
    "## Recap and Discussion\n",
    "\n",
    "We grabbed our data features (27) and **reduced the dataset's dimendionality using Principal Component Analysis, reducing it to 6 and making sure that 91% of the variance in the dataset is preserved** by these. We also analysed the weights of the newly created features, and observed that they included relevant data, such as top stock index prices, top traded currency pairs, commodities and technical indicators used by traders.\n",
    "\n",
    "## What's next?\n",
    "\n",
    "On the following notebooks we will still cover:\n",
    "- **XGBoost for price forecasting and trading signal**\n",
    "- **Neural network for price forecasting and trading signal**\n",
    "- **Final discussion and model comparison**"
   ]
  }
 ],
 "metadata": {
  "kernelspec": {
   "display_name": "conda_mxnet_p36",
   "language": "python",
   "name": "conda_mxnet_p36"
  },
  "language_info": {
   "codemirror_mode": {
    "name": "ipython",
    "version": 3
   },
   "file_extension": ".py",
   "mimetype": "text/x-python",
   "name": "python",
   "nbconvert_exporter": "python",
   "pygments_lexer": "ipython3",
   "version": "3.6.10"
  }
 },
 "nbformat": 4,
 "nbformat_minor": 4
}
