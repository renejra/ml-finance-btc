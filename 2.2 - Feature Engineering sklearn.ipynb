{
 "cells": [
  {
   "cell_type": "markdown",
   "metadata": {},
   "source": [
    "# Machine Learning to forecast Bitcoin price movements\n",
    "# Part 2: Feature Engineering with PCA\n",
    "\n",
    "The objective of this notebook will be to **use Principal Component Analysis, to reduce the dimensionality of our dataset before using other models** to predict prices and daily returns. We will use as a benchmark for this exercise, our own adaptation from Udacity's [Machine Learning deployment case studies with AWS](https://github.com/udacity/ML_SageMaker_Studies) where PCA is used. After performin our model, we will create new data sets with reduced dimensionality, which will be prepared for use by follow-up models, in the `pca/` folder."
   ]
  },
  {
   "cell_type": "code",
   "execution_count": 1,
   "metadata": {},
   "outputs": [],
   "source": [
    "import pandas as pd\n",
    "import numpy as np\n",
    "\n",
    "pd.set_option('max_rows', None)\n",
    "pd.set_option('max_columns', None)"
   ]
  },
  {
   "cell_type": "markdown",
   "metadata": {},
   "source": [
    "We will start by sourcing the feedin datasets already prepared during our first notebook."
   ]
  },
  {
   "cell_type": "code",
   "execution_count": 2,
   "metadata": {},
   "outputs": [
    {
     "data": {
      "text/html": [
       "<div>\n",
       "<style scoped>\n",
       "    .dataframe tbody tr th:only-of-type {\n",
       "        vertical-align: middle;\n",
       "    }\n",
       "\n",
       "    .dataframe tbody tr th {\n",
       "        vertical-align: top;\n",
       "    }\n",
       "\n",
       "    .dataframe thead th {\n",
       "        text-align: right;\n",
       "    }\n",
       "</style>\n",
       "<table border=\"1\" class=\"dataframe\">\n",
       "  <thead>\n",
       "    <tr style=\"text-align: right;\">\n",
       "      <th></th>\n",
       "      <th>shangai</th>\n",
       "      <th>btc_cumulative</th>\n",
       "      <th>crude oil</th>\n",
       "      <th>euro</th>\n",
       "      <th>gold</th>\n",
       "      <th>silver</th>\n",
       "      <th>spy</th>\n",
       "      <th>ftse</th>\n",
       "      <th>hsi</th>\n",
       "      <th>nasdaq</th>\n",
       "      <th>nikkei</th>\n",
       "      <th>rates</th>\n",
       "      <th>MA4</th>\n",
       "      <th>MA96</th>\n",
       "      <th>MA200</th>\n",
       "      <th>stochRSI</th>\n",
       "      <th>RSI</th>\n",
       "      <th>btc_std_dev</th>\n",
       "      <th>std_dif</th>\n",
       "      <th>hashrate</th>\n",
       "      <th>difficulty</th>\n",
       "      <th>transactions</th>\n",
       "      <th>t_cost</th>\n",
       "      <th>returns</th>\n",
       "      <th>btc_close</th>\n",
       "      <th>returns_label</th>\n",
       "    </tr>\n",
       "  </thead>\n",
       "  <tbody>\n",
       "    <tr>\n",
       "      <th>1835</th>\n",
       "      <td>1.335581</td>\n",
       "      <td>199254.859149</td>\n",
       "      <td>0.783512</td>\n",
       "      <td>0.917545</td>\n",
       "      <td>1.086655</td>\n",
       "      <td>0.942170</td>\n",
       "      <td>2.490353</td>\n",
       "      <td>1.474798</td>\n",
       "      <td>1.472206</td>\n",
       "      <td>3.155380</td>\n",
       "      <td>2.433228</td>\n",
       "      <td>0.832321</td>\n",
       "      <td>14940.0</td>\n",
       "      <td>7436.0</td>\n",
       "      <td>4667.0</td>\n",
       "      <td>30.504255</td>\n",
       "      <td>59.348167</td>\n",
       "      <td>0.103823</td>\n",
       "      <td>16099.688169</td>\n",
       "      <td>1.257020e+07</td>\n",
       "      <td>1.873105e+12</td>\n",
       "      <td>285966876.0</td>\n",
       "      <td>146.595142</td>\n",
       "      <td>0.147804</td>\n",
       "      <td>16099.791992</td>\n",
       "      <td>2</td>\n",
       "    </tr>\n",
       "    <tr>\n",
       "      <th>1836</th>\n",
       "      <td>1.323324</td>\n",
       "      <td>196021.035153</td>\n",
       "      <td>0.779200</td>\n",
       "      <td>0.916414</td>\n",
       "      <td>1.089109</td>\n",
       "      <td>0.947816</td>\n",
       "      <td>2.491565</td>\n",
       "      <td>1.480236</td>\n",
       "      <td>1.473184</td>\n",
       "      <td>3.156785</td>\n",
       "      <td>2.435197</td>\n",
       "      <td>0.814440</td>\n",
       "      <td>14949.0</td>\n",
       "      <td>7558.0</td>\n",
       "      <td>4741.0</td>\n",
       "      <td>32.676696</td>\n",
       "      <td>57.450805</td>\n",
       "      <td>0.103798</td>\n",
       "      <td>15838.395225</td>\n",
       "      <td>1.322199e+07</td>\n",
       "      <td>1.873105e+12</td>\n",
       "      <td>286214316.0</td>\n",
       "      <td>161.686071</td>\n",
       "      <td>-0.016230</td>\n",
       "      <td>15838.499023</td>\n",
       "      <td>0</td>\n",
       "    </tr>\n",
       "    <tr>\n",
       "      <th>1837</th>\n",
       "      <td>1.331646</td>\n",
       "      <td>180773.437289</td>\n",
       "      <td>0.781813</td>\n",
       "      <td>0.919729</td>\n",
       "      <td>1.095117</td>\n",
       "      <td>0.959964</td>\n",
       "      <td>2.496691</td>\n",
       "      <td>1.480664</td>\n",
       "      <td>1.486426</td>\n",
       "      <td>3.161707</td>\n",
       "      <td>2.421674</td>\n",
       "      <td>0.820513</td>\n",
       "      <td>15143.0</td>\n",
       "      <td>7664.0</td>\n",
       "      <td>4809.0</td>\n",
       "      <td>12.651295</td>\n",
       "      <td>48.819515</td>\n",
       "      <td>0.103790</td>\n",
       "      <td>14606.389374</td>\n",
       "      <td>1.452556e+07</td>\n",
       "      <td>1.873105e+12</td>\n",
       "      <td>286521958.0</td>\n",
       "      <td>138.582976</td>\n",
       "      <td>-0.077786</td>\n",
       "      <td>14606.493164</td>\n",
       "      <td>0</td>\n",
       "    </tr>\n",
       "    <tr>\n",
       "      <th>1838</th>\n",
       "      <td>1.336004</td>\n",
       "      <td>181388.635430</td>\n",
       "      <td>0.789391</td>\n",
       "      <td>0.922892</td>\n",
       "      <td>1.105441</td>\n",
       "      <td>0.972967</td>\n",
       "      <td>2.487277</td>\n",
       "      <td>1.493270</td>\n",
       "      <td>1.489186</td>\n",
       "      <td>3.140431</td>\n",
       "      <td>2.419650</td>\n",
       "      <td>0.811404</td>\n",
       "      <td>15300.0</td>\n",
       "      <td>7772.0</td>\n",
       "      <td>4878.0</td>\n",
       "      <td>13.545089</td>\n",
       "      <td>49.204756</td>\n",
       "      <td>0.103764</td>\n",
       "      <td>14656.097408</td>\n",
       "      <td>1.387377e+07</td>\n",
       "      <td>1.873105e+12</td>\n",
       "      <td>286827011.0</td>\n",
       "      <td>124.845787</td>\n",
       "      <td>0.003403</td>\n",
       "      <td>14656.201172</td>\n",
       "      <td>1</td>\n",
       "    </tr>\n",
       "    <tr>\n",
       "      <th>1839</th>\n",
       "      <td>1.336004</td>\n",
       "      <td>169024.870251</td>\n",
       "      <td>0.789391</td>\n",
       "      <td>0.927778</td>\n",
       "      <td>1.105441</td>\n",
       "      <td>0.972967</td>\n",
       "      <td>2.487277</td>\n",
       "      <td>1.493270</td>\n",
       "      <td>1.489186</td>\n",
       "      <td>3.140431</td>\n",
       "      <td>2.419650</td>\n",
       "      <td>0.811404</td>\n",
       "      <td>14690.0</td>\n",
       "      <td>7871.0</td>\n",
       "      <td>4941.0</td>\n",
       "      <td>0.000000</td>\n",
       "      <td>41.913678</td>\n",
       "      <td>0.103752</td>\n",
       "      <td>13657.105232</td>\n",
       "      <td>1.517735e+07</td>\n",
       "      <td>1.873105e+12</td>\n",
       "      <td>287815664.0</td>\n",
       "      <td>125.970638</td>\n",
       "      <td>-0.068162</td>\n",
       "      <td>13657.208984</td>\n",
       "      <td>0</td>\n",
       "    </tr>\n",
       "  </tbody>\n",
       "</table>\n",
       "</div>"
      ],
      "text/plain": [
       "       shangai  btc_cumulative  crude oil      euro      gold    silver  \\\n",
       "1835  1.335581   199254.859149   0.783512  0.917545  1.086655  0.942170   \n",
       "1836  1.323324   196021.035153   0.779200  0.916414  1.089109  0.947816   \n",
       "1837  1.331646   180773.437289   0.781813  0.919729  1.095117  0.959964   \n",
       "1838  1.336004   181388.635430   0.789391  0.922892  1.105441  0.972967   \n",
       "1839  1.336004   169024.870251   0.789391  0.927778  1.105441  0.972967   \n",
       "\n",
       "           spy      ftse       hsi    nasdaq    nikkei     rates      MA4  \\\n",
       "1835  2.490353  1.474798  1.472206  3.155380  2.433228  0.832321  14940.0   \n",
       "1836  2.491565  1.480236  1.473184  3.156785  2.435197  0.814440  14949.0   \n",
       "1837  2.496691  1.480664  1.486426  3.161707  2.421674  0.820513  15143.0   \n",
       "1838  2.487277  1.493270  1.489186  3.140431  2.419650  0.811404  15300.0   \n",
       "1839  2.487277  1.493270  1.489186  3.140431  2.419650  0.811404  14690.0   \n",
       "\n",
       "        MA96   MA200   stochRSI        RSI  btc_std_dev       std_dif  \\\n",
       "1835  7436.0  4667.0  30.504255  59.348167     0.103823  16099.688169   \n",
       "1836  7558.0  4741.0  32.676696  57.450805     0.103798  15838.395225   \n",
       "1837  7664.0  4809.0  12.651295  48.819515     0.103790  14606.389374   \n",
       "1838  7772.0  4878.0  13.545089  49.204756     0.103764  14656.097408   \n",
       "1839  7871.0  4941.0   0.000000  41.913678     0.103752  13657.105232   \n",
       "\n",
       "          hashrate    difficulty  transactions      t_cost   returns  \\\n",
       "1835  1.257020e+07  1.873105e+12   285966876.0  146.595142  0.147804   \n",
       "1836  1.322199e+07  1.873105e+12   286214316.0  161.686071 -0.016230   \n",
       "1837  1.452556e+07  1.873105e+12   286521958.0  138.582976 -0.077786   \n",
       "1838  1.387377e+07  1.873105e+12   286827011.0  124.845787  0.003403   \n",
       "1839  1.517735e+07  1.873105e+12   287815664.0  125.970638 -0.068162   \n",
       "\n",
       "         btc_close  returns_label  \n",
       "1835  16099.791992              2  \n",
       "1836  15838.499023              0  \n",
       "1837  14606.493164              0  \n",
       "1838  14656.201172              1  \n",
       "1839  13657.208984              0  "
      ]
     },
     "execution_count": 2,
     "metadata": {},
     "output_type": "execute_result"
    }
   ],
   "source": [
    "store_list = ['train_x', 'train_nx', 'test_x', 'test_nx', 'train_y', 'train_ny', 'test_y', 'test_ny']\n",
    "data = {}\n",
    "\n",
    "for i in range(len(store_list)):\n",
    "    data[store_list[i]] = pd.read_csv('data/'+store_list[i]+'.csv')\n",
    "    data[store_list[i]].drop(columns=['Date'], inplace=True)\n",
    "\n",
    "data['train_x'].tail()"
   ]
  },
  {
   "cell_type": "markdown",
   "metadata": {},
   "source": [
    "## Model preparation\n",
    "\n",
    "To inialize our model, we first need to get Sagemaker session parameters, such as role, default bucket name and so on. We will also need to store our datasets in the default S3 bucket, in which we will create a folder for this excercise."
   ]
  },
  {
   "cell_type": "code",
   "execution_count": 3,
   "metadata": {},
   "outputs": [
    {
     "name": "stdout",
     "output_type": "stream",
     "text": [
      "arn:aws:iam::724888201472:role/service-role/AmazonSageMaker-ExecutionRole-20201115T171901\n"
     ]
    }
   ],
   "source": [
    "import sagemaker\n",
    "from sagemaker import get_execution_role\n",
    "\n",
    "session = sagemaker.Session() # store the current SageMaker session\n",
    "\n",
    "# get IAM role\n",
    "role = get_execution_role()\n",
    "print(role)"
   ]
  },
  {
   "cell_type": "code",
   "execution_count": 4,
   "metadata": {},
   "outputs": [
    {
     "name": "stdout",
     "output_type": "stream",
     "text": [
      "sagemaker-eu-central-1-724888201472\n",
      "\n"
     ]
    }
   ],
   "source": [
    "# get default bucket\n",
    "bucket_name = session.default_bucket()\n",
    "print(bucket_name)\n",
    "print()"
   ]
  },
  {
   "cell_type": "code",
   "execution_count": 5,
   "metadata": {},
   "outputs": [
    {
     "name": "stdout",
     "output_type": "stream",
     "text": [
      "Training artifacts will be uploaded to: s3://sagemaker-eu-central-1-724888201472/capstone-pca/\n"
     ]
    }
   ],
   "source": [
    "# define location to store model artifacts\n",
    "prefix = 'capstone-pca'\n",
    "\n",
    "output_path='s3://{}/{}/'.format(bucket_name, prefix)\n",
    "\n",
    "print('Training artifacts will be uploaded to: {}'.format(output_path))"
   ]
  },
  {
   "cell_type": "code",
   "execution_count": 6,
   "metadata": {},
   "outputs": [
    {
     "data": {
      "text/plain": [
       "(1840, 26)"
      ]
     },
     "execution_count": 6,
     "metadata": {},
     "output_type": "execute_result"
    }
   ],
   "source": [
    "data['train_nx'].shape"
   ]
  },
  {
   "cell_type": "markdown",
   "metadata": {},
   "source": [
    "## Instantiation and training\n",
    "Now we will instantiate a PCA model from AWS Sagemaker, passing in the number of components that our dataset has. We also need to convert the train data into recordset format, before fitting or training the model."
   ]
  },
  {
   "cell_type": "code",
   "execution_count": 7,
   "metadata": {},
   "outputs": [],
   "source": [
    "from sagemaker import PCA\n",
    "\n",
    "# this is current features - 1\n",
    "\n",
    "N_COMPONENTS= data['train_nx'].shape[1] - 1\n",
    "\n",
    "pca_model = PCA(role=role,\n",
    "             instance_count=1,\n",
    "             instance_type='ml.c4.xlarge',\n",
    "             output_path=output_path, # specified, above\n",
    "             num_components=N_COMPONENTS, \n",
    "             sagemaker_session=session)\n"
   ]
  },
  {
   "cell_type": "code",
   "execution_count": 8,
   "metadata": {},
   "outputs": [],
   "source": [
    "# convert df to np array\n",
    "train_data = data['train_nx'].values.astype('float32')\n",
    "\n",
    "# To-do for later...change datetime index for a timestamp to include in model\n",
    "\n",
    "# convert to RecordSet format\n",
    "record_train = pca_model.record_set(train_data)"
   ]
  },
  {
   "cell_type": "code",
   "execution_count": 9,
   "metadata": {},
   "outputs": [
    {
     "data": {
      "text/plain": [
       "array([[3.0378178e-01, 2.9996377e-07, 8.3076006e-01, ..., 1.6372049e-01,\n",
       "        2.9996377e-07, 1.0000000e+00],\n",
       "       [2.9891202e-01, 0.0000000e+00, 8.3300346e-01, ..., 1.3622598e-01,\n",
       "        0.0000000e+00, 0.0000000e+00],\n",
       "       [2.9478431e-01, 4.1374372e-07, 8.2693321e-01, ..., 1.5797113e-01,\n",
       "        4.1374372e-07, 1.0000000e+00],\n",
       "       ...,\n",
       "       [4.1860431e-01, 5.0360411e-01, 6.4311165e-01, ..., 1.2543532e-01,\n",
       "        5.0360411e-01, 0.0000000e+00],\n",
       "       [4.2195818e-01, 5.0531799e-01, 6.4693850e-01, ..., 1.4603923e-01,\n",
       "        5.0531799e-01, 5.0000000e-01],\n",
       "       [4.2195818e-01, 4.7087404e-01, 6.4693850e-01, ..., 1.2787762e-01,\n",
       "        4.7087404e-01, 0.0000000e+00]], dtype=float32)"
      ]
     },
     "execution_count": 9,
     "metadata": {},
     "output_type": "execute_result"
    }
   ],
   "source": [
    "train_data"
   ]
  },
  {
   "cell_type": "code",
   "execution_count": 22,
   "metadata": {},
   "outputs": [
    {
     "name": "stderr",
     "output_type": "stream",
     "text": [
      "Defaulting to the only supported framework/algorithm version: 1. Ignoring framework/algorithm version: 1.\n"
     ]
    },
    {
     "name": "stdout",
     "output_type": "stream",
     "text": [
      "2020-12-31 11:29:23 Starting - Starting the training job...\n",
      "2020-12-31 11:29:47 Starting - Launching requested ML instancesProfilerReport-1609414163: InProgress\n",
      ".........\n",
      "2020-12-31 11:31:08 Starting - Preparing the instances for training......\n",
      "2020-12-31 11:32:16 Downloading - Downloading input data\n",
      "2020-12-31 11:32:16 Training - Downloading the training image..\u001b[34mDocker entrypoint called with argument(s): train\u001b[0m\n",
      "\u001b[34mRunning default environment configuration script\u001b[0m\n",
      "\u001b[34m[12/31/2020 11:32:39 INFO 140118576187200] Reading default configuration from /opt/amazon/lib/python2.7/site-packages/algorithm/resources/default-conf.json: {u'_num_gpus': u'auto', u'_log_level': u'info', u'subtract_mean': u'true', u'force_dense': u'true', u'epochs': 1, u'algorithm_mode': u'regular', u'extra_components': u'-1', u'_kvstore': u'dist_sync', u'_num_kv_servers': u'auto'}\u001b[0m\n",
      "\u001b[34m[12/31/2020 11:32:39 INFO 140118576187200] Merging with provided configuration from /opt/ml/input/config/hyperparameters.json: {u'feature_dim': u'26', u'mini_batch_size': u'500', u'num_components': u'25'}\u001b[0m\n",
      "\u001b[34m[12/31/2020 11:32:39 INFO 140118576187200] Final configuration: {u'num_components': u'25', u'_num_gpus': u'auto', u'_log_level': u'info', u'subtract_mean': u'true', u'force_dense': u'true', u'epochs': 1, u'algorithm_mode': u'regular', u'feature_dim': u'26', u'extra_components': u'-1', u'_kvstore': u'dist_sync', u'_num_kv_servers': u'auto', u'mini_batch_size': u'500'}\u001b[0m\n",
      "\u001b[34m[12/31/2020 11:32:39 WARNING 140118576187200] Loggers have already been setup.\u001b[0m\n",
      "\u001b[34m[12/31/2020 11:32:39 INFO 140118576187200] Launching parameter server for role scheduler\u001b[0m\n",
      "\u001b[34m[12/31/2020 11:32:39 INFO 140118576187200] {'ECS_CONTAINER_METADATA_URI': 'http://169.254.170.2/v3/15bd7388-f26b-46da-8204-f88fee7e3bde', 'ECS_CONTAINER_METADATA_URI_V4': 'http://169.254.170.2/v4/15bd7388-f26b-46da-8204-f88fee7e3bde', 'PROTOCOL_BUFFERS_PYTHON_IMPLEMENTATION_VERSION': '2', 'PATH': '/opt/amazon/bin:/usr/local/nvidia/bin:/usr/local/sbin:/usr/local/bin:/usr/sbin:/usr/bin:/sbin:/bin:/opt/amazon/bin:/opt/amazon/bin', 'SAGEMAKER_HTTP_PORT': '8080', 'HOME': '/root', 'PYTHONUNBUFFERED': 'TRUE', 'CANONICAL_ENVROOT': '/opt/amazon', 'LD_LIBRARY_PATH': '/opt/amazon/lib/python2.7/site-packages/cv2/../../../../lib:/usr/local/nvidia/lib64:/opt/amazon/lib', 'LANG': 'en_US.utf8', 'DMLC_INTERFACE': 'eth0', 'SHLVL': '1', 'AWS_REGION': 'eu-central-1', 'NVIDIA_VISIBLE_DEVICES': 'void', 'TRAINING_JOB_NAME': 'pca-2020-12-31-11-29-23-720', 'PROTOCOL_BUFFERS_PYTHON_IMPLEMENTATION': 'cpp', 'ENVROOT': '/opt/amazon', 'SAGEMAKER_DATA_PATH': '/opt/ml', 'NVIDIA_DRIVER_CAPABILITIES': 'compute,utility', 'NVIDIA_REQUIRE_CUDA': 'cuda>=9.0', 'OMP_NUM_THREADS': '2', 'HOSTNAME': 'ip-10-0-177-186.eu-central-1.compute.internal', 'AWS_CONTAINER_CREDENTIALS_RELATIVE_URI': '/v2/credentials/535a29a8-e1ca-4ea0-b67d-bb019428ecaf', 'PWD': '/', 'TRAINING_JOB_ARN': 'arn:aws:sagemaker:eu-central-1:724888201472:training-job/pca-2020-12-31-11-29-23-720', 'AWS_EXECUTION_ENV': 'AWS_ECS_EC2'}\u001b[0m\n",
      "\u001b[34m[12/31/2020 11:32:39 INFO 140118576187200] envs={'ECS_CONTAINER_METADATA_URI': 'http://169.254.170.2/v3/15bd7388-f26b-46da-8204-f88fee7e3bde', 'ECS_CONTAINER_METADATA_URI_V4': 'http://169.254.170.2/v4/15bd7388-f26b-46da-8204-f88fee7e3bde', 'PROTOCOL_BUFFERS_PYTHON_IMPLEMENTATION_VERSION': '2', 'DMLC_NUM_WORKER': '1', 'DMLC_PS_ROOT_PORT': '9000', 'PATH': '/opt/amazon/bin:/usr/local/nvidia/bin:/usr/local/sbin:/usr/local/bin:/usr/sbin:/usr/bin:/sbin:/bin:/opt/amazon/bin:/opt/amazon/bin', 'SAGEMAKER_HTTP_PORT': '8080', 'HOME': '/root', 'PYTHONUNBUFFERED': 'TRUE', 'CANONICAL_ENVROOT': '/opt/amazon', 'LD_LIBRARY_PATH': '/opt/amazon/lib/python2.7/site-packages/cv2/../../../../lib:/usr/local/nvidia/lib64:/opt/amazon/lib', 'LANG': 'en_US.utf8', 'DMLC_INTERFACE': 'eth0', 'SHLVL': '1', 'DMLC_PS_ROOT_URI': '10.0.177.186', 'AWS_REGION': 'eu-central-1', 'NVIDIA_VISIBLE_DEVICES': 'void', 'TRAINING_JOB_NAME': 'pca-2020-12-31-11-29-23-720', 'PROTOCOL_BUFFERS_PYTHON_IMPLEMENTATION': 'cpp', 'ENVROOT': '/opt/amazon', 'SAGEMAKER_DATA_PATH': '/opt/ml', 'NVIDIA_DRIVER_CAPABILITIES': 'compute,utility', 'NVIDIA_REQUIRE_CUDA': 'cuda>=9.0', 'OMP_NUM_THREADS': '2', 'HOSTNAME': 'ip-10-0-177-186.eu-central-1.compute.internal', 'AWS_CONTAINER_CREDENTIALS_RELATIVE_URI': '/v2/credentials/535a29a8-e1ca-4ea0-b67d-bb019428ecaf', 'DMLC_ROLE': 'scheduler', 'PWD': '/', 'DMLC_NUM_SERVER': '1', 'TRAINING_JOB_ARN': 'arn:aws:sagemaker:eu-central-1:724888201472:training-job/pca-2020-12-31-11-29-23-720', 'AWS_EXECUTION_ENV': 'AWS_ECS_EC2'}\u001b[0m\n",
      "\u001b[34m[12/31/2020 11:32:39 INFO 140118576187200] Launching parameter server for role server\u001b[0m\n",
      "\u001b[34m[12/31/2020 11:32:39 INFO 140118576187200] {'ECS_CONTAINER_METADATA_URI': 'http://169.254.170.2/v3/15bd7388-f26b-46da-8204-f88fee7e3bde', 'ECS_CONTAINER_METADATA_URI_V4': 'http://169.254.170.2/v4/15bd7388-f26b-46da-8204-f88fee7e3bde', 'PROTOCOL_BUFFERS_PYTHON_IMPLEMENTATION_VERSION': '2', 'PATH': '/opt/amazon/bin:/usr/local/nvidia/bin:/usr/local/sbin:/usr/local/bin:/usr/sbin:/usr/bin:/sbin:/bin:/opt/amazon/bin:/opt/amazon/bin', 'SAGEMAKER_HTTP_PORT': '8080', 'HOME': '/root', 'PYTHONUNBUFFERED': 'TRUE', 'CANONICAL_ENVROOT': '/opt/amazon', 'LD_LIBRARY_PATH': '/opt/amazon/lib/python2.7/site-packages/cv2/../../../../lib:/usr/local/nvidia/lib64:/opt/amazon/lib', 'LANG': 'en_US.utf8', 'DMLC_INTERFACE': 'eth0', 'SHLVL': '1', 'AWS_REGION': 'eu-central-1', 'NVIDIA_VISIBLE_DEVICES': 'void', 'TRAINING_JOB_NAME': 'pca-2020-12-31-11-29-23-720', 'PROTOCOL_BUFFERS_PYTHON_IMPLEMENTATION': 'cpp', 'ENVROOT': '/opt/amazon', 'SAGEMAKER_DATA_PATH': '/opt/ml', 'NVIDIA_DRIVER_CAPABILITIES': 'compute,utility', 'NVIDIA_REQUIRE_CUDA': 'cuda>=9.0', 'OMP_NUM_THREADS': '2', 'HOSTNAME': 'ip-10-0-177-186.eu-central-1.compute.internal', 'AWS_CONTAINER_CREDENTIALS_RELATIVE_URI': '/v2/credentials/535a29a8-e1ca-4ea0-b67d-bb019428ecaf', 'PWD': '/', 'TRAINING_JOB_ARN': 'arn:aws:sagemaker:eu-central-1:724888201472:training-job/pca-2020-12-31-11-29-23-720', 'AWS_EXECUTION_ENV': 'AWS_ECS_EC2'}\u001b[0m\n",
      "\u001b[34m[12/31/2020 11:32:39 INFO 140118576187200] envs={'ECS_CONTAINER_METADATA_URI': 'http://169.254.170.2/v3/15bd7388-f26b-46da-8204-f88fee7e3bde', 'ECS_CONTAINER_METADATA_URI_V4': 'http://169.254.170.2/v4/15bd7388-f26b-46da-8204-f88fee7e3bde', 'PROTOCOL_BUFFERS_PYTHON_IMPLEMENTATION_VERSION': '2', 'DMLC_NUM_WORKER': '1', 'DMLC_PS_ROOT_PORT': '9000', 'PATH': '/opt/amazon/bin:/usr/local/nvidia/bin:/usr/local/sbin:/usr/local/bin:/usr/sbin:/usr/bin:/sbin:/bin:/opt/amazon/bin:/opt/amazon/bin', 'SAGEMAKER_HTTP_PORT': '8080', 'HOME': '/root', 'PYTHONUNBUFFERED': 'TRUE', 'CANONICAL_ENVROOT': '/opt/amazon', 'LD_LIBRARY_PATH': '/opt/amazon/lib/python2.7/site-packages/cv2/../../../../lib:/usr/local/nvidia/lib64:/opt/amazon/lib', 'LANG': 'en_US.utf8', 'DMLC_INTERFACE': 'eth0', 'SHLVL': '1', 'DMLC_PS_ROOT_URI': '10.0.177.186', 'AWS_REGION': 'eu-central-1', 'NVIDIA_VISIBLE_DEVICES': 'void', 'TRAINING_JOB_NAME': 'pca-2020-12-31-11-29-23-720', 'PROTOCOL_BUFFERS_PYTHON_IMPLEMENTATION': 'cpp', 'ENVROOT': '/opt/amazon', 'SAGEMAKER_DATA_PATH': '/opt/ml', 'NVIDIA_DRIVER_CAPABILITIES': 'compute,utility', 'NVIDIA_REQUIRE_CUDA': 'cuda>=9.0', 'OMP_NUM_THREADS': '2', 'HOSTNAME': 'ip-10-0-177-186.eu-central-1.compute.internal', 'AWS_CONTAINER_CREDENTIALS_RELATIVE_URI': '/v2/credentials/535a29a8-e1ca-4ea0-b67d-bb019428ecaf', 'DMLC_ROLE': 'server', 'PWD': '/', 'DMLC_NUM_SERVER': '1', 'TRAINING_JOB_ARN': 'arn:aws:sagemaker:eu-central-1:724888201472:training-job/pca-2020-12-31-11-29-23-720', 'AWS_EXECUTION_ENV': 'AWS_ECS_EC2'}\u001b[0m\n",
      "\u001b[34m[12/31/2020 11:32:39 INFO 140118576187200] Environment: {'ECS_CONTAINER_METADATA_URI': 'http://169.254.170.2/v3/15bd7388-f26b-46da-8204-f88fee7e3bde', 'ECS_CONTAINER_METADATA_URI_V4': 'http://169.254.170.2/v4/15bd7388-f26b-46da-8204-f88fee7e3bde', 'PROTOCOL_BUFFERS_PYTHON_IMPLEMENTATION_VERSION': '2', 'DMLC_PS_ROOT_PORT': '9000', 'DMLC_NUM_WORKER': '1', 'SAGEMAKER_HTTP_PORT': '8080', 'PATH': '/opt/amazon/bin:/usr/local/nvidia/bin:/usr/local/sbin:/usr/local/bin:/usr/sbin:/usr/bin:/sbin:/bin:/opt/amazon/bin:/opt/amazon/bin', 'PYTHONUNBUFFERED': 'TRUE', 'CANONICAL_ENVROOT': '/opt/amazon', 'LD_LIBRARY_PATH': '/opt/amazon/lib/python2.7/site-packages/cv2/../../../../lib:/usr/local/nvidia/lib64:/opt/amazon/lib', 'LANG': 'en_US.utf8', 'DMLC_INTERFACE': 'eth0', 'SHLVL': '1', 'DMLC_PS_ROOT_URI': '10.0.177.186', 'AWS_REGION': 'eu-central-1', 'NVIDIA_VISIBLE_DEVICES': 'void', 'TRAINING_JOB_NAME': 'pca-2020-12-31-11-29-23-720', 'HOME': '/root', 'PROTOCOL_BUFFERS_PYTHON_IMPLEMENTATION': 'cpp', 'ENVROOT': '/opt/amazon', 'SAGEMAKER_DATA_PATH': '/opt/ml', 'NVIDIA_DRIVER_CAPABILITIES': 'compute,utility', 'NVIDIA_REQUIRE_CUDA': 'cuda>=9.0', 'OMP_NUM_THREADS': '2', 'HOSTNAME': 'ip-10-0-177-186.eu-central-1.compute.internal', 'AWS_CONTAINER_CREDENTIALS_RELATIVE_URI': '/v2/credentials/535a29a8-e1ca-4ea0-b67d-bb019428ecaf', 'DMLC_ROLE': 'worker', 'PWD': '/', 'DMLC_NUM_SERVER': '1', 'TRAINING_JOB_ARN': 'arn:aws:sagemaker:eu-central-1:724888201472:training-job/pca-2020-12-31-11-29-23-720', 'AWS_EXECUTION_ENV': 'AWS_ECS_EC2'}\u001b[0m\n",
      "\u001b[34mProcess 61 is a shell:scheduler.\u001b[0m\n",
      "\u001b[34mProcess 70 is a shell:server.\u001b[0m\n",
      "\u001b[34mProcess 1 is a worker.\u001b[0m\n",
      "\u001b[34m[12/31/2020 11:32:39 INFO 140118576187200] Using default worker.\u001b[0m\n",
      "\u001b[34m[12/31/2020 11:32:39 INFO 140118576187200] Loaded iterator creator application/x-recordio-protobuf for content type ('application/x-recordio-protobuf', '1.0')\u001b[0m\n",
      "\u001b[34m[12/31/2020 11:32:39 INFO 140118576187200] Loaded iterator creator application/x-labeled-vector-protobuf for content type ('application/x-labeled-vector-protobuf', '1.0')\u001b[0m\n",
      "\u001b[34m[12/31/2020 11:32:39 INFO 140118576187200] Loaded iterator creator protobuf for content type ('protobuf', '1.0')\u001b[0m\n",
      "\u001b[34m[12/31/2020 11:32:39 INFO 140118576187200] Checkpoint loading and saving are disabled.\u001b[0m\n",
      "\u001b[34m[12/31/2020 11:32:39 INFO 140118576187200] Create Store: dist_sync\u001b[0m\n",
      "\u001b[34m[12/31/2020 11:32:40 INFO 140118576187200] nvidia-smi took: 0.0252029895782 secs to identify 0 gpus\u001b[0m\n",
      "\u001b[34m[12/31/2020 11:32:40 INFO 140118576187200] Number of GPUs being used: 0\u001b[0m\n",
      "\u001b[34m[12/31/2020 11:32:40 INFO 140118576187200] The default executor is <PCAExecutor on cpu(0)>.\u001b[0m\n",
      "\u001b[34m[12/31/2020 11:32:40 INFO 140118576187200] 26 feature(s) found in 'data'.\u001b[0m\n",
      "\u001b[34m[12/31/2020 11:32:40 INFO 140118576187200] <PCAExecutor on cpu(0)> is assigned to batch slice from 0 to 499.\u001b[0m\n",
      "\u001b[34m#metrics {\"Metrics\": {\"initialize.time\": {\"count\": 1, \"max\": 747.4792003631592, \"sum\": 747.4792003631592, \"min\": 747.4792003631592}}, \"EndTime\": 1609414360.437027, \"Dimensions\": {\"Host\": \"algo-1\", \"Operation\": \"training\", \"Algorithm\": \"PCA\"}, \"StartTime\": 1609414359.679369}\n",
      "\u001b[0m\n",
      "\u001b[34m#metrics {\"Metrics\": {\"Max Batches Seen Between Resets\": {\"count\": 1, \"max\": 0, \"sum\": 0.0, \"min\": 0}, \"Number of Batches Since Last Reset\": {\"count\": 1, \"max\": 0, \"sum\": 0.0, \"min\": 0}, \"Number of Records Since Last Reset\": {\"count\": 1, \"max\": 0, \"sum\": 0.0, \"min\": 0}, \"Total Batches Seen\": {\"count\": 1, \"max\": 0, \"sum\": 0.0, \"min\": 0}, \"Total Records Seen\": {\"count\": 1, \"max\": 0, \"sum\": 0.0, \"min\": 0}, \"Max Records Seen Between Resets\": {\"count\": 1, \"max\": 0, \"sum\": 0.0, \"min\": 0}, \"Reset Count\": {\"count\": 1, \"max\": 0, \"sum\": 0.0, \"min\": 0}}, \"EndTime\": 1609414360.437276, \"Dimensions\": {\"Host\": \"algo-1\", \"Meta\": \"init_train_data_iter\", \"Operation\": \"training\", \"Algorithm\": \"PCA\"}, \"StartTime\": 1609414360.437222}\n",
      "\u001b[0m\n",
      "\u001b[34m[2020-12-31 11:32:40.437] [tensorio] [info] epoch_stats={\"data_pipeline\": \"/opt/ml/input/data/train\", \"epoch\": 0, \"duration\": 756, \"num_examples\": 1, \"num_bytes\": 64000}\u001b[0m\n",
      "\u001b[34m[2020-12-31 11:32:40.489] [tensorio] [info] epoch_stats={\"data_pipeline\": \"/opt/ml/input/data/train\", \"epoch\": 1, \"duration\": 39, \"num_examples\": 4, \"num_bytes\": 235520}\u001b[0m\n",
      "\u001b[34m#metrics {\"Metrics\": {\"epochs\": {\"count\": 1, \"max\": 1, \"sum\": 1.0, \"min\": 1}, \"update.time\": {\"count\": 1, \"max\": 52.18386650085449, \"sum\": 52.18386650085449, \"min\": 52.18386650085449}}, \"EndTime\": 1609414360.489871, \"Dimensions\": {\"Host\": \"algo-1\", \"Operation\": \"training\", \"Algorithm\": \"PCA\"}, \"StartTime\": 1609414360.437137}\n",
      "\u001b[0m\n",
      "\u001b[34m[12/31/2020 11:32:40 INFO 140118576187200] #progress_metric: host=algo-1, completed 100 % of epochs\u001b[0m\n",
      "\u001b[34m#metrics {\"Metrics\": {\"Max Batches Seen Between Resets\": {\"count\": 1, \"max\": 4, \"sum\": 4.0, \"min\": 4}, \"Number of Batches Since Last Reset\": {\"count\": 1, \"max\": 4, \"sum\": 4.0, \"min\": 4}, \"Number of Records Since Last Reset\": {\"count\": 1, \"max\": 1840, \"sum\": 1840.0, \"min\": 1840}, \"Total Batches Seen\": {\"count\": 1, \"max\": 4, \"sum\": 4.0, \"min\": 4}, \"Total Records Seen\": {\"count\": 1, \"max\": 1840, \"sum\": 1840.0, \"min\": 1840}, \"Max Records Seen Between Resets\": {\"count\": 1, \"max\": 1840, \"sum\": 1840.0, \"min\": 1840}, \"Reset Count\": {\"count\": 1, \"max\": 1, \"sum\": 1.0, \"min\": 1}}, \"EndTime\": 1609414360.490317, \"Dimensions\": {\"Host\": \"algo-1\", \"Meta\": \"training_data_iter\", \"Operation\": \"training\", \"Algorithm\": \"PCA\", \"epoch\": 0}, \"StartTime\": 1609414360.437633}\n",
      "\u001b[0m\n",
      "\u001b[34m[12/31/2020 11:32:40 INFO 140118576187200] #throughput_metric: host=algo-1, train throughput=34833.424477 records/second\u001b[0m\n",
      "\u001b[34m#metrics {\"Metrics\": {\"finalize.time\": {\"count\": 1, \"max\": 22.637128829956055, \"sum\": 22.637128829956055, \"min\": 22.637128829956055}}, \"EndTime\": 1609414360.513373, \"Dimensions\": {\"Host\": \"algo-1\", \"Operation\": \"training\", \"Algorithm\": \"PCA\"}, \"StartTime\": 1609414360.489973}\n",
      "\u001b[0m\n",
      "\u001b[34m[12/31/2020 11:32:40 INFO 140118576187200] Test data is not provided.\u001b[0m\n",
      "\u001b[34m#metrics {\"Metrics\": {\"totaltime\": {\"count\": 1, \"max\": 995.6200122833252, \"sum\": 995.6200122833252, \"min\": 995.6200122833252}, \"setuptime\": {\"count\": 1, \"max\": 23.337125778198242, \"sum\": 23.337125778198242, \"min\": 23.337125778198242}}, \"EndTime\": 1609414360.525459, \"Dimensions\": {\"Host\": \"algo-1\", \"Operation\": \"training\", \"Algorithm\": \"PCA\"}, \"StartTime\": 1609414360.51343}\n",
      "\u001b[0m\n",
      "\n",
      "2020-12-31 11:32:50 Uploading - Uploading generated training model\n",
      "2020-12-31 11:32:50 Completed - Training job completed\n",
      "Training seconds: 39\n",
      "Billable seconds: 39\n",
      "CPU times: user 437 ms, sys: 38.9 ms, total: 476 ms\n",
      "Wall time: 3min 41s\n"
     ]
    }
   ],
   "source": [
    "%%time\n",
    "\n",
    "# train the PCA mode on the formatted data\n",
    "pca_model.fit(record_train)"
   ]
  },
  {
   "cell_type": "markdown",
   "metadata": {},
   "source": [
    "## Loading the model for use\n",
    "**Important**: In order to use the model, we have to **note down the training job name, to provide it in the cell below** after the training job has finished. Please do so to reproduce results.\n",
    "\n",
    "Afterwards, we will download, unzip and load our model using MXNet, so we can use it to predict reduced features out of our dataset."
   ]
  },
  {
   "cell_type": "code",
   "execution_count": 23,
   "metadata": {},
   "outputs": [],
   "source": [
    "import os\n",
    "import boto3"
   ]
  },
  {
   "cell_type": "code",
   "execution_count": 24,
   "metadata": {},
   "outputs": [
    {
     "name": "stdout",
     "output_type": "stream",
     "text": [
      "capstone-pca/pca-2020-12-31-11-29-23-720/output/model.tar.gz\n"
     ]
    },
    {
     "data": {
      "text/plain": [
       "2304"
      ]
     },
     "execution_count": 24,
     "metadata": {},
     "output_type": "execute_result"
    }
   ],
   "source": [
    "# Name of the training job\n",
    "training_job_name='pca-2020-12-31-11-29-23-720'\n",
    "\n",
    "# where the model is saved, by default\n",
    "model_key = os.path.join(prefix, training_job_name, 'output/model.tar.gz')\n",
    "print(model_key)\n",
    "\n",
    "# download and unzip model\n",
    "boto3.resource('s3').Bucket(bucket_name).download_file(model_key, 'model.tar.gz')\n",
    "\n",
    "# unzipping model\n",
    "os.system('tar -zxvf model.tar.gz')\n",
    "os.system('unzip -o model-algo-1')"
   ]
  },
  {
   "cell_type": "code",
   "execution_count": 25,
   "metadata": {},
   "outputs": [
    {
     "name": "stdout",
     "output_type": "stream",
     "text": [
      "{'s': \n",
      "[        nan  0.05651988  0.10017655  0.12406036  0.22652104  0.24888292\n",
      "  0.52833     0.6340367   0.97095627  1.1054964   1.2496328   1.3641647\n",
      "  1.6065211   1.8456091   2.4668646   3.5444584   4.971365    6.102524\n",
      "  6.9650817   7.236399   10.4801655  11.040835   11.815383   19.303583\n",
      " 23.841597  ]\n",
      "<NDArray 25 @cpu(0)>, 'v': \n",
      "[[-9.20583432e-09 -1.93462870e-03 -6.35643071e-03 -1.15261544e-02\n",
      "  -1.12392819e-02 -1.04531273e-02 -5.42119741e-02 -4.57355864e-02\n",
      "  -5.98898064e-03 -4.35260721e-02 -1.40351921e-01  3.16108078e-01\n",
      "   3.16190422e-01 -2.45093450e-01 -4.12968472e-02  2.84086496e-01\n",
      "  -7.40679801e-02  5.17884083e-02 -7.05537796e-01  2.02540696e-01\n",
      "  -1.23710722e-01  7.59040713e-02 -6.31856844e-02  2.86612324e-02\n",
      "  -2.40190655e-01]\n",
      " [ 7.07096517e-01  2.18982212e-02 -1.76242180e-02  3.57799530e-02\n",
      "  -2.82886624e-01  1.28417984e-01  1.67585358e-01 -1.55204400e-01\n",
      "  -1.96069689e-03  2.15076972e-02 -1.79855272e-01 -9.30812135e-02\n",
      "   4.43695597e-02  8.87830034e-02  1.34646147e-01  4.22091633e-02\n",
      "  -1.83285907e-01 -3.08428407e-02  6.22077920e-02  2.00515568e-01\n",
      "  -1.05638271e-02 -1.29360959e-01  1.12257622e-01  1.11853238e-02\n",
      "  -5.61286993e-02]\n",
      " [ 8.53073288e-07 -3.22909837e-05  2.35637324e-03  5.75023424e-03\n",
      "   5.89679088e-03 -4.10133786e-03  8.50985721e-02  7.35922828e-02\n",
      "   2.61686519e-02 -3.63694280e-01  2.25635454e-01 -8.68342631e-03\n",
      "   4.59663510e-01 -1.66890129e-01  5.66441000e-01  1.88093856e-01\n",
      "   2.08660319e-01  2.57100165e-02  6.79144263e-02 -1.05652668e-01\n",
      "   2.42100000e-01 -1.28393099e-01  1.15065746e-01 -2.62208171e-02\n",
      "   2.42754385e-01]\n",
      " [ 7.75422464e-08 -2.46953615e-03 -7.80933956e-03 -1.30388215e-02\n",
      "   1.47740645e-02  1.31556559e-02 -1.65854592e-03 -4.20572162e-02\n",
      "  -1.66445635e-02  1.55693656e-02 -1.96670517e-01  6.57124147e-02\n",
      "   2.68476933e-01  7.13614970e-02 -6.10896409e-01  1.38343185e-01\n",
      "  -1.48774944e-02  2.29602661e-02 -9.03374574e-04  5.85714076e-03\n",
      "   4.88864392e-01 -2.12838784e-01  2.00398535e-01 -6.52376115e-02\n",
      "   3.93814266e-01]\n",
      " [ 1.91451818e-07 -4.48516896e-03 -1.04706613e-02  4.74895176e-04\n",
      "  -1.00339064e-02 -5.26703224e-02  1.00946464e-02 -1.41847804e-01\n",
      "  -2.60176975e-03  5.95429063e-01  2.99655080e-01  1.84628312e-02\n",
      "   1.55278742e-01 -1.58635989e-01  2.53369678e-02 -5.02834320e-02\n",
      "   3.37853372e-01 -1.63271669e-02  5.34238033e-02  4.88668263e-01\n",
      "  -1.79019392e-01 -3.09363883e-02 -1.36509261e-04 -4.82278317e-03\n",
      "   3.00928771e-01]\n",
      " [-3.22420533e-07  2.65955203e-03  8.36774148e-03  6.30978215e-03\n",
      "  -1.45775906e-03  2.92645954e-02 -5.51183932e-02  8.95016342e-02\n",
      "  -1.93112600e-03 -4.23779935e-01 -1.43814266e-01 -4.09837961e-01\n",
      "  -2.95606405e-01 -2.28355169e-01 -3.30357775e-02 -3.17686647e-01\n",
      "   1.42065942e-01 -2.87169237e-02 -3.39811563e-01  3.55126947e-01\n",
      "  -3.78158428e-02 -4.11324464e-02  3.01753804e-02 -1.08549204e-02\n",
      "   3.33830714e-01]\n",
      " [-2.64396448e-07  3.57801057e-02  7.69967437e-02  3.82981189e-02\n",
      "  -1.78129524e-01 -4.90021408e-01 -2.70624101e-01 -6.05501235e-01\n",
      "  -4.47314978e-03 -2.81252980e-01  1.68875009e-01 -5.19788079e-02\n",
      "   9.52018425e-02 -7.13339821e-02 -1.59229085e-01 -1.35893881e-01\n",
      "   1.15605272e-01  2.60445289e-02  1.22022197e-01  2.14107484e-02\n",
      "  -2.63070746e-04 -8.29977244e-02  7.42318109e-02  2.42786203e-02\n",
      "  -2.62503773e-01]\n",
      " [-5.88101841e-07  3.02334112e-04 -1.42712600e-03 -8.87508318e-03\n",
      "   2.82404316e-03  4.88697104e-02 -5.70184067e-02  7.67148808e-02\n",
      "  -3.13467048e-02  1.64663672e-01 -5.15661955e-01  1.63788617e-01\n",
      "  -9.36800614e-02 -1.82661861e-01  1.24484941e-01 -1.68292955e-01\n",
      "   5.76927960e-01  1.19313762e-01  6.01877049e-02 -1.19649254e-01\n",
      "   9.31873843e-02 -2.52086312e-01  2.42588401e-01  3.80467698e-02\n",
      "  -2.89909154e-01]\n",
      " [ 2.93085208e-07 -5.16517379e-04  4.97103063e-03  2.96717826e-02\n",
      "   8.57308321e-03 -2.71853302e-02  1.59097880e-01  2.90833209e-02\n",
      "   2.51942594e-02 -6.16069697e-02  3.56744558e-01 -2.40868106e-02\n",
      "  -3.60398322e-01  5.05183339e-01 -1.78035740e-02  3.42011958e-01\n",
      "   3.12830895e-01  1.08492702e-01 -2.88155198e-01  1.19084962e-01\n",
      "   1.12635523e-01 -2.24674538e-01  2.03116074e-01  2.52943262e-02\n",
      "  -1.59846693e-01]\n",
      " [ 8.96540541e-07 -2.41487231e-02 -6.35817274e-02 -4.93357517e-02\n",
      "   3.08776647e-01  7.71655977e-01 -1.35112509e-01 -3.21023762e-01\n",
      "   1.36219263e-02 -1.51491538e-01  2.33890906e-01  7.73335202e-03\n",
      "   9.87945199e-02 -4.61738855e-02 -1.25245422e-01 -1.38214305e-01\n",
      "   5.12947626e-02  1.88921243e-02  6.36257082e-02  5.15435152e-02\n",
      "  -1.96919069e-02 -6.63061887e-02  5.76297827e-02  2.02351306e-02\n",
      "  -1.95045069e-01]\n",
      " [ 2.33688382e-07 -4.13715700e-03 -4.95580072e-03 -9.91392182e-04\n",
      "  -5.37269097e-03 -2.59948950e-02  1.03082992e-01  2.53968507e-01\n",
      "   4.99451207e-03  1.91920877e-01  1.45171881e-01 -6.95511997e-01\n",
      "   2.14418858e-01 -3.02740991e-01 -2.06835732e-01  1.56954676e-01\n",
      "  -2.34591551e-02  8.54308456e-02 -1.27985161e-02 -1.07579291e-01\n",
      "   3.01723648e-02 -7.85555542e-02  8.13712180e-02  2.83412989e-02\n",
      "  -3.78577828e-01]\n",
      " [ 3.44726914e-08 -9.11088428e-04 -3.22843529e-03  1.41060329e-03\n",
      "  -9.96730942e-03 -3.37508097e-02 -3.96160744e-02 -1.33740619e-01\n",
      "  -4.97662136e-03  3.37727398e-01  2.00692698e-01 -1.81502420e-02\n",
      "  -3.79499383e-02  1.32721094e-02  2.33667821e-01 -4.89426076e-01\n",
      "  -2.84352392e-01 -1.31007778e-02 -4.42927450e-01 -2.80261129e-01\n",
      "   3.39367241e-01 -1.62737563e-01  1.74584463e-01 -1.44165726e-02\n",
      "   2.73079090e-02]\n",
      " [ 1.88355389e-05 -3.29007991e-02  3.83756608e-02 -9.94278789e-02\n",
      "   7.69769013e-01 -2.84463972e-01  5.99613115e-02 -1.03527337e-01\n",
      "  -3.40884365e-02  2.58988608e-02 -2.19334975e-01 -9.84536931e-02\n",
      "   3.97731736e-02  1.02723159e-01  1.78868189e-01  5.44628426e-02\n",
      "  -2.41001114e-01 -3.83542627e-02  8.21765661e-02  2.64076829e-01\n",
      "  -1.46429967e-02 -1.70689762e-01  1.48410633e-01  1.08058425e-02\n",
      "  -7.42953494e-02]\n",
      " [-5.38793392e-06 -1.79651882e-02  1.02693915e-01  6.11877203e-01\n",
      "  -2.45023482e-02  3.61367427e-02 -5.87155461e-01  3.47319663e-01\n",
      "   1.29205147e-02  1.15510337e-02  4.11613621e-02  3.45779806e-02\n",
      "   1.06621377e-01  1.48957685e-01  5.39152175e-02 -2.84384061e-02\n",
      "  -1.37809545e-01 -7.92718772e-03  7.47290328e-02  2.11222917e-01\n",
      "   1.60880818e-03 -1.36902392e-01  1.15008287e-01  9.83733684e-03\n",
      "  -7.52601922e-02]\n",
      " [ 1.28269721e-06 -1.15722060e-01 -3.53988796e-01 -6.96022809e-01\n",
      "  -1.74469426e-01 -4.06103879e-02 -4.35933650e-01  2.50221074e-01\n",
      "   2.12854403e-03 -1.98699776e-02  5.42822555e-02  1.36824716e-02\n",
      "   6.49709925e-02  1.39270917e-01  4.87238541e-02 -2.92521343e-02\n",
      "  -8.58074054e-02 -3.13408929e-03  5.89853451e-02  1.67749822e-01\n",
      "   8.90024658e-03 -1.02832332e-01  8.46112370e-02  7.81284180e-03\n",
      "  -6.97772279e-02]\n",
      " [ 4.26641265e-08  3.78221419e-04  9.18716367e-04  9.54580784e-04\n",
      "   1.61114463e-03 -1.82715233e-03  4.85753221e-03 -4.06429032e-03\n",
      "  -4.18432243e-03  2.29318277e-03 -3.52525804e-03  9.39411763e-03\n",
      "  -1.82985570e-02 -1.57605074e-02  1.09504759e-02 -1.69786792e-02\n",
      "  -5.25293648e-02  2.89147228e-01  2.76676416e-02  3.29817012e-02\n",
      "   1.17300712e-01 -3.86693597e-01 -5.48843801e-01  6.66025758e-01\n",
      "   5.00722378e-02]\n",
      " [-1.72117556e-08 -1.55237864e-03 -2.94804107e-03 -3.29472660e-03\n",
      "  -2.69932934e-05  2.50745192e-03 -1.88816823e-02  1.19815590e-02\n",
      "  -1.56015903e-02 -6.13271433e-04  6.07981440e-03 -1.27642518e-02\n",
      "   3.29754949e-02  2.74162204e-03 -5.93402721e-02  7.52734318e-02\n",
      "   1.00384250e-01 -8.77741635e-01 -7.73318708e-02 -1.68344840e-01\n",
      "  -1.53451279e-01 -2.50710994e-01  1.23610515e-02  2.94968605e-01\n",
      "   1.88565515e-02]\n",
      " [ 6.57179768e-08  4.00587916e-03  9.40029509e-03  8.80822539e-03\n",
      "   5.43685444e-03  1.20017887e-03  3.95980887e-02  3.18319798e-02\n",
      "  -9.13443044e-03  2.15576701e-02 -1.65249873e-02 -2.03425251e-02\n",
      "  -1.41506409e-02  3.03813983e-02  7.41027445e-02 -7.07537457e-02\n",
      "   1.24294095e-01 -3.10236305e-01  5.24067469e-02  3.39491099e-01\n",
      "   6.51279986e-01  3.28850001e-01 -3.54861826e-01 -7.07260892e-02\n",
      "  -3.02352071e-01]\n",
      " [-7.54495318e-07  2.20091362e-02 -1.75685789e-02  3.57112996e-02\n",
      "  -2.82875687e-01  1.28389060e-01  1.67587370e-01 -1.55207828e-01\n",
      "  -1.96105102e-03  2.15065628e-02 -1.79854214e-01 -9.30812061e-02\n",
      "   4.43682000e-02  8.87829512e-02  1.34645715e-01  4.22095433e-02\n",
      "  -1.83286160e-01 -3.08422223e-02  6.22076876e-02  2.00514793e-01\n",
      "  -1.05652520e-02 -1.29361644e-01  1.12258345e-01  1.11854626e-02\n",
      "  -5.61280362e-02]\n",
      " [ 9.83423615e-06 -3.46036553e-01  8.76722515e-01 -2.89707363e-01\n",
      "  -8.34169686e-02  7.66321421e-02 -3.30265425e-02  7.42758438e-02\n",
      "   4.94895782e-03  3.68418777e-03  2.03272104e-02  1.84056498e-02\n",
      "   3.72580029e-02  3.76478620e-02 -2.87977373e-03 -3.16562355e-02\n",
      "  -1.90441124e-02 -5.00110618e-04  7.27296202e-03  4.08938415e-02\n",
      "  -1.13043925e-02 -2.60356404e-02  2.17101425e-02  3.89776868e-03\n",
      "  -1.61608364e-02]\n",
      " [-9.13547410e-06  9.27702248e-01  2.79969156e-01 -1.90182164e-01\n",
      "   8.80696997e-03  3.87560762e-02 -6.18517585e-02  1.00741826e-01\n",
      "   5.38864918e-03  2.42659822e-03  2.78401319e-02  2.26210728e-02\n",
      "   3.87610905e-02  3.89118642e-02 -5.39892353e-03 -3.45052294e-02\n",
      "  -1.75423939e-02  5.03987940e-05  7.12267123e-03  4.14410271e-02\n",
      "  -1.19796321e-02 -2.65199039e-02  2.20035501e-02  3.91322933e-03\n",
      "  -1.67993512e-02]\n",
      " [ 1.13026067e-06 -3.75853740e-02 -6.48394674e-02  4.32170630e-02\n",
      "  -6.78982353e-03 -1.19110703e-01  4.70082253e-01  3.36089402e-01\n",
      "   2.94847414e-02 -2.05667034e-01  1.81921974e-01  2.72736251e-01\n",
      "   2.69802123e-01  8.95670876e-02 -2.14596033e-01 -5.04357338e-01\n",
      "  -9.05306637e-03 -3.55365337e-03  6.40424490e-02  1.72120243e-01\n",
      "  -1.30676135e-01 -1.09921247e-01  9.15452242e-02  3.58519182e-02\n",
      "  -1.99524984e-01]\n",
      " [-3.17277369e-07  5.72519144e-03  9.52632632e-03 -7.85195734e-03\n",
      "  -3.23170312e-02 -1.90785863e-02  6.19004630e-02  8.53627101e-02\n",
      "   3.53738246e-03 -3.95148136e-02  2.35170320e-01  3.16483408e-01\n",
      "  -4.46993977e-01 -5.94956756e-01 -3.67209129e-02  1.91769615e-01\n",
      "  -2.71979272e-01 -5.39510846e-02  1.88438982e-01  1.34720579e-01\n",
      "   1.68486252e-01 -1.95721492e-01  1.93354160e-01 -1.59117207e-02\n",
      "  -5.89082837e-02]\n",
      " [ 5.98976555e-07 -2.23519164e-03 -2.48950673e-03 -8.97617638e-03\n",
      "   2.09424458e-02 -1.66965723e-02 -1.05261868e-02 -2.18507666e-02\n",
      "   9.96749520e-01  2.58840434e-02 -5.25582768e-02 -2.82509043e-03\n",
      "  -8.21106602e-03 -1.21431369e-02 -5.20183193e-03 -4.44721627e-05\n",
      "   2.29595207e-06 -1.45174731e-02 -1.83653217e-04  1.01648073e-03\n",
      "   1.20423269e-02  1.20324967e-02  1.30552864e-02  2.70786881e-02\n",
      "   2.33384920e-03]\n",
      " [-7.07117021e-01  2.18797047e-02 -1.76157374e-02  3.57687436e-02\n",
      "  -2.82858521e-01  1.28407642e-01  1.67586863e-01 -1.55204624e-01\n",
      "  -1.96066638e-03  2.15070974e-02 -1.79854602e-01 -9.30811912e-02\n",
      "   4.43700738e-02  8.87827128e-02  1.34646624e-01  4.22091670e-02\n",
      "  -1.83285922e-01 -3.08428425e-02  6.22077882e-02  2.00515568e-01\n",
      "  -1.05638113e-02 -1.29360974e-01  1.12257630e-01  1.11853238e-02\n",
      "  -5.61286956e-02]\n",
      " [ 2.36293811e-08  5.03034607e-05  1.47713930e-04  1.48644336e-04\n",
      "   1.02356938e-03 -3.98092758e-04 -1.23689970e-04  1.18566467e-03\n",
      "  -3.13815065e-02  1.27044844e-03  4.39259131e-03  8.28105200e-04\n",
      "   1.36284321e-03  3.29741556e-03  3.96348815e-03 -2.28413148e-03\n",
      "  -9.31737479e-03  5.20755425e-02  2.65036654e-02  4.66708094e-02\n",
      "   8.82852450e-02  5.39201498e-01  4.91162688e-01  6.71896875e-01\n",
      "   4.53789346e-02]]\n",
      "<NDArray 26x25 @cpu(0)>, 'mean': \n",
      "[[0.24957757 0.0274235  0.742293   0.4533138  0.31768748 0.29918146\n",
      "  0.27803236 0.50617194 0.3877933  0.1797484  0.3425963  0.54379314\n",
      "  0.03632208 0.04085405 0.03923114 0.53877866 0.59390676 0.42890757\n",
      "  0.02742317 0.0074947  0.00782236 0.12225115 0.08579326 0.14754139\n",
      "  0.0274235  0.5084239 ]]\n",
      "<NDArray 1x26 @cpu(0)>}\n"
     ]
    }
   ],
   "source": [
    "import mxnet as mx\n",
    "\n",
    "# loading the unzipped artifacts\n",
    "pca_model_params = mx.ndarray.load('model_algo-1')\n",
    "\n",
    "# what are the params\n",
    "print(pca_model_params)"
   ]
  },
  {
   "cell_type": "markdown",
   "metadata": {},
   "source": [
    "## Selecting the proper amount of features\n",
    "Now we need to **analyze how much variance are we willing to explain with our new features**. For this we will use the model's `s` and `v` parameters, to calculate the estimated explained variance of the top 'N' components."
   ]
  },
  {
   "cell_type": "code",
   "execution_count": 26,
   "metadata": {},
   "outputs": [],
   "source": [
    "# get selected params\n",
    "s=pd.DataFrame(pca_model_params['s'].asnumpy())\n",
    "v=pd.DataFrame(pca_model_params['v'].asnumpy())"
   ]
  },
  {
   "cell_type": "code",
   "execution_count": 27,
   "metadata": {},
   "outputs": [],
   "source": [
    "# Calculate the explained variance for the top n principal components\n",
    "# you may assume you have access to the global var N_COMPONENTS\n",
    "def explained_variance(s, n_top_components):\n",
    "    '''Calculates the approx. data variance that n_top_components captures.\n",
    "       :param s: A dataframe of singular values for top components; \n",
    "           the top value is in the last row.\n",
    "       :param n_top_components: An integer, the number of top components to use.\n",
    "       :return: The expected data variance covered by the n_top_components.'''\n",
    "    \n",
    "    start_idx = N_COMPONENTS - n_top_components  ## 33-3 = 30, for example\n",
    "    # calculate approx variance\n",
    "    exp_variance = np.square(s.iloc[start_idx:,:]).sum()/np.square(s).sum()\n",
    "    \n",
    "    return exp_variance[0]\n"
   ]
  },
  {
   "cell_type": "code",
   "execution_count": 28,
   "metadata": {},
   "outputs": [
    {
     "data": {
      "image/png": "[encoded data removed]",
      "text/plain": [
       "<Figure size 432x288 with 1 Axes>"
      ]
     },
     "metadata": {
      "needs_background": "light"
     },
     "output_type": "display_data"
    },
    {
     "name": "stdout",
     "output_type": "stream",
     "text": [
      "Explained variance:  0.9060499 with 6 components\n",
      "Total components:  25\n"
     ]
    }
   ],
   "source": [
    "from matplotlib import pyplot as plt\n",
    "\n",
    "alt_variate = []\n",
    "def plot_variance_ncomp(s, n_top_components, cut=0.8):\n",
    "    for i in range(n_top_components + 1):\n",
    "        alt_variate.append(explained_variance(s, i))\n",
    "        # print(i)\n",
    "        alt_variate_np = np.array(alt_variate)\n",
    "    # print(alt_variate_np)\n",
    "    plt.plot(alt_variate_np, scaley=False)\n",
    "    plt.plot(list(range(n_top_components)),[ cut for i in range(i)], color='red')\n",
    "    plt.show()\n",
    "    print('Explained variance: ', explained_variance(s,n_top_components), 'with',n_top_components,'components')\n",
    "    print('Total components: ', len(s))\n",
    "    return n_top_components\n",
    "    \n",
    "n_top = plot_variance_ncomp(s, 6, 0.9)"
   ]
  },
  {
   "cell_type": "markdown",
   "metadata": {},
   "source": [
    "As a variance of 91% could be sufficient, **we will take the top 6 components for our analysis.**\n",
    "\n",
    "## Analyzing our top components\n",
    "Now that we've selected the number of features, we can **have a look at these selected to see which and how much weight of the original feature set is being considered** in the features selected."
   ]
  },
  {
   "cell_type": "code",
   "execution_count": 29,
   "metadata": {},
   "outputs": [
    {
     "name": "stdout",
     "output_type": "stream",
     "text": [
      "Features: \n",
      " ['shangai' 'btc_cumulative' 'crude oil' 'euro' 'gold' 'silver' 'spy'\n",
      " 'ftse' 'hsi' 'nasdaq' 'nikkei' 'rates' 'MA4' 'MA96' 'MA200' 'stochRSI'\n",
      " 'RSI' 'btc_std_dev' 'std_dif' 'hashrate' 'difficulty' 'transactions'\n",
      " 't_cost' 'returns' 'btc_close' 'returns_label']\n"
     ]
    }
   ],
   "source": [
    "# original feature list\n",
    "features_list = data['train_nx'].columns.values\n",
    "print('Features: \\n', features_list)"
   ]
  },
  {
   "cell_type": "code",
   "execution_count": 30,
   "metadata": {},
   "outputs": [],
   "source": [
    "import seaborn as sns\n",
    "\n",
    "def display_component(v, features_list, component_num, n_weights=10):\n",
    "    \n",
    "    # get index of component (last row - component_num)\n",
    "    row_idx = N_COMPONENTS-component_num\n",
    "\n",
    "    # get the list of weights from a row in v, dataframe\n",
    "    v_1_row = v.iloc[:, row_idx]\n",
    "    v_1 = np.squeeze(v_1_row.values)\n",
    "\n",
    "    # match weights to features in counties_scaled dataframe, using list comporehension\n",
    "    comps = pd.DataFrame(list(zip(v_1, features_list)), \n",
    "                         columns=['weights', 'features'])\n",
    "\n",
    "    # we'll want to sort by the largest n_weights\n",
    "    # weights can be neg/pos and we'll sort by magnitude\n",
    "    comps['abs_weights']=comps['weights'].apply(lambda x: np.abs(x))\n",
    "    sorted_weight_data = comps.sort_values('abs_weights', ascending=False).head(n_weights)\n",
    "\n",
    "    # display using seaborn\n",
    "    ax=plt.subplots(figsize=(5,5))\n",
    "    ax=sns.barplot(data=sorted_weight_data, \n",
    "                   x=\"weights\", \n",
    "                   y=\"features\", \n",
    "                   palette=\"Blues_d\")\n",
    "    ax.set_title(\"PCA Component Makeup, Component #\" + str(component_num))\n",
    "    plt.show()\n"
   ]
  },
  {
   "cell_type": "code",
   "execution_count": 31,
   "metadata": {},
   "outputs": [
    {
     "data": {
      "image/png": "[encoded data removed]",
      "text/plain": [
       "<Figure size 360x360 with 1 Axes>"
      ]
     },
     "metadata": {
      "needs_background": "light"
     },
     "output_type": "display_data"
    },
    {
     "data": {
      "image/png": "[encoded data removed]",
      "text/plain": [
       "<Figure size 360x360 with 1 Axes>"
      ]
     },
     "metadata": {
      "needs_background": "light"
     },
     "output_type": "display_data"
    },
    {
     "data": {
      "image/png": "[encoded data removed]",
      "text/plain": [
       "<Figure size 360x360 with 1 Axes>"
      ]
     },
     "metadata": {
      "needs_background": "light"
     },
     "output_type": "display_data"
    },
    {
     "data": {
      "image/png": "[encoded data removed]",
      "text/plain": [
       "<Figure size 360x360 with 1 Axes>"
      ]
     },
     "metadata": {
      "needs_background": "light"
     },
     "output_type": "display_data"
    },
    {
     "data": {
      "image/png": "[encoded data removed]",
      "text/plain": [
       "<Figure size 360x360 with 1 Axes>"
      ]
     },
     "metadata": {
      "needs_background": "light"
     },
     "output_type": "display_data"
    },
    {
     "data": {
      "image/png": "[encoded data removed]",
      "text/plain": [
       "<Figure size 360x360 with 1 Axes>"
      ]
     },
     "metadata": {
      "needs_background": "light"
     },
     "output_type": "display_data"
    }
   ],
   "source": [
    "# display makeup of all selected components\n",
    "for i in range(1, n_top + 1):\n",
    "    display_component(v, data['train_nx'].columns.values, component_num=i, n_weights=10)"
   ]
  },
  {
   "cell_type": "markdown",
   "metadata": {},
   "source": [
    "Interestingly, **we can observe that the model is weighting important market features in the newly created ones**, such as the most traded pair worldwide (EUR/USD), commodities (gold, silver, oil), top stock indexes (SPY, Nikkei...) and some of the technical indicators (RSI, MAs, label). \n",
    "\n",
    "## Predicting, creating and saving datasets with reduced components\n",
    "\n",
    "After having trained our PCA model, we will use it to predict the reduced components into our train and test datasets, plus store the results in a dataframe and CSV for further use with other models. In order **to predict the reduced components, we will deploy the model to an endpoint, pass in both our train and test data and process the results, and finally store them** in the `pca/` folder. "
   ]
  },
  {
   "cell_type": "code",
   "execution_count": 32,
   "metadata": {},
   "outputs": [
    {
     "name": "stderr",
     "output_type": "stream",
     "text": [
      "Defaulting to the only supported framework/algorithm version: 1. Ignoring framework/algorithm version: 1.\n"
     ]
    },
    {
     "name": "stdout",
     "output_type": "stream",
     "text": [
      "-------------!CPU times: user 253 ms, sys: 10 ms, total: 263 ms\n",
      "Wall time: 6min 31s\n"
     ]
    }
   ],
   "source": [
    "%%time\n",
    "pca_predictor = pca_model.deploy(initial_instance_count=1, \n",
    "                              instance_type='ml.t2.medium')"
   ]
  },
  {
   "cell_type": "code",
   "execution_count": 33,
   "metadata": {},
   "outputs": [],
   "source": [
    "# convert test df to np array\n",
    "test_data = data['test_nx'].values.astype('float32')\n",
    "\n",
    "# pass np test data to the PCA model\n",
    "test_pca = pca_predictor.predict(test_data)\n",
    "\n",
    "# doing the same for the training data\n",
    "train_pca = pca_predictor.predict(train_data)"
   ]
  },
  {
   "cell_type": "code",
   "execution_count": 34,
   "metadata": {},
   "outputs": [
    {
     "name": "stdout",
     "output_type": "stream",
     "text": [
      "label {\n",
      "  key: \"projection\"\n",
      "  value {\n",
      "    float32_tensor {\n",
      "      values: 5.503759439307032e-07\n",
      "      values: -0.00826844573020935\n",
      "      values: -0.0006549409590661526\n",
      "      values: 0.00549608888104558\n",
      "      values: 0.018354598432779312\n",
      "      values: -0.022500187158584595\n",
      "      values: -0.09935218840837479\n",
      "      values: 0.07331636548042297\n",
      "      values: -0.001355193555355072\n",
      "      values: 0.005313056521117687\n",
      "      values: -0.01568657159805298\n",
      "      values: 0.026590123772621155\n",
      "      values: -0.05859068036079407\n",
      "      values: -0.051853328943252563\n",
      "      values: 0.13061758875846863\n",
      "      values: 0.11430063843727112\n",
      "      values: -0.36537736654281616\n",
      "      values: 0.032706230878829956\n",
      "      values: 0.19614380598068237\n",
      "      values: 0.6868901252746582\n",
      "      values: -0.01428300142288208\n",
      "      values: -0.8464287519454956\n",
      "      values: 0.7961500287055969\n",
      "      values: -0.6531134843826294\n",
      "      values: -1.002243995666504\n",
      "    }\n",
      "  }\n",
      "}\n",
      "\n"
     ]
    }
   ],
   "source": [
    "# checking out the first item in the test \n",
    "print(test_pca[0])"
   ]
  },
  {
   "cell_type": "markdown",
   "metadata": {},
   "source": [
    "Now that we've done the predictions with our deployed model, we will take the results and transform everything into a CSV format, and save it for further use."
   ]
  },
  {
   "cell_type": "code",
   "execution_count": 35,
   "metadata": {},
   "outputs": [],
   "source": [
    "# create dimensionality-reduced data\n",
    "\n",
    "def create_transformed_df(train_pca, source, n_top_components):\n",
    "    ''' Return a dataframe of data points with component features. \n",
    "        The returned dataframe is indexed as original dataframes.       \n",
    "     '''\n",
    "    # create new dataframe to add data to\n",
    "    transformed_df=pd.DataFrame()\n",
    "\n",
    "    # for each of our new, transformed data points\n",
    "    # append the component values to the dataframe\n",
    "    for data in train_pca:\n",
    "        # get component values for each data point\n",
    "        components=data.label['projection'].float32_tensor.values\n",
    "        transformed_df=transformed_df.append([list(components)])\n",
    "\n",
    "    # index just like data source - To-Do: use dates here, we dropped them before\n",
    "    transformed_df.index=source.index\n",
    "\n",
    "    # keep only the top n components\n",
    "    start_idx = N_COMPONENTS - n_top_components\n",
    "    transformed_df = transformed_df.iloc[:,start_idx:]\n",
    "    \n",
    "    # reverse columns, component order     \n",
    "    return transformed_df.iloc[:, ::-1]\n",
    "    "
   ]
  },
  {
   "cell_type": "code",
   "execution_count": 36,
   "metadata": {},
   "outputs": [],
   "source": [
    "# call your function and create a new dataframe\n",
    "df_transformed_train = create_transformed_df(train_pca, data['train_nx'], n_top_components=n_top)\n",
    "df_transformed_test = create_transformed_df(test_pca, data['test_nx'], n_top_components=n_top)"
   ]
  },
  {
   "cell_type": "code",
   "execution_count": 37,
   "metadata": {},
   "outputs": [
    {
     "data": {
      "text/html": [
       "<div>\n",
       "<style scoped>\n",
       "    .dataframe tbody tr th:only-of-type {\n",
       "        vertical-align: middle;\n",
       "    }\n",
       "\n",
       "    .dataframe tbody tr th {\n",
       "        vertical-align: top;\n",
       "    }\n",
       "\n",
       "    .dataframe thead th {\n",
       "        text-align: right;\n",
       "    }\n",
       "</style>\n",
       "<table border=\"1\" class=\"dataframe\">\n",
       "  <thead>\n",
       "    <tr style=\"text-align: right;\">\n",
       "      <th></th>\n",
       "      <th>24</th>\n",
       "      <th>23</th>\n",
       "      <th>22</th>\n",
       "      <th>21</th>\n",
       "      <th>20</th>\n",
       "      <th>19</th>\n",
       "    </tr>\n",
       "  </thead>\n",
       "  <tbody>\n",
       "    <tr>\n",
       "      <th>865</th>\n",
       "      <td>-1.036036</td>\n",
       "      <td>-0.093710</td>\n",
       "      <td>1.092969</td>\n",
       "      <td>-0.883055</td>\n",
       "      <td>-0.580162</td>\n",
       "      <td>1.599953</td>\n",
       "    </tr>\n",
       "    <tr>\n",
       "      <th>866</th>\n",
       "      <td>-1.036391</td>\n",
       "      <td>-0.093952</td>\n",
       "      <td>1.088533</td>\n",
       "      <td>-0.877775</td>\n",
       "      <td>-0.580377</td>\n",
       "      <td>1.595583</td>\n",
       "    </tr>\n",
       "    <tr>\n",
       "      <th>867</th>\n",
       "      <td>-1.043998</td>\n",
       "      <td>-0.094252</td>\n",
       "      <td>1.107241</td>\n",
       "      <td>-0.897663</td>\n",
       "      <td>-0.571674</td>\n",
       "      <td>1.620019</td>\n",
       "    </tr>\n",
       "    <tr>\n",
       "      <th>868</th>\n",
       "      <td>-1.070880</td>\n",
       "      <td>-0.092534</td>\n",
       "      <td>1.132252</td>\n",
       "      <td>-0.923670</td>\n",
       "      <td>-0.555636</td>\n",
       "      <td>1.618505</td>\n",
       "    </tr>\n",
       "    <tr>\n",
       "      <th>869</th>\n",
       "      <td>-1.057992</td>\n",
       "      <td>-0.091633</td>\n",
       "      <td>1.120212</td>\n",
       "      <td>-0.912363</td>\n",
       "      <td>-0.566596</td>\n",
       "      <td>1.624983</td>\n",
       "    </tr>\n",
       "  </tbody>\n",
       "</table>\n",
       "</div>"
      ],
      "text/plain": [
       "           24        23        22        21        20        19\n",
       "865 -1.036036 -0.093710  1.092969 -0.883055 -0.580162  1.599953\n",
       "866 -1.036391 -0.093952  1.088533 -0.877775 -0.580377  1.595583\n",
       "867 -1.043998 -0.094252  1.107241 -0.897663 -0.571674  1.620019\n",
       "868 -1.070880 -0.092534  1.132252 -0.923670 -0.555636  1.618505\n",
       "869 -1.057992 -0.091633  1.120212 -0.912363 -0.566596  1.624983"
      ]
     },
     "execution_count": 37,
     "metadata": {},
     "output_type": "execute_result"
    }
   ],
   "source": [
    "df_transformed_test.tail()"
   ]
  },
  {
   "cell_type": "code",
   "execution_count": 38,
   "metadata": {},
   "outputs": [
    {
     "name": "stdout",
     "output_type": "stream",
     "text": [
      "['component_1', 'component_2', 'component_3', 'component_4', 'component_5', 'component_6']\n"
     ]
    }
   ],
   "source": [
    "# add column names\n",
    "PCA_list=[]\n",
    "for i in range(1, n_top + 1):\n",
    "    PCA_list.append('component_'+str(i))\n",
    "    \n",
    "print(PCA_list)"
   ]
  },
  {
   "cell_type": "code",
   "execution_count": 39,
   "metadata": {},
   "outputs": [
    {
     "data": {
      "text/html": [
       "<div>\n",
       "<style scoped>\n",
       "    .dataframe tbody tr th:only-of-type {\n",
       "        vertical-align: middle;\n",
       "    }\n",
       "\n",
       "    .dataframe tbody tr th {\n",
       "        vertical-align: top;\n",
       "    }\n",
       "\n",
       "    .dataframe thead th {\n",
       "        text-align: right;\n",
       "    }\n",
       "</style>\n",
       "<table border=\"1\" class=\"dataframe\">\n",
       "  <thead>\n",
       "    <tr style=\"text-align: right;\">\n",
       "      <th></th>\n",
       "      <th>component_1</th>\n",
       "      <th>component_2</th>\n",
       "      <th>component_3</th>\n",
       "      <th>component_4</th>\n",
       "      <th>component_5</th>\n",
       "      <th>component_6</th>\n",
       "    </tr>\n",
       "  </thead>\n",
       "  <tbody>\n",
       "    <tr>\n",
       "      <th>865</th>\n",
       "      <td>-1.036036</td>\n",
       "      <td>-0.093710</td>\n",
       "      <td>1.092969</td>\n",
       "      <td>-0.883055</td>\n",
       "      <td>-0.580162</td>\n",
       "      <td>1.599953</td>\n",
       "    </tr>\n",
       "    <tr>\n",
       "      <th>866</th>\n",
       "      <td>-1.036391</td>\n",
       "      <td>-0.093952</td>\n",
       "      <td>1.088533</td>\n",
       "      <td>-0.877775</td>\n",
       "      <td>-0.580377</td>\n",
       "      <td>1.595583</td>\n",
       "    </tr>\n",
       "    <tr>\n",
       "      <th>867</th>\n",
       "      <td>-1.043998</td>\n",
       "      <td>-0.094252</td>\n",
       "      <td>1.107241</td>\n",
       "      <td>-0.897663</td>\n",
       "      <td>-0.571674</td>\n",
       "      <td>1.620019</td>\n",
       "    </tr>\n",
       "    <tr>\n",
       "      <th>868</th>\n",
       "      <td>-1.070880</td>\n",
       "      <td>-0.092534</td>\n",
       "      <td>1.132252</td>\n",
       "      <td>-0.923670</td>\n",
       "      <td>-0.555636</td>\n",
       "      <td>1.618505</td>\n",
       "    </tr>\n",
       "    <tr>\n",
       "      <th>869</th>\n",
       "      <td>-1.057992</td>\n",
       "      <td>-0.091633</td>\n",
       "      <td>1.120212</td>\n",
       "      <td>-0.912363</td>\n",
       "      <td>-0.566596</td>\n",
       "      <td>1.624983</td>\n",
       "    </tr>\n",
       "  </tbody>\n",
       "</table>\n",
       "</div>"
      ],
      "text/plain": [
       "     component_1  component_2  component_3  component_4  component_5  \\\n",
       "865    -1.036036    -0.093710     1.092969    -0.883055    -0.580162   \n",
       "866    -1.036391    -0.093952     1.088533    -0.877775    -0.580377   \n",
       "867    -1.043998    -0.094252     1.107241    -0.897663    -0.571674   \n",
       "868    -1.070880    -0.092534     1.132252    -0.923670    -0.555636   \n",
       "869    -1.057992    -0.091633     1.120212    -0.912363    -0.566596   \n",
       "\n",
       "     component_6  \n",
       "865     1.599953  \n",
       "866     1.595583  \n",
       "867     1.620019  \n",
       "868     1.618505  \n",
       "869     1.624983  "
      ]
     },
     "execution_count": 39,
     "metadata": {},
     "output_type": "execute_result"
    }
   ],
   "source": [
    "for x in [df_transformed_train, df_transformed_test]:\n",
    "    x.columns=PCA_list \n",
    "    \n",
    "# print and store the result\n",
    "df_transformed_test.tail()"
   ]
  },
  {
   "cell_type": "code",
   "execution_count": 40,
   "metadata": {},
   "outputs": [],
   "source": [
    "df_transformed_train.to_csv('pca/train.csv')\n",
    "df_transformed_test.to_csv('pca/test.csv')"
   ]
  },
  {
   "cell_type": "markdown",
   "metadata": {},
   "source": [
    "Finally we need to **delete the endpoint created** so we avoid extra charges."
   ]
  },
  {
   "cell_type": "code",
   "execution_count": 41,
   "metadata": {},
   "outputs": [],
   "source": [
    "# delete predictor endpoint\n",
    "# session.delete_endpoint(pca_predictor.endpoint)\n",
    "\n",
    "pca_predictor.delete_endpoint() # new way of deleting in Sagemaker 2.0"
   ]
  },
  {
   "cell_type": "markdown",
   "metadata": {},
   "source": [
    "## Recap and Discussion\n",
    "\n",
    "We grabbed our data features (27) and **reduced the dataset's dimendionality using Principal Component Analysis, reducing it to 6 and making sure that 91% of the variance in the dataset is preserved** by these. We also analysed the weights of the newly created features, and observed that they included relevant data, such as top stock index prices, top traded currency pairs, commodities and technical indicators used by traders.\n",
    "\n",
    "## What's next?\n",
    "\n",
    "On the following notebooks we will still cover:\n",
    "- **XGBoost for price forecasting and trading signal**\n",
    "- **Neural network for price forecasting and trading signal**\n",
    "- **Final discussion and model comparison**"
   ]
  }
 ],
 "metadata": {
  "kernelspec": {
   "display_name": "conda_mxnet_p36",
   "language": "python",
   "name": "conda_mxnet_p36"
  },
  "language_info": {
   "codemirror_mode": {
    "name": "ipython",
    "version": 3
   },
   "file_extension": ".py",
   "mimetype": "text/x-python",
   "name": "python",
   "nbconvert_exporter": "python",
   "pygments_lexer": "ipython3",
   "version": "3.6.10"
  }
 },
 "nbformat": 4,
 "nbformat_minor": 4
}
