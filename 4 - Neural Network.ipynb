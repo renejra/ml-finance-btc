{
 "cells": [
  {
   "cell_type": "markdown",
   "metadata": {},
   "source": [
    "# Machine Learning to forecast Bitcoin price movements\n",
    "# Part 4: Neural Network model and results discussion\n",
    "In this notebook I will **apply a simple neural network to forecast prices and use a classifier to predict price movements**. For this I will be using `SKlearn`'s simple neural networks (`MLPRegressor` for price forecasting and `MLPClassifier` for classification of trading signals), and leave the use of PyTorch or TensorFlow for further studies outside the scope of this ML Capstone project. The contents of both models and the data feed into the models used can be found in the `sklearn/` folder.\n",
    "\n",
    "As always, we will start by importing necessary libraries and setting up sagemaker session, role and S3 bucket parameters."
   ]
  },
  {
   "cell_type": "code",
   "execution_count": 1,
   "metadata": {},
   "outputs": [],
   "source": [
    "import pandas as pd\n",
    "import boto3\n",
    "import sagemaker"
   ]
  },
  {
   "cell_type": "code",
   "execution_count": 2,
   "metadata": {},
   "outputs": [],
   "source": [
    "# session and role\n",
    "sagemaker_session = sagemaker.Session()\n",
    "role = sagemaker.get_execution_role()\n",
    "\n",
    "# create an S3 bucket\n",
    "bucket = sagemaker_session.default_bucket()"
   ]
  },
  {
   "cell_type": "markdown",
   "metadata": {},
   "source": [
    "### Data Preprocessing\n",
    "\n",
    "We will start by grabbing the data features that we got from the PCA model and the original dataset's labels, to create adequate datasets to feed into the model. We also have to upload these contents into our S3 bucket, so we can feed in the model with our data."
   ]
  },
  {
   "cell_type": "code",
   "execution_count": 3,
   "metadata": {},
   "outputs": [
    {
     "name": "stdout",
     "output_type": "stream",
     "text": [
      "      component_1  component_2  component_3  component_4  component_5  \\\n",
      "1835    -0.969989     0.277599     1.156140    -0.504672     0.093084   \n",
      "1836    -1.021743    -0.387731     0.668942    -1.065100     0.019552   \n",
      "1837    -1.014022    -0.547216     0.744433    -0.930917    -0.007225   \n",
      "1838    -0.982989    -0.201810     0.978394    -0.659704     0.025067   \n",
      "1839    -1.002244    -0.653113     0.796150    -0.846429    -0.014283   \n",
      "\n",
      "      component_6  \n",
      "1835     0.751546  \n",
      "1836     0.723636  \n",
      "1837     0.700540  \n",
      "1838     0.725947  \n",
      "1839     0.686890  \n",
      "     component_1  component_2  component_3  component_4  component_5  \\\n",
      "865    -1.036036    -0.093710     1.092969    -0.883055    -0.580162   \n",
      "866    -1.036391    -0.093952     1.088533    -0.877775    -0.580377   \n",
      "867    -1.043998    -0.094252     1.107241    -0.897663    -0.571674   \n",
      "868    -1.070880    -0.092534     1.132252    -0.923670    -0.555636   \n",
      "869    -1.057992    -0.091633     1.120212    -0.912363    -0.566596   \n",
      "\n",
      "     component_6  \n",
      "865     1.599953  \n",
      "866     1.595583  \n",
      "867     1.620019  \n",
      "868     1.618505  \n",
      "869     1.624983  \n",
      "       r_label  c_label\n",
      "1835  0.546082      0.0\n",
      "1836  0.503604      0.0\n",
      "1837  0.505318      0.5\n",
      "1838  0.470874      0.0\n",
      "1839  0.516555      1.0\n",
      "      r_label  c_label\n",
      "865  0.644735      0.5\n",
      "866  0.644735      0.5\n",
      "867  0.644735      0.5\n",
      "868  0.644735      0.5\n",
      "869  1.000000      1.0\n",
      "          r_label  c_label\n",
      "865  18699.767578      1.0\n",
      "866  18699.767578      1.0\n",
      "867  18699.767578      1.0\n",
      "868  18699.767578      1.0\n",
      "869  29003.685547      2.0\n",
      "           r_label  c_label\n",
      "1835  15838.499023      0.0\n",
      "1836  14606.493164      0.0\n",
      "1837  14656.201172      1.0\n",
      "1838  13657.208984      0.0\n",
      "1839  14982.103516      2.0\n"
     ]
    }
   ],
   "source": [
    "pca_list = ['train','test']\n",
    "store_list = ['train_ny','test_ny', 'test_y', 'train_y']\n",
    "data = {}\n",
    "\n",
    "for i in range(len(pca_list)):\n",
    "    data[pca_list[i]] = pd.read_csv('pca/'+pca_list[i]+'.csv')\n",
    "    data[pca_list[i]].drop(columns=['Unnamed: 0'], inplace=True)\n",
    "\n",
    "    \n",
    "for i in range(len(store_list)):\n",
    "    data[store_list[i]] = pd.read_csv('data/'+store_list[i]+'.csv')\n",
    "    data[store_list[i]].drop(columns=['Date'], inplace=True)\n",
    "\n",
    "for x in data:\n",
    "    print(data[x].tail())"
   ]
  },
  {
   "cell_type": "code",
   "execution_count": 4,
   "metadata": {},
   "outputs": [],
   "source": [
    "import os\n",
    "\n",
    "# This is our local data directory\n",
    "data_dir = './sklearn/'\n",
    "if not os.path.exists(data_dir):\n",
    "    os.makedirs(data_dir)"
   ]
  },
  {
   "cell_type": "code",
   "execution_count": 5,
   "metadata": {},
   "outputs": [],
   "source": [
    "# Forecasting/Regression\n",
    "pd.concat([data['test_ny']['r_label'], data['test']], axis=1).to_csv(os.path.join(data_dir, 'r_test.csv'), header=False, index=False)\n",
    "pd.concat([data['train_ny']['r_label'], data['train']], axis=1).to_csv(os.path.join(data_dir, 'r_train.csv'), header=False, index=False)\n",
    "\n",
    "# Classification\n",
    "pd.concat([data['test_y']['c_label'], data['test']], axis=1).to_csv(os.path.join(data_dir, 'c_test.csv'), header=False, index=False)\n",
    "pd.concat([data['train_y']['c_label'], data['train']], axis=1).to_csv(os.path.join(data_dir, 'c_train.csv'), header=False, index=False)"
   ]
  },
  {
   "cell_type": "code",
   "execution_count": 6,
   "metadata": {},
   "outputs": [],
   "source": [
    "# set prefix, a descriptive name for a directory  \n",
    "prefix = 'sklearn'\n",
    "\n",
    "# upload all data to S3\n",
    "data = sagemaker_session.upload_data(\n",
    "    path=data_dir, \n",
    "    bucket=bucket, \n",
    "    key_prefix=prefix)"
   ]
  },
  {
   "cell_type": "markdown",
   "metadata": {},
   "source": [
    "# Price Predictor - Regression\n",
    "We will first start by addressing the problem of forecasting Bitcoin prices. For this we will use the model described on the [`sklearn/r_train.py`](sklearn/r_train.py) file, where we define **SKLearn's MLPRegressor** model and hyperparameters. A copy of the file can be seen in the cell below."
   ]
  },
  {
   "cell_type": "code",
   "execution_count": 7,
   "metadata": {},
   "outputs": [
    {
     "name": "stdout",
     "output_type": "stream",
     "text": [
      "\u001b[34mfrom\u001b[39;49;00m \u001b[04m\u001b[36m__future__\u001b[39;49;00m \u001b[34mimport\u001b[39;49;00m print_function\n",
      "\n",
      "\u001b[34mimport\u001b[39;49;00m \u001b[04m\u001b[36margparse\u001b[39;49;00m\n",
      "\u001b[34mimport\u001b[39;49;00m \u001b[04m\u001b[36mos\u001b[39;49;00m\n",
      "\u001b[34mimport\u001b[39;49;00m \u001b[04m\u001b[36mpandas\u001b[39;49;00m \u001b[34mas\u001b[39;49;00m \u001b[04m\u001b[36mpd\u001b[39;49;00m\n",
      "\n",
      "\u001b[37m# from sklearn.externals import joblib\u001b[39;49;00m\n",
      "\u001b[34mimport\u001b[39;49;00m \u001b[04m\u001b[36mjoblib\u001b[39;49;00m\n",
      "\n",
      "\u001b[34mfrom\u001b[39;49;00m \u001b[04m\u001b[36msklearn\u001b[39;49;00m\u001b[04m\u001b[36m.\u001b[39;49;00m\u001b[04m\u001b[36mneural_network\u001b[39;49;00m \u001b[34mimport\u001b[39;49;00m MLPRegressor \u001b[34mas\u001b[39;49;00m nn\n",
      "\n",
      "\u001b[37m# Provided model load function\u001b[39;49;00m\n",
      "\u001b[34mdef\u001b[39;49;00m \u001b[32mmodel_fn\u001b[39;49;00m(model_dir):\n",
      "    \u001b[33m\"\"\"Load model from the model_dir. This is the same model that is saved\u001b[39;49;00m\n",
      "\u001b[33m    in the main if statement.\u001b[39;49;00m\n",
      "\u001b[33m    \"\"\"\u001b[39;49;00m\n",
      "    \u001b[36mprint\u001b[39;49;00m(\u001b[33m\"\u001b[39;49;00m\u001b[33mLoading model.\u001b[39;49;00m\u001b[33m\"\u001b[39;49;00m)\n",
      "    \n",
      "    \u001b[37m# load using joblib\u001b[39;49;00m\n",
      "    model = joblib.load(os.path.join(model_dir, \u001b[33m\"\u001b[39;49;00m\u001b[33mmodel.joblib\u001b[39;49;00m\u001b[33m\"\u001b[39;49;00m))\n",
      "    \u001b[36mprint\u001b[39;49;00m(\u001b[33m\"\u001b[39;49;00m\u001b[33mDone loading model.\u001b[39;49;00m\u001b[33m\"\u001b[39;49;00m)\n",
      "    \n",
      "    \u001b[34mreturn\u001b[39;49;00m model\n",
      "\n",
      "\n",
      "\u001b[34mif\u001b[39;49;00m \u001b[31m__name__\u001b[39;49;00m == \u001b[33m'\u001b[39;49;00m\u001b[33m__main__\u001b[39;49;00m\u001b[33m'\u001b[39;49;00m:\n",
      "    \n",
      "    \u001b[37m# All of the model parameters and training parameters are sent as arguments\u001b[39;49;00m\n",
      "    \u001b[37m# when this script is executed, during a training job\u001b[39;49;00m\n",
      "    \n",
      "    \u001b[37m# Here we set up an argument parser to easily access the parameters\u001b[39;49;00m\n",
      "    parser = argparse.ArgumentParser()\n",
      "\n",
      "    \u001b[37m# SageMaker parameters, like the directories for training data and saving models; set automatically\u001b[39;49;00m\n",
      "    parser.add_argument(\u001b[33m'\u001b[39;49;00m\u001b[33m--output-data-dir\u001b[39;49;00m\u001b[33m'\u001b[39;49;00m, \u001b[36mtype\u001b[39;49;00m=\u001b[36mstr\u001b[39;49;00m, default=os.environ[\u001b[33m'\u001b[39;49;00m\u001b[33mSM_OUTPUT_DATA_DIR\u001b[39;49;00m\u001b[33m'\u001b[39;49;00m])\n",
      "    parser.add_argument(\u001b[33m'\u001b[39;49;00m\u001b[33m--model-dir\u001b[39;49;00m\u001b[33m'\u001b[39;49;00m, \u001b[36mtype\u001b[39;49;00m=\u001b[36mstr\u001b[39;49;00m, default=os.environ[\u001b[33m'\u001b[39;49;00m\u001b[33mSM_MODEL_DIR\u001b[39;49;00m\u001b[33m'\u001b[39;49;00m])\n",
      "    parser.add_argument(\u001b[33m'\u001b[39;49;00m\u001b[33m--data-dir\u001b[39;49;00m\u001b[33m'\u001b[39;49;00m, \u001b[36mtype\u001b[39;49;00m=\u001b[36mstr\u001b[39;49;00m, default=os.environ[\u001b[33m'\u001b[39;49;00m\u001b[33mSM_CHANNEL_TRAIN\u001b[39;49;00m\u001b[33m'\u001b[39;49;00m])\n",
      "    \n",
      "    \u001b[37m# Model parameters\u001b[39;49;00m\n",
      "    parser.add_argument(\u001b[33m'\u001b[39;49;00m\u001b[33m--alpha\u001b[39;49;00m\u001b[33m'\u001b[39;49;00m, \u001b[36mtype\u001b[39;49;00m=\u001b[36mint\u001b[39;49;00m, default=\u001b[34m1\u001b[39;49;00m)\n",
      "    parser.add_argument(\u001b[33m'\u001b[39;49;00m\u001b[33m--max_iter\u001b[39;49;00m\u001b[33m'\u001b[39;49;00m, \u001b[36mtype\u001b[39;49;00m=\u001b[36mint\u001b[39;49;00m, default=\u001b[34m1000\u001b[39;49;00m)\n",
      "\n",
      "    \u001b[37m# args holds all passed-in arguments\u001b[39;49;00m\n",
      "    args = parser.parse_args()\n",
      "\n",
      "    \u001b[37m# Read in csv training file\u001b[39;49;00m\n",
      "    training_dir = args.data_dir\n",
      "    train_data = pd.read_csv(os.path.join(training_dir, \u001b[33m\"\u001b[39;49;00m\u001b[33mr_train.csv\u001b[39;49;00m\u001b[33m\"\u001b[39;49;00m), header=\u001b[34mNone\u001b[39;49;00m, names=\u001b[34mNone\u001b[39;49;00m)\n",
      "\n",
      "    \u001b[37m# Labels are in the first column\u001b[39;49;00m\n",
      "    train_y = train_data.iloc[:,\u001b[34m0\u001b[39;49;00m]\n",
      "    train_x = train_data.iloc[:,\u001b[34m1\u001b[39;49;00m:]    \n",
      "\n",
      "    alpha = args.alpha\n",
      "    max_iter = args.max_iter\n",
      "    \n",
      "    model = nn(alpha=alpha, max_iter=max_iter)\n",
      "    \n",
      "    model = model.fit(train_x, train_y)        \n",
      "\n",
      "    \u001b[37m# Save the trained model\u001b[39;49;00m\n",
      "    joblib.dump(model, os.path.join(args.model_dir, \u001b[33m\"\u001b[39;49;00m\u001b[33mmodel.joblib\u001b[39;49;00m\u001b[33m\"\u001b[39;49;00m))\n"
     ]
    }
   ],
   "source": [
    "!pygmentize sklearn/r_train.py"
   ]
  },
  {
   "cell_type": "markdown",
   "metadata": {},
   "source": [
    "### Model training\n",
    "\n",
    "Now we instantiate an estimator and pass in our model and training dataset. The estimator takes the `r_train.py` file as an entry point for the model, the resources needed and SKLearn's framework version (we will use the latest one available in AWS Sagemaker, the 0.23-1)."
   ]
  },
  {
   "cell_type": "code",
   "execution_count": 8,
   "metadata": {},
   "outputs": [],
   "source": [
    "from sagemaker.sklearn.estimator import SKLearn\n",
    "\n",
    "r_estimator = SKLearn(\n",
    "    role=role,\n",
    "    entry_point=\"r_train.py\",\n",
    "    source_dir=\"sklearn\",\n",
    "    instance_count=1,\n",
    "    instance_type=\"ml.c4.xlarge\",\n",
    "    framework_version='0.23-1')"
   ]
  },
  {
   "cell_type": "code",
   "execution_count": 9,
   "metadata": {},
   "outputs": [
    {
     "name": "stdout",
     "output_type": "stream",
     "text": [
      "2020-12-31 11:51:27 Starting - Starting the training job...\n",
      "2020-12-31 11:51:29 Starting - Launching requested ML instancesProfilerReport-1609415487: InProgress\n",
      "......\n",
      "2020-12-31 11:52:34 Starting - Preparing the instances for training...\n",
      "2020-12-31 11:53:27 Downloading - Downloading input data...\n",
      "2020-12-31 11:53:48 Training - Downloading the training image..\u001b[34m2020-12-31 11:54:07,952 sagemaker-training-toolkit INFO     Imported framework sagemaker_sklearn_container.training\u001b[0m\n",
      "\u001b[34m2020-12-31 11:54:07,954 sagemaker-training-toolkit INFO     No GPUs detected (normal if no gpus installed)\u001b[0m\n",
      "\u001b[34m2020-12-31 11:54:07,963 sagemaker_sklearn_container.training INFO     Invoking user training script.\u001b[0m\n",
      "\u001b[34m2020-12-31 11:54:08,340 sagemaker-training-toolkit INFO     No GPUs detected (normal if no gpus installed)\u001b[0m\n",
      "\u001b[34m2020-12-31 11:54:11,371 sagemaker-training-toolkit INFO     No GPUs detected (normal if no gpus installed)\u001b[0m\n",
      "\u001b[34m2020-12-31 11:54:11,383 sagemaker-training-toolkit INFO     No GPUs detected (normal if no gpus installed)\u001b[0m\n",
      "\u001b[34m2020-12-31 11:54:11,393 sagemaker-training-toolkit INFO     Invoking user script\n",
      "\u001b[0m\n",
      "\u001b[34mTraining Env:\n",
      "\u001b[0m\n",
      "\u001b[34m{\n",
      "    \"additional_framework_parameters\": {},\n",
      "    \"channel_input_dirs\": {\n",
      "        \"train\": \"/opt/ml/input/data/train\"\n",
      "    },\n",
      "    \"current_host\": \"algo-1\",\n",
      "    \"framework_module\": \"sagemaker_sklearn_container.training:main\",\n",
      "    \"hosts\": [\n",
      "        \"algo-1\"\n",
      "    ],\n",
      "    \"hyperparameters\": {},\n",
      "    \"input_config_dir\": \"/opt/ml/input/config\",\n",
      "    \"input_data_config\": {\n",
      "        \"train\": {\n",
      "            \"TrainingInputMode\": \"File\",\n",
      "            \"S3DistributionType\": \"FullyReplicated\",\n",
      "            \"RecordWrapperType\": \"None\"\n",
      "        }\n",
      "    },\n",
      "    \"input_dir\": \"/opt/ml/input\",\n",
      "    \"is_master\": true,\n",
      "    \"job_name\": \"sagemaker-scikit-learn-2020-12-31-11-51-27-061\",\n",
      "    \"log_level\": 20,\n",
      "    \"master_hostname\": \"algo-1\",\n",
      "    \"model_dir\": \"/opt/ml/model\",\n",
      "    \"module_dir\": \"s3://sagemaker-eu-central-1-724888201472/sagemaker-scikit-learn-2020-12-31-11-51-27-061/source/sourcedir.tar.gz\",\n",
      "    \"module_name\": \"r_train\",\n",
      "    \"network_interface_name\": \"eth0\",\n",
      "    \"num_cpus\": 4,\n",
      "    \"num_gpus\": 0,\n",
      "    \"output_data_dir\": \"/opt/ml/output/data\",\n",
      "    \"output_dir\": \"/opt/ml/output\",\n",
      "    \"output_intermediate_dir\": \"/opt/ml/output/intermediate\",\n",
      "    \"resource_config\": {\n",
      "        \"current_host\": \"algo-1\",\n",
      "        \"hosts\": [\n",
      "            \"algo-1\"\n",
      "        ],\n",
      "        \"network_interface_name\": \"eth0\"\n",
      "    },\n",
      "    \"user_entry_point\": \"r_train.py\"\u001b[0m\n",
      "\u001b[34m}\n",
      "\u001b[0m\n",
      "\u001b[34mEnvironment variables:\n",
      "\u001b[0m\n",
      "\u001b[34mSM_HOSTS=[\"algo-1\"]\u001b[0m\n",
      "\u001b[34mSM_NETWORK_INTERFACE_NAME=eth0\u001b[0m\n",
      "\u001b[34mSM_HPS={}\u001b[0m\n",
      "\u001b[34mSM_USER_ENTRY_POINT=r_train.py\u001b[0m\n",
      "\u001b[34mSM_FRAMEWORK_PARAMS={}\u001b[0m\n",
      "\u001b[34mSM_RESOURCE_CONFIG={\"current_host\":\"algo-1\",\"hosts\":[\"algo-1\"],\"network_interface_name\":\"eth0\"}\u001b[0m\n",
      "\u001b[34mSM_INPUT_DATA_CONFIG={\"train\":{\"RecordWrapperType\":\"None\",\"S3DistributionType\":\"FullyReplicated\",\"TrainingInputMode\":\"File\"}}\u001b[0m\n",
      "\u001b[34mSM_OUTPUT_DATA_DIR=/opt/ml/output/data\u001b[0m\n",
      "\u001b[34mSM_CHANNELS=[\"train\"]\u001b[0m\n",
      "\u001b[34mSM_CURRENT_HOST=algo-1\u001b[0m\n",
      "\u001b[34mSM_MODULE_NAME=r_train\u001b[0m\n",
      "\u001b[34mSM_LOG_LEVEL=20\u001b[0m\n",
      "\u001b[34mSM_FRAMEWORK_MODULE=sagemaker_sklearn_container.training:main\u001b[0m\n",
      "\u001b[34mSM_INPUT_DIR=/opt/ml/input\u001b[0m\n",
      "\u001b[34mSM_INPUT_CONFIG_DIR=/opt/ml/input/config\u001b[0m\n",
      "\u001b[34mSM_OUTPUT_DIR=/opt/ml/output\u001b[0m\n",
      "\u001b[34mSM_NUM_CPUS=4\u001b[0m\n",
      "\u001b[34mSM_NUM_GPUS=0\u001b[0m\n",
      "\u001b[34mSM_MODEL_DIR=/opt/ml/model\u001b[0m\n",
      "\u001b[34mSM_MODULE_DIR=s3://sagemaker-eu-central-1-724888201472/sagemaker-scikit-learn-2020-12-31-11-51-27-061/source/sourcedir.tar.gz\u001b[0m\n",
      "\u001b[34mSM_TRAINING_ENV={\"additional_framework_parameters\":{},\"channel_input_dirs\":{\"train\":\"/opt/ml/input/data/train\"},\"current_host\":\"algo-1\",\"framework_module\":\"sagemaker_sklearn_container.training:main\",\"hosts\":[\"algo-1\"],\"hyperparameters\":{},\"input_config_dir\":\"/opt/ml/input/config\",\"input_data_config\":{\"train\":{\"RecordWrapperType\":\"None\",\"S3DistributionType\":\"FullyReplicated\",\"TrainingInputMode\":\"File\"}},\"input_dir\":\"/opt/ml/input\",\"is_master\":true,\"job_name\":\"sagemaker-scikit-learn-2020-12-31-11-51-27-061\",\"log_level\":20,\"master_hostname\":\"algo-1\",\"model_dir\":\"/opt/ml/model\",\"module_dir\":\"s3://sagemaker-eu-central-1-724888201472/sagemaker-scikit-learn-2020-12-31-11-51-27-061/source/sourcedir.tar.gz\",\"module_name\":\"r_train\",\"network_interface_name\":\"eth0\",\"num_cpus\":4,\"num_gpus\":0,\"output_data_dir\":\"/opt/ml/output/data\",\"output_dir\":\"/opt/ml/output\",\"output_intermediate_dir\":\"/opt/ml/output/intermediate\",\"resource_config\":{\"current_host\":\"algo-1\",\"hosts\":[\"algo-1\"],\"network_interface_name\":\"eth0\"},\"user_entry_point\":\"r_train.py\"}\u001b[0m\n",
      "\u001b[34mSM_USER_ARGS=[]\u001b[0m\n",
      "\u001b[34mSM_OUTPUT_INTERMEDIATE_DIR=/opt/ml/output/intermediate\u001b[0m\n",
      "\u001b[34mSM_CHANNEL_TRAIN=/opt/ml/input/data/train\u001b[0m\n",
      "\u001b[34mPYTHONPATH=/opt/ml/code:/miniconda3/bin:/miniconda3/lib/python37.zip:/miniconda3/lib/python3.7:/miniconda3/lib/python3.7/lib-dynload:/miniconda3/lib/python3.7/site-packages\n",
      "\u001b[0m\n",
      "\u001b[34mInvoking script with the following command:\n",
      "\u001b[0m\n",
      "\u001b[34m/miniconda3/bin/python r_train.py\n",
      "\n",
      "\u001b[0m\n",
      "\n",
      "2020-12-31 11:54:26 Uploading - Uploading generated training model\n",
      "2020-12-31 11:54:26 Completed - Training job completed\n",
      "\u001b[34m2020-12-31 11:54:13,711 sagemaker-training-toolkit INFO     Reporting training SUCCESS\u001b[0m\n",
      "Training seconds: 59\n",
      "Billable seconds: 59\n",
      "CPU times: user 682 ms, sys: 31.5 ms, total: 714 ms\n",
      "Wall time: 3min 12s\n"
     ]
    }
   ],
   "source": [
    "%%time\n",
    "\n",
    "# Train your estimator on S3 training data\n",
    "r_estimator.fit({'train':data})"
   ]
  },
  {
   "cell_type": "markdown",
   "metadata": {},
   "source": [
    "### Deployment and testing\n",
    "**To test our model we will first deploy an endpoint** so we can pass in our test data. After getting the results, we make a graph using `matplotlib` and see how our model performed."
   ]
  },
  {
   "cell_type": "code",
   "execution_count": 10,
   "metadata": {},
   "outputs": [
    {
     "name": "stdout",
     "output_type": "stream",
     "text": [
      "-----------------!CPU times: user 294 ms, sys: 11.3 ms, total: 305 ms\n",
      "Wall time: 8min 32s\n"
     ]
    }
   ],
   "source": [
    "%%time\n",
    "\n",
    "# deploy your model to create a predictor\n",
    "r_predictor = r_estimator.deploy(initial_instance_count = 1, instance_type = \"ml.t2.medium\")"
   ]
  },
  {
   "cell_type": "code",
   "execution_count": 11,
   "metadata": {},
   "outputs": [],
   "source": [
    "import os\n",
    "\n",
    "# read in test data, assuming it is stored locally\n",
    "test_data = pd.read_csv(os.path.join(data_dir, \"r_test.csv\"), header=None, names=None)\n",
    "\n",
    "# labels are in the first column\n",
    "r_test_y = test_data.iloc[:,0]\n",
    "r_test_x = test_data.iloc[:,1:]"
   ]
  },
  {
   "cell_type": "code",
   "execution_count": 12,
   "metadata": {},
   "outputs": [
    {
     "data": {
      "image/png": "[encoded data removed]",
      "text/plain": [
       "<Figure size 864x432 with 1 Axes>"
      ]
     },
     "metadata": {
      "needs_background": "light"
     },
     "output_type": "display_data"
    }
   ],
   "source": [
    "import matplotlib.pyplot as plt\n",
    "\n",
    "r_predictions = r_predictor.predict(r_test_x)\n",
    "\n",
    "plt.figure(figsize=(12,6))\n",
    "plt.plot(r_predictions, label='Prediction')\n",
    "plt.plot(r_test_y,label='Actual')\n",
    "plt.title('Test results - Sklearn')\n",
    "plt.legend()\n",
    "plt.show()"
   ]
  },
  {
   "cell_type": "code",
   "execution_count": 13,
   "metadata": {},
   "outputs": [
    {
     "name": "stdout",
     "output_type": "stream",
     "text": [
      "RSME on test data: 0.10483776339089645\n"
     ]
    }
   ],
   "source": [
    "import numpy as np\n",
    "\n",
    "rmse = np.sqrt(np.square(r_predictions - r_test_y).mean())\n",
    "print('RSME on test data: '+str(rmse))"
   ]
  },
  {
   "cell_type": "markdown",
   "metadata": {},
   "source": [
    "Now **this model actually performed way better with an RSME of 0.10** than the XGBoost on predicting prices. Not only it has a curve that resembles better what actually happened in real life (on the test dataset), but the average distance to the curve is considerably lower.\n",
    "\n",
    "As always, we need to delete the endpoint created before going forward so we do not incur in additional costs."
   ]
  },
  {
   "cell_type": "code",
   "execution_count": 14,
   "metadata": {},
   "outputs": [],
   "source": [
    "# uncomment and fill in the line below!\n",
    "r_predictor.delete_endpoint()"
   ]
  },
  {
   "cell_type": "markdown",
   "metadata": {},
   "source": [
    "## Trading Signal Predictor - Classification\n",
    "\n",
    "In order **to predict trading signals, we will use a multi-class classifier** that will tell us whether we should buy (2), sell (0) or stay out (1) of the Bitcoin market. In this case, we will use `Sklearn`'s `MLPClassifier` estimator. The model defined for this task can be found on the [`c_train.py` file](c_train.py).\n",
    "\n",
    "Similar to the forecasting model used before, we start by instantiating an estimator, defining an entry point, necessary resources and an Sklean framework version, before passing in the training data."
   ]
  },
  {
   "cell_type": "code",
   "execution_count": 15,
   "metadata": {},
   "outputs": [],
   "source": [
    "from sagemaker.sklearn.estimator import SKLearn\n",
    "\n",
    "c_estimator = SKLearn(\n",
    "    role=role,\n",
    "    entry_point=\"c_train.py\",\n",
    "    source_dir=\"sklearn\",\n",
    "    instance_count=1,\n",
    "    instance_type=\"ml.c4.xlarge\",\n",
    "    framework_version='0.23-1')"
   ]
  },
  {
   "cell_type": "code",
   "execution_count": 16,
   "metadata": {},
   "outputs": [
    {
     "name": "stdout",
     "output_type": "stream",
     "text": [
      "2020-12-31 12:03:13 Starting - Starting the training job...\n",
      "2020-12-31 12:03:36 Starting - Launching requested ML instancesProfilerReport-1609416192: InProgress\n",
      "......\n",
      "2020-12-31 12:04:37 Starting - Preparing the instances for training......\n",
      "2020-12-31 12:05:38 Downloading - Downloading input data...\n",
      "2020-12-31 12:06:09 Training - Training image download completed. Training in progress..\u001b[34m2020-12-31 12:06:10,150 sagemaker-training-toolkit INFO     Imported framework sagemaker_sklearn_container.training\u001b[0m\n",
      "\u001b[34m2020-12-31 12:06:10,152 sagemaker-training-toolkit INFO     No GPUs detected (normal if no gpus installed)\u001b[0m\n",
      "\u001b[34m2020-12-31 12:06:10,171 sagemaker_sklearn_container.training INFO     Invoking user training script.\u001b[0m\n",
      "\u001b[34m2020-12-31 12:06:10,579 sagemaker-training-toolkit INFO     No GPUs detected (normal if no gpus installed)\u001b[0m\n",
      "\u001b[34m2020-12-31 12:06:16,815 sagemaker-training-toolkit INFO     No GPUs detected (normal if no gpus installed)\u001b[0m\n",
      "\u001b[34m2020-12-31 12:06:16,826 sagemaker-training-toolkit INFO     No GPUs detected (normal if no gpus installed)\u001b[0m\n",
      "\u001b[34m2020-12-31 12:06:16,836 sagemaker-training-toolkit INFO     Invoking user script\n",
      "\u001b[0m\n",
      "\u001b[34mTraining Env:\n",
      "\u001b[0m\n",
      "\u001b[34m{\n",
      "    \"additional_framework_parameters\": {},\n",
      "    \"channel_input_dirs\": {\n",
      "        \"train\": \"/opt/ml/input/data/train\"\n",
      "    },\n",
      "    \"current_host\": \"algo-1\",\n",
      "    \"framework_module\": \"sagemaker_sklearn_container.training:main\",\n",
      "    \"hosts\": [\n",
      "        \"algo-1\"\n",
      "    ],\n",
      "    \"hyperparameters\": {},\n",
      "    \"input_config_dir\": \"/opt/ml/input/config\",\n",
      "    \"input_data_config\": {\n",
      "        \"train\": {\n",
      "            \"TrainingInputMode\": \"File\",\n",
      "            \"S3DistributionType\": \"FullyReplicated\",\n",
      "            \"RecordWrapperType\": \"None\"\n",
      "        }\n",
      "    },\n",
      "    \"input_dir\": \"/opt/ml/input\",\n",
      "    \"is_master\": true,\n",
      "    \"job_name\": \"sagemaker-scikit-learn-2020-12-31-12-03-12-717\",\n",
      "    \"log_level\": 20,\n",
      "    \"master_hostname\": \"algo-1\",\n",
      "    \"model_dir\": \"/opt/ml/model\",\n",
      "    \"module_dir\": \"s3://sagemaker-eu-central-1-724888201472/sagemaker-scikit-learn-2020-12-31-12-03-12-717/source/sourcedir.tar.gz\",\n",
      "    \"module_name\": \"c_train\",\n",
      "    \"network_interface_name\": \"eth0\",\n",
      "    \"num_cpus\": 4,\n",
      "    \"num_gpus\": 0,\n",
      "    \"output_data_dir\": \"/opt/ml/output/data\",\n",
      "    \"output_dir\": \"/opt/ml/output\",\n",
      "    \"output_intermediate_dir\": \"/opt/ml/output/intermediate\",\n",
      "    \"resource_config\": {\n",
      "        \"current_host\": \"algo-1\",\n",
      "        \"hosts\": [\n",
      "            \"algo-1\"\n",
      "        ],\n",
      "        \"network_interface_name\": \"eth0\"\n",
      "    },\n",
      "    \"user_entry_point\": \"c_train.py\"\u001b[0m\n",
      "\u001b[34m}\n",
      "\u001b[0m\n",
      "\u001b[34mEnvironment variables:\n",
      "\u001b[0m\n",
      "\u001b[34mSM_HOSTS=[\"algo-1\"]\u001b[0m\n",
      "\u001b[34mSM_NETWORK_INTERFACE_NAME=eth0\u001b[0m\n",
      "\u001b[34mSM_HPS={}\u001b[0m\n",
      "\u001b[34mSM_USER_ENTRY_POINT=c_train.py\u001b[0m\n",
      "\u001b[34mSM_FRAMEWORK_PARAMS={}\u001b[0m\n",
      "\u001b[34mSM_RESOURCE_CONFIG={\"current_host\":\"algo-1\",\"hosts\":[\"algo-1\"],\"network_interface_name\":\"eth0\"}\u001b[0m\n",
      "\u001b[34mSM_INPUT_DATA_CONFIG={\"train\":{\"RecordWrapperType\":\"None\",\"S3DistributionType\":\"FullyReplicated\",\"TrainingInputMode\":\"File\"}}\u001b[0m\n",
      "\u001b[34mSM_OUTPUT_DATA_DIR=/opt/ml/output/data\u001b[0m\n",
      "\u001b[34mSM_CHANNELS=[\"train\"]\u001b[0m\n",
      "\u001b[34mSM_CURRENT_HOST=algo-1\u001b[0m\n",
      "\u001b[34mSM_MODULE_NAME=c_train\u001b[0m\n",
      "\u001b[34mSM_LOG_LEVEL=20\u001b[0m\n",
      "\u001b[34mSM_FRAMEWORK_MODULE=sagemaker_sklearn_container.training:main\u001b[0m\n",
      "\u001b[34mSM_INPUT_DIR=/opt/ml/input\u001b[0m\n",
      "\u001b[34mSM_INPUT_CONFIG_DIR=/opt/ml/input/config\u001b[0m\n",
      "\u001b[34mSM_OUTPUT_DIR=/opt/ml/output\u001b[0m\n",
      "\u001b[34mSM_NUM_CPUS=4\u001b[0m\n",
      "\u001b[34mSM_NUM_GPUS=0\u001b[0m\n",
      "\u001b[34mSM_MODEL_DIR=/opt/ml/model\u001b[0m\n",
      "\u001b[34mSM_MODULE_DIR=s3://sagemaker-eu-central-1-724888201472/sagemaker-scikit-learn-2020-12-31-12-03-12-717/source/sourcedir.tar.gz\u001b[0m\n",
      "\u001b[34mSM_TRAINING_ENV={\"additional_framework_parameters\":{},\"channel_input_dirs\":{\"train\":\"/opt/ml/input/data/train\"},\"current_host\":\"algo-1\",\"framework_module\":\"sagemaker_sklearn_container.training:main\",\"hosts\":[\"algo-1\"],\"hyperparameters\":{},\"input_config_dir\":\"/opt/ml/input/config\",\"input_data_config\":{\"train\":{\"RecordWrapperType\":\"None\",\"S3DistributionType\":\"FullyReplicated\",\"TrainingInputMode\":\"File\"}},\"input_dir\":\"/opt/ml/input\",\"is_master\":true,\"job_name\":\"sagemaker-scikit-learn-2020-12-31-12-03-12-717\",\"log_level\":20,\"master_hostname\":\"algo-1\",\"model_dir\":\"/opt/ml/model\",\"module_dir\":\"s3://sagemaker-eu-central-1-724888201472/sagemaker-scikit-learn-2020-12-31-12-03-12-717/source/sourcedir.tar.gz\",\"module_name\":\"c_train\",\"network_interface_name\":\"eth0\",\"num_cpus\":4,\"num_gpus\":0,\"output_data_dir\":\"/opt/ml/output/data\",\"output_dir\":\"/opt/ml/output\",\"output_intermediate_dir\":\"/opt/ml/output/intermediate\",\"resource_config\":{\"current_host\":\"algo-1\",\"hosts\":[\"algo-1\"],\"network_interface_name\":\"eth0\"},\"user_entry_point\":\"c_train.py\"}\u001b[0m\n",
      "\u001b[34mSM_USER_ARGS=[]\u001b[0m\n",
      "\u001b[34mSM_OUTPUT_INTERMEDIATE_DIR=/opt/ml/output/intermediate\u001b[0m\n",
      "\u001b[34mSM_CHANNEL_TRAIN=/opt/ml/input/data/train\u001b[0m\n",
      "\u001b[34mPYTHONPATH=/opt/ml/code:/miniconda3/bin:/miniconda3/lib/python37.zip:/miniconda3/lib/python3.7:/miniconda3/lib/python3.7/lib-dynload:/miniconda3/lib/python3.7/site-packages\n",
      "\u001b[0m\n",
      "\u001b[34mInvoking script with the following command:\n",
      "\u001b[0m\n",
      "\u001b[34m/miniconda3/bin/python c_train.py\n",
      "\n",
      "\u001b[0m\n",
      "\u001b[34m2020-12-31 12:06:19,187 sagemaker-training-toolkit INFO     Reporting training SUCCESS\u001b[0m\n",
      "\n",
      "2020-12-31 12:06:38 Uploading - Uploading generated training model\n",
      "2020-12-31 12:06:38 Completed - Training job completed\n",
      "Training seconds: 58\n",
      "Billable seconds: 58\n",
      "CPU times: user 675 ms, sys: 16.6 ms, total: 692 ms\n",
      "Wall time: 3min 42s\n"
     ]
    }
   ],
   "source": [
    "%%time\n",
    "\n",
    "# Train your estimator on S3 training data\n",
    "c_estimator.fit({'train':data})"
   ]
  },
  {
   "cell_type": "markdown",
   "metadata": {},
   "source": [
    "## Deployment and Testing\n",
    "\n",
    "For testing we will also deploy an estimator and pass in our test data afterwards. To evaluate results, we will take a look at the results and compute the accuracy score."
   ]
  },
  {
   "cell_type": "code",
   "execution_count": 17,
   "metadata": {},
   "outputs": [
    {
     "name": "stdout",
     "output_type": "stream",
     "text": [
      "---------------!CPU times: user 263 ms, sys: 8.4 ms, total: 271 ms\n",
      "Wall time: 7min 31s\n"
     ]
    }
   ],
   "source": [
    "%%time\n",
    "\n",
    "# deploy your model to create a predictor\n",
    "c_predictor = c_estimator.deploy(initial_instance_count = 1, instance_type = \"ml.t2.medium\")"
   ]
  },
  {
   "cell_type": "code",
   "execution_count": 18,
   "metadata": {},
   "outputs": [],
   "source": [
    "import os\n",
    "\n",
    "# read in test data, assuming it is stored locally\n",
    "test_data = pd.read_csv(os.path.join(data_dir, \"c_test.csv\"), header=None, names=None)\n",
    "\n",
    "# labels are in the first column\n",
    "c_test_y = test_data.iloc[:,0]\n",
    "c_test_x = test_data.iloc[:,1:]"
   ]
  },
  {
   "cell_type": "code",
   "execution_count": 19,
   "metadata": {},
   "outputs": [
    {
     "name": "stdout",
     "output_type": "stream",
     "text": [
      "Test passed!\n"
     ]
    }
   ],
   "source": [
    "# generate predicted, class labels\n",
    "c_predictions = c_predictor.predict(c_test_x)\n",
    "\n",
    "\n",
    "# test that model generates the correct number of labels\n",
    "assert len(c_predictions)==len(c_test_y), 'Unexpected number of predictions.'\n",
    "print('Test passed!')"
   ]
  },
  {
   "cell_type": "code",
   "execution_count": 20,
   "metadata": {},
   "outputs": [
    {
     "name": "stdout",
     "output_type": "stream",
     "text": [
      "Accuracy: 0.31494252873563217\n",
      "\n",
      "Predicted class labels: \n",
      "[0. 2. 2. 2. 2. 2. 2. 2. 0. 2. 2. 0. 0. 2. 2. 0. 2. 2. 2. 2. 2. 0. 2. 0.\n",
      " 0. 0. 2. 0. 2. 2. 2. 2. 2. 2. 2. 2. 2. 2. 2. 2. 2. 2. 2. 2. 2. 2. 0. 0.\n",
      " 0. 2. 0. 2. 0. 2. 2. 2. 2. 2. 0. 2. 0. 0. 2. 0. 0. 2. 2. 0. 2. 0. 2. 2.\n",
      " 2. 2. 2. 2. 2. 2. 2. 2. 2. 2. 2. 2. 2. 2. 2. 2. 2. 2. 2. 2. 2. 0. 0. 2.\n",
      " 0. 0. 0. 2. 2. 0. 0. 2. 0. 0. 2. 2. 2. 2. 2. 2. 2. 2. 2. 0. 0. 0. 2. 2.\n",
      " 2. 2. 2. 2. 0. 2. 2. 2. 1. 2. 2. 2. 2. 2. 2. 2. 2. 2. 2. 2. 2. 2. 2. 2.\n",
      " 2. 2. 2. 2. 2. 2. 2. 2. 2. 2. 2. 0. 0. 0. 2. 0. 2. 2. 2. 2. 2. 1. 2. 1.\n",
      " 2. 2. 2. 2. 2. 2. 2. 2. 2. 2. 2. 2. 0. 2. 2. 2. 2. 2. 2. 2. 2. 2. 1. 2.\n",
      " 2. 2. 2. 2. 2. 2. 2. 2. 2. 2. 2. 0. 2. 2. 2. 2. 2. 2. 2. 2. 2. 2. 2. 1.\n",
      " 2. 2. 2. 2. 2. 2. 2. 2. 2. 2. 2. 1. 1. 1. 0. 1. 2. 1. 1. 1. 1. 2. 1. 1.\n",
      " 1. 1. 1. 1. 1. 2. 1. 1. 1. 1. 2. 2. 1. 2. 1. 2. 1. 1. 1. 2. 1. 1. 2. 2.\n",
      " 1. 1. 1. 2. 1. 1. 1. 1. 1. 1. 1. 1. 1. 1. 1. 1. 1. 1. 1. 1. 1. 1. 1. 1.\n",
      " 1. 1. 1. 1. 1. 1. 1. 2. 1. 1. 1. 1. 1. 1. 1. 2. 2. 2. 2. 2. 2. 1. 1. 1.\n",
      " 1. 1. 1. 1. 2. 1. 1. 1. 1. 1. 1. 1. 1. 1. 1. 2. 2. 2. 1. 1. 2. 1. 1. 2.\n",
      " 1. 1. 1. 2. 2. 2. 2. 2. 2. 2. 1. 2. 1. 2. 2. 2. 2. 2. 2. 2. 2. 2. 2. 1.\n",
      " 1. 2. 2. 2. 2. 2. 2. 2. 2. 2. 2. 2. 2. 2. 2. 2. 2. 2. 1. 1. 2. 2. 2. 1.\n",
      " 2. 2. 2. 2. 2. 2. 1. 2. 2. 1. 1. 2. 2. 2. 2. 2. 2. 2. 2. 2. 2. 2. 1. 2.\n",
      " 2. 2. 2. 2. 2. 2. 2. 2. 2. 2. 2. 2. 2. 2. 2. 2. 2. 2. 2. 2. 2. 2. 2. 2.\n",
      " 2. 2. 2. 2. 2. 2. 2. 2. 2. 2. 2. 2. 2. 2. 2. 2. 1. 2. 2. 2. 2. 1. 2. 2.\n",
      " 2. 2. 2. 2. 1. 2. 2. 2. 2. 2. 1. 2. 2. 2. 2. 2. 2. 2. 2. 1. 2. 2. 1. 2.\n",
      " 2. 2. 2. 2. 2. 2. 2. 2. 2. 2. 2. 2. 2. 2. 2. 2. 2. 2. 1. 2. 2. 2. 2. 2.\n",
      " 2. 1. 2. 2. 1. 1. 2. 1. 2. 2. 1. 2. 2. 2. 2. 2. 2. 1. 2. 2. 2. 2. 2. 2.\n",
      " 2. 1. 2. 2. 2. 2. 2. 2. 2. 2. 2. 2. 2. 2. 2. 2. 2. 2. 2. 2. 2. 1. 2. 2.\n",
      " 2. 2. 2. 1. 1. 2. 2. 2. 2. 2. 2. 2. 2. 2. 2. 2. 2. 2. 2. 2. 2. 2. 2. 2.\n",
      " 2. 2. 2. 2. 2. 2. 2. 2. 2. 2. 2. 2. 2. 2. 2. 2. 2. 2. 2. 2. 2. 2. 2. 2.\n",
      " 2. 1. 2. 2. 2. 2. 2. 2. 2. 2. 2. 2. 2. 2. 2. 2. 2. 2. 2. 2. 2. 2. 2. 2.\n",
      " 2. 2. 2. 2. 2. 2. 2. 2. 2. 1. 1. 1. 1. 1. 1. 1. 1. 1. 1. 1. 1. 1. 1. 1.\n",
      " 1. 1. 1. 1. 1. 1. 1. 1. 2. 1. 1. 1. 1. 1. 1. 1. 1. 2. 1. 1. 1. 1. 2. 2.\n",
      " 1. 1. 2. 1. 2. 1. 2. 1. 1. 1. 2. 2. 1. 1. 1. 2. 2. 2. 1. 1. 2. 1. 1. 1.\n",
      " 1. 1. 1. 1. 2. 2. 1. 1. 2. 1. 1. 2. 1. 2. 2. 2. 2. 1. 1. 1. 1. 1. 1. 1.\n",
      " 1. 1. 2. 2. 1. 1. 1. 1. 1. 1. 1. 1. 1. 1. 2. 1. 1. 1. 1. 1. 1. 1. 1. 1.\n",
      " 1. 1. 1. 2. 2. 2. 2. 2. 2. 2. 2. 2. 2. 2. 2. 2. 2. 2. 1. 2. 2. 2. 2. 2.\n",
      " 2. 2. 2. 2. 2. 2. 2. 2. 2. 2. 2. 2. 2. 2. 2. 2. 2. 2. 2. 2. 2. 2. 2. 2.\n",
      " 2. 2. 2. 2. 2. 1. 2. 1. 2. 2. 2. 2. 2. 1. 2. 2. 1. 2. 2. 2. 2. 2. 2. 2.\n",
      " 1. 2. 2. 2. 2. 2. 2. 2. 2. 2. 2. 2. 2. 2. 2. 2. 2. 2. 2. 2. 2. 2. 2. 2.\n",
      " 2. 2. 2. 2. 2. 2. 2. 2. 2. 2. 2. 2. 2. 2. 2. 2. 2. 2. 2. 2. 2. 2. 2. 2.\n",
      " 2. 2. 2. 2. 2. 2.]\n",
      "\n",
      "True class labels: \n",
      "[2. 1. 2. 2. 0. 0. 2. 0. 2. 1. 0. 0. 2. 1. 0. 1. 2. 1. 1. 1. 0. 1. 0. 0.\n",
      " 0. 2. 0. 2. 2. 1. 0. 2. 2. 1. 2. 1. 0. 0. 2. 1. 2. 0. 2. 1. 2. 0. 0. 0.\n",
      " 1. 0. 1. 0. 1. 1. 2. 2. 1. 0. 1. 0. 0. 1. 0. 0. 2. 2. 0. 1. 0. 1. 1. 1.\n",
      " 2. 1. 1. 0. 2. 1. 2. 1. 2. 0. 2. 0. 2. 1. 1. 2. 1. 0. 0. 1. 0. 0. 2. 0.\n",
      " 0. 0. 1. 1. 0. 0. 1. 0. 0. 2. 1. 1. 1. 1. 1. 1. 1. 1. 0. 0. 0. 2. 0. 2.\n",
      " 1. 1. 1. 0. 2. 0. 1. 0. 2. 2. 1. 1. 1. 1. 1. 0. 1. 0. 1. 2. 2. 1. 1. 0.\n",
      " 2. 2. 0. 0. 2. 1. 0. 0. 1. 0. 0. 0. 0. 2. 0. 1. 0. 1. 1. 2. 0. 2. 0. 2.\n",
      " 2. 2. 2. 1. 1. 1. 2. 1. 0. 0. 1. 0. 1. 1. 2. 1. 0. 1. 1. 1. 2. 0. 0. 1.\n",
      " 2. 1. 1. 1. 1. 1. 1. 1. 1. 1. 0. 1. 2. 1. 1. 1. 1. 1. 1. 1. 1. 1. 0. 1.\n",
      " 1. 1. 1. 1. 1. 1. 1. 1. 1. 1. 0. 0. 1. 0. 0. 2. 0. 1. 0. 1. 2. 1. 0. 0.\n",
      " 1. 0. 0. 0. 2. 0. 1. 0. 0. 2. 2. 1. 2. 0. 2. 0. 1. 0. 2. 1. 0. 2. 2. 0.\n",
      " 1. 1. 2. 1. 1. 0. 1. 1. 1. 0. 1. 1. 1. 1. 0. 1. 1. 1. 1. 1. 0. 1. 1. 1.\n",
      " 1. 1. 1. 1. 0. 1. 2. 1. 1. 1. 1. 1. 1. 1. 2. 1. 1. 1. 1. 1. 0. 1. 1. 1.\n",
      " 1. 1. 0. 2. 1. 1. 1. 1. 1. 1. 1. 1. 1. 1. 1. 1. 1. 0. 1. 1. 0. 1. 2. 1.\n",
      " 1. 1. 1. 2. 1. 1. 2. 1. 2. 0. 1. 0. 1. 1. 1. 2. 1. 1. 1. 1. 1. 2. 0. 0.\n",
      " 1. 1. 1. 1. 1. 1. 2. 1. 1. 1. 2. 2. 2. 1. 2. 1. 2. 0. 0. 1. 2. 1. 0. 2.\n",
      " 1. 1. 2. 1. 1. 0. 2. 1. 0. 0. 1. 1. 2. 1. 1. 1. 2. 1. 2. 1. 2. 0. 1. 2.\n",
      " 2. 1. 2. 2. 2. 0. 2. 1. 0. 1. 2. 0. 0. 1. 2. 2. 0. 0. 2. 1. 0. 0. 1. 2.\n",
      " 1. 1. 0. 0. 1. 1. 1. 1. 0. 1. 2. 2. 1. 1. 2. 0. 2. 1. 1. 1. 0. 0. 0. 2.\n",
      " 1. 1. 2. 0. 0. 1. 2. 1. 1. 0. 0. 0. 1. 1. 2. 2. 1. 1. 0. 1. 1. 0. 1. 1.\n",
      " 1. 1. 1. 1. 1. 1. 1. 1. 0. 0. 0. 0. 1. 1. 1. 1. 1. 0. 1. 1. 1. 1. 2. 1.\n",
      " 0. 1. 1. 0. 0. 1. 0. 1. 2. 0. 0. 1. 2. 1. 2. 1. 0. 1. 1. 1. 1. 1. 1. 1.\n",
      " 0. 1. 1. 1. 1. 1. 0. 1. 0. 1. 0. 0. 0. 1. 0. 1. 2. 1. 2. 1. 0. 1. 1. 2.\n",
      " 1. 1. 0. 0. 1. 1. 1. 1. 0. 0. 2. 1. 1. 1. 1. 1. 1. 1. 1. 1. 1. 1. 1. 0.\n",
      " 2. 1. 2. 2. 1. 0. 2. 1. 1. 2. 1. 1. 2. 1. 0. 1. 1. 0. 1. 1. 2. 2. 1. 1.\n",
      " 0. 1. 1. 1. 2. 1. 1. 1. 1. 2. 1. 1. 1. 1. 0. 2. 0. 1. 1. 1. 1. 0. 0. 1.\n",
      " 1. 1. 1. 1. 1. 2. 1. 1. 0. 1. 1. 0. 2. 1. 0. 2. 1. 2. 1. 1. 2. 2. 1. 1.\n",
      " 0. 1. 1. 1. 2. 2. 1. 2. 1. 1. 1. 0. 1. 1. 1. 0. 2. 1. 1. 0. 1. 2. 2. 1.\n",
      " 1. 2. 1. 2. 0. 2. 1. 1. 1. 2. 2. 1. 1. 0. 2. 2. 2. 0. 1. 2. 1. 0. 0. 1.\n",
      " 1. 0. 1. 2. 2. 1. 1. 2. 0. 1. 1. 0. 1. 1. 1. 1. 0. 1. 1. 1. 1. 1. 1. 1.\n",
      " 1. 2. 1. 0. 1. 1. 1. 1. 1. 1. 1. 1. 1. 2. 1. 1. 0. 1. 1. 1. 1. 1. 1. 1.\n",
      " 1. 1. 2. 1. 1. 1. 1. 2. 1. 1. 1. 1. 1. 1. 1. 2. 1. 0. 1. 2. 0. 1. 1. 1.\n",
      " 1. 2. 0. 0. 1. 0. 1. 1. 0. 1. 0. 1. 1. 1. 2. 0. 0. 2. 1. 0. 1. 1. 1. 2.\n",
      " 1. 1. 1. 1. 0. 1. 0. 2. 1. 1. 1. 1. 0. 1. 1. 0. 1. 1. 1. 2. 1. 1. 1. 0.\n",
      " 2. 1. 2. 1. 1. 1. 2. 0. 1. 1. 1. 2. 1. 2. 1. 0. 1. 2. 2. 1. 2. 2. 1. 1.\n",
      " 2. 0. 2. 0. 0. 1. 2. 0. 1. 1. 0. 1. 1. 1. 1. 1. 1. 1. 1. 1. 1. 1. 1. 1.\n",
      " 1. 1. 1. 1. 1. 2.]\n"
     ]
    }
   ],
   "source": [
    "# compute the accuracy\n",
    "\n",
    "from sklearn.metrics import accuracy_score, precision_score, recall_score\n",
    "\n",
    "accuracy = accuracy_score(c_test_y, c_predictions)\n",
    "\n",
    "print(f'Accuracy: {accuracy}')\n",
    "\n",
    "print('\\nPredicted class labels: ')\n",
    "print(c_predictions)\n",
    "print('\\nTrue class labels: ')\n",
    "print(c_test_y.values)"
   ]
  },
  {
   "cell_type": "markdown",
   "metadata": {},
   "source": [
    "After having a look at the results, we can see that **we are getting low accuracy results (31%), but nevertheless they seem more logical than XGBoost**, since it is actually classifying on the test dataset instead of recommending one label for it all. While this is not ideal, both results migh be signalling us that the models and hyperparameters taken before were not the issue, and the problem might be on the feedin data set, which might contain a certain bias. Considering that Bitcoin has had a price surge of >10.000% in the last years, and during our data preprocessing we saw that it is more likely that the price goes up than down, it is not a surprise that the model ended up being somewhat biased for a buy signal.\n",
    "\n",
    "As always, we shouldn't forget to delete the deployed endpoints to avoid incurring in additional costs."
   ]
  },
  {
   "cell_type": "code",
   "execution_count": 21,
   "metadata": {},
   "outputs": [],
   "source": [
    "c_predictor.delete_endpoint()"
   ]
  },
  {
   "cell_type": "markdown",
   "metadata": {},
   "source": [
    "# Conclusions\n",
    "\n",
    "- With the PCA model, we could **reduce the dimensionality of the original dataset from 27 to 6 features**, preserving more than 90% of the variance.\n",
    "- When forecasting Bitcoin prices, **sklearn's neural network performed better than XGBoost**, both visually (similarity of the curve) and also on the root mean square error on the testing data set (0.10 vs 0.15).\n",
    "- When predicting trading signals using multi-class classification, **both models resulted in low accuracy (31-60%)**. In case of the XGBoost it returns buy signals throughout the whole test data set, while the neural network is more biased to the buy signal. This might be due to a natural bias of the feed-in data set, since in historical data Bitcoin shows a higher tendency to have positive daily returns, plus a cumulated price surge of >10.000% over the last 10 years. In future studies, shuffling the dataset before training and validating could maybe improve results."
   ]
  }
 ],
 "metadata": {
  "kernelspec": {
   "display_name": "conda_amazonei_mxnet_p36",
   "language": "python",
   "name": "conda_amazonei_mxnet_p36"
  },
  "language_info": {
   "codemirror_mode": {
    "name": "ipython",
    "version": 3
   },
   "file_extension": ".py",
   "mimetype": "text/x-python",
   "name": "python",
   "nbconvert_exporter": "python",
   "pygments_lexer": "ipython3",
   "version": "3.6.10"
  }
 },
 "nbformat": 4,
 "nbformat_minor": 4
}
